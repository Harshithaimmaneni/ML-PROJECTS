{
 "cells": [
  {
   "cell_type": "markdown",
   "id": "d4cc7353",
   "metadata": {},
   "source": [
    "# Loan_Status Prediction"
   ]
  },
  {
   "cell_type": "code",
   "execution_count": 170,
   "id": "6b2d05dd",
   "metadata": {},
   "outputs": [],
   "source": [
    "import pandas as pd\n",
    "import numpy as np\n",
    "import matplotlib.pyplot as plt\n",
    "from sklearn.impute import KNNImputer\n",
    "import warnings\n",
    "warnings.filterwarnings('ignore')"
   ]
  },
  {
   "cell_type": "code",
   "execution_count": 171,
   "id": "0ed7390a",
   "metadata": {},
   "outputs": [],
   "source": [
    "data = pd.read_csv(\"Loans - Training Set.csv\")"
   ]
  },
  {
   "cell_type": "code",
   "execution_count": 172,
   "id": "5c239d27",
   "metadata": {},
   "outputs": [
    {
     "data": {
      "text/html": [
       "<div>\n",
       "<style scoped>\n",
       "    .dataframe tbody tr th:only-of-type {\n",
       "        vertical-align: middle;\n",
       "    }\n",
       "\n",
       "    .dataframe tbody tr th {\n",
       "        vertical-align: top;\n",
       "    }\n",
       "\n",
       "    .dataframe thead th {\n",
       "        text-align: right;\n",
       "    }\n",
       "</style>\n",
       "<table border=\"1\" class=\"dataframe\">\n",
       "  <thead>\n",
       "    <tr style=\"text-align: right;\">\n",
       "      <th></th>\n",
       "      <th>Loan ID</th>\n",
       "      <th>Customer ID</th>\n",
       "      <th>Loan Status</th>\n",
       "      <th>Current Loan Amount</th>\n",
       "      <th>Term</th>\n",
       "      <th>Credit Score</th>\n",
       "      <th>Years in current job</th>\n",
       "      <th>Home Ownership</th>\n",
       "      <th>Annual Income</th>\n",
       "      <th>Purpose</th>\n",
       "      <th>Monthly Debt</th>\n",
       "      <th>Years of Credit History</th>\n",
       "      <th>Months since last delinquent</th>\n",
       "      <th>Number of Open Accounts</th>\n",
       "      <th>Number of Credit Problems</th>\n",
       "      <th>Current Credit Balance</th>\n",
       "      <th>Maximum Open Credit</th>\n",
       "      <th>Bankruptcies</th>\n",
       "      <th>Tax Liens</th>\n",
       "    </tr>\n",
       "  </thead>\n",
       "  <tbody>\n",
       "    <tr>\n",
       "      <th>0</th>\n",
       "      <td>6cf51492-02a2-423e-b93d-676f05b9ad53</td>\n",
       "      <td>7c202b37-2add-44e8-9aea-d5b119aea935</td>\n",
       "      <td>Charged Off</td>\n",
       "      <td>12232</td>\n",
       "      <td>Short Term</td>\n",
       "      <td>7280.0</td>\n",
       "      <td>&lt; 1 year</td>\n",
       "      <td>Rent</td>\n",
       "      <td>46643.0</td>\n",
       "      <td>Debt Consolidation</td>\n",
       "      <td>777.39</td>\n",
       "      <td>18.0</td>\n",
       "      <td>10.0</td>\n",
       "      <td>12</td>\n",
       "      <td>0</td>\n",
       "      <td>6762</td>\n",
       "      <td>7946</td>\n",
       "      <td>0.0</td>\n",
       "      <td>0.0</td>\n",
       "    </tr>\n",
       "    <tr>\n",
       "      <th>1</th>\n",
       "      <td>552e7ade-4292-4354-9ff9-c48031697d72</td>\n",
       "      <td>e7217b0a-07ac-47dd-b379-577b5a35b7c6</td>\n",
       "      <td>Charged Off</td>\n",
       "      <td>25014</td>\n",
       "      <td>Long Term</td>\n",
       "      <td>7330.0</td>\n",
       "      <td>10+ years</td>\n",
       "      <td>Home Mortgage</td>\n",
       "      <td>81099.0</td>\n",
       "      <td>Debt Consolidation</td>\n",
       "      <td>892.09</td>\n",
       "      <td>26.7</td>\n",
       "      <td>NaN</td>\n",
       "      <td>14</td>\n",
       "      <td>0</td>\n",
       "      <td>35706</td>\n",
       "      <td>77961</td>\n",
       "      <td>0.0</td>\n",
       "      <td>0.0</td>\n",
       "    </tr>\n",
       "    <tr>\n",
       "      <th>2</th>\n",
       "      <td>9b5e32b3-8d76-4801-afc8-d729d5a2e6b9</td>\n",
       "      <td>0a62fc41-16c8-40b5-92ff-9e4b763ce714</td>\n",
       "      <td>Charged Off</td>\n",
       "      <td>16117</td>\n",
       "      <td>Short Term</td>\n",
       "      <td>7240.0</td>\n",
       "      <td>9 years</td>\n",
       "      <td>Home Mortgage</td>\n",
       "      <td>60438.0</td>\n",
       "      <td>Home Improvements</td>\n",
       "      <td>1244.02</td>\n",
       "      <td>16.7</td>\n",
       "      <td>32.0</td>\n",
       "      <td>11</td>\n",
       "      <td>1</td>\n",
       "      <td>11275</td>\n",
       "      <td>14815</td>\n",
       "      <td>1.0</td>\n",
       "      <td>0.0</td>\n",
       "    </tr>\n",
       "    <tr>\n",
       "      <th>3</th>\n",
       "      <td>5419b7c7-ac11-4be2-a8a7-b131fb6d6dbe</td>\n",
       "      <td>30f36c59-5182-4482-8bbb-5b736849ae43</td>\n",
       "      <td>Charged Off</td>\n",
       "      <td>11716</td>\n",
       "      <td>Short Term</td>\n",
       "      <td>7400.0</td>\n",
       "      <td>3 years</td>\n",
       "      <td>Rent</td>\n",
       "      <td>34171.0</td>\n",
       "      <td>Debt Consolidation</td>\n",
       "      <td>990.94</td>\n",
       "      <td>10.0</td>\n",
       "      <td>NaN</td>\n",
       "      <td>21</td>\n",
       "      <td>0</td>\n",
       "      <td>7009</td>\n",
       "      <td>43533</td>\n",
       "      <td>0.0</td>\n",
       "      <td>0.0</td>\n",
       "    </tr>\n",
       "    <tr>\n",
       "      <th>4</th>\n",
       "      <td>1450910f-9495-4fc9-afaf-9bdf4b9821df</td>\n",
       "      <td>70c26012-bba5-42c0-8dcb-75295ada31bb</td>\n",
       "      <td>Charged Off</td>\n",
       "      <td>9789</td>\n",
       "      <td>Long Term</td>\n",
       "      <td>6860.0</td>\n",
       "      <td>10+ years</td>\n",
       "      <td>Home Mortgage</td>\n",
       "      <td>47003.0</td>\n",
       "      <td>Home Improvements</td>\n",
       "      <td>503.71</td>\n",
       "      <td>16.7</td>\n",
       "      <td>25.0</td>\n",
       "      <td>13</td>\n",
       "      <td>1</td>\n",
       "      <td>16913</td>\n",
       "      <td>19553</td>\n",
       "      <td>1.0</td>\n",
       "      <td>0.0</td>\n",
       "    </tr>\n",
       "  </tbody>\n",
       "</table>\n",
       "</div>"
      ],
      "text/plain": [
       "                                Loan ID                           Customer ID  \\\n",
       "0  6cf51492-02a2-423e-b93d-676f05b9ad53  7c202b37-2add-44e8-9aea-d5b119aea935   \n",
       "1  552e7ade-4292-4354-9ff9-c48031697d72  e7217b0a-07ac-47dd-b379-577b5a35b7c6   \n",
       "2  9b5e32b3-8d76-4801-afc8-d729d5a2e6b9  0a62fc41-16c8-40b5-92ff-9e4b763ce714   \n",
       "3  5419b7c7-ac11-4be2-a8a7-b131fb6d6dbe  30f36c59-5182-4482-8bbb-5b736849ae43   \n",
       "4  1450910f-9495-4fc9-afaf-9bdf4b9821df  70c26012-bba5-42c0-8dcb-75295ada31bb   \n",
       "\n",
       "   Loan Status  Current Loan Amount        Term  Credit Score  \\\n",
       "0  Charged Off                12232  Short Term        7280.0   \n",
       "1  Charged Off                25014   Long Term        7330.0   \n",
       "2  Charged Off                16117  Short Term        7240.0   \n",
       "3  Charged Off                11716  Short Term        7400.0   \n",
       "4  Charged Off                 9789   Long Term        6860.0   \n",
       "\n",
       "  Years in current job Home Ownership  Annual Income             Purpose  \\\n",
       "0             < 1 year           Rent        46643.0  Debt Consolidation   \n",
       "1            10+ years  Home Mortgage        81099.0  Debt Consolidation   \n",
       "2              9 years  Home Mortgage        60438.0   Home Improvements   \n",
       "3              3 years           Rent        34171.0  Debt Consolidation   \n",
       "4            10+ years  Home Mortgage        47003.0   Home Improvements   \n",
       "\n",
       "  Monthly Debt  Years of Credit History  Months since last delinquent  \\\n",
       "0       777.39                     18.0                          10.0   \n",
       "1       892.09                     26.7                           NaN   \n",
       "2      1244.02                     16.7                          32.0   \n",
       "3       990.94                     10.0                           NaN   \n",
       "4       503.71                     16.7                          25.0   \n",
       "\n",
       "   Number of Open Accounts  Number of Credit Problems  Current Credit Balance  \\\n",
       "0                       12                          0                    6762   \n",
       "1                       14                          0                   35706   \n",
       "2                       11                          1                   11275   \n",
       "3                       21                          0                    7009   \n",
       "4                       13                          1                   16913   \n",
       "\n",
       "  Maximum Open Credit  Bankruptcies  Tax Liens  \n",
       "0                7946           0.0        0.0  \n",
       "1               77961           0.0        0.0  \n",
       "2               14815           1.0        0.0  \n",
       "3               43533           0.0        0.0  \n",
       "4               19553           1.0        0.0  "
      ]
     },
     "execution_count": 172,
     "metadata": {},
     "output_type": "execute_result"
    }
   ],
   "source": [
    "data.head()"
   ]
  },
  {
   "cell_type": "code",
   "execution_count": 173,
   "id": "a872f443",
   "metadata": {},
   "outputs": [
    {
     "data": {
      "text/plain": [
       "(111107, 19)"
      ]
     },
     "execution_count": 173,
     "metadata": {},
     "output_type": "execute_result"
    }
   ],
   "source": [
    "# data has 19 columns\n",
    "data.shape"
   ]
  },
  {
   "cell_type": "code",
   "execution_count": 174,
   "id": "e2d763d8",
   "metadata": {},
   "outputs": [
    {
     "data": {
      "text/plain": [
       "Loan ID                          0.000000\n",
       "Customer ID                      0.000000\n",
       "Loan Status                      0.000000\n",
       "Current Loan Amount              0.000000\n",
       "Term                             0.000000\n",
       "Credit Score                    19.204911\n",
       "Years in current job             4.223856\n",
       "Home Ownership                   0.000000\n",
       "Annual Income                   19.204911\n",
       "Purpose                          0.000000\n",
       "Monthly Debt                     0.000000\n",
       "Years of Credit History          0.000000\n",
       "Months since last delinquent    53.104665\n",
       "Number of Open Accounts          0.000000\n",
       "Number of Credit Problems        0.000000\n",
       "Current Credit Balance           0.000000\n",
       "Maximum Open Credit              0.000000\n",
       "Bankruptcies                     0.205208\n",
       "Tax Liens                        0.009900\n",
       "dtype: float64"
      ]
     },
     "execution_count": 174,
     "metadata": {},
     "output_type": "execute_result"
    }
   ],
   "source": [
    "# percentage of null values in columns\n",
    "data.isnull().sum()/data.shape[0]*100"
   ]
  },
  {
   "cell_type": "code",
   "execution_count": 175,
   "id": "12aeee60",
   "metadata": {},
   "outputs": [
    {
     "data": {
      "text/html": [
       "<div>\n",
       "<style scoped>\n",
       "    .dataframe tbody tr th:only-of-type {\n",
       "        vertical-align: middle;\n",
       "    }\n",
       "\n",
       "    .dataframe tbody tr th {\n",
       "        vertical-align: top;\n",
       "    }\n",
       "\n",
       "    .dataframe thead th {\n",
       "        text-align: right;\n",
       "    }\n",
       "</style>\n",
       "<table border=\"1\" class=\"dataframe\">\n",
       "  <thead>\n",
       "    <tr style=\"text-align: right;\">\n",
       "      <th></th>\n",
       "      <th>Current Loan Amount</th>\n",
       "      <th>Credit Score</th>\n",
       "      <th>Annual Income</th>\n",
       "      <th>Years of Credit History</th>\n",
       "      <th>Months since last delinquent</th>\n",
       "      <th>Number of Open Accounts</th>\n",
       "      <th>Number of Credit Problems</th>\n",
       "      <th>Current Credit Balance</th>\n",
       "      <th>Bankruptcies</th>\n",
       "      <th>Tax Liens</th>\n",
       "    </tr>\n",
       "  </thead>\n",
       "  <tbody>\n",
       "    <tr>\n",
       "      <th>count</th>\n",
       "      <td>1.111070e+05</td>\n",
       "      <td>89769.000000</td>\n",
       "      <td>8.976900e+04</td>\n",
       "      <td>111107.000000</td>\n",
       "      <td>52104.000000</td>\n",
       "      <td>111107.000000</td>\n",
       "      <td>111107.000000</td>\n",
       "      <td>1.111070e+05</td>\n",
       "      <td>110879.00000</td>\n",
       "      <td>111096.000000</td>\n",
       "    </tr>\n",
       "    <tr>\n",
       "      <th>mean</th>\n",
       "      <td>1.147718e+07</td>\n",
       "      <td>1075.795029</td>\n",
       "      <td>7.248600e+04</td>\n",
       "      <td>18.201003</td>\n",
       "      <td>34.902272</td>\n",
       "      <td>11.125105</td>\n",
       "      <td>0.168027</td>\n",
       "      <td>1.548314e+04</td>\n",
       "      <td>0.11766</td>\n",
       "      <td>0.029353</td>\n",
       "    </tr>\n",
       "    <tr>\n",
       "      <th>std</th>\n",
       "      <td>3.185508e+07</td>\n",
       "      <td>1474.133505</td>\n",
       "      <td>5.593094e+04</td>\n",
       "      <td>7.014495</td>\n",
       "      <td>21.970696</td>\n",
       "      <td>5.010267</td>\n",
       "      <td>0.484212</td>\n",
       "      <td>1.982115e+04</td>\n",
       "      <td>0.35142</td>\n",
       "      <td>0.260575</td>\n",
       "    </tr>\n",
       "    <tr>\n",
       "      <th>min</th>\n",
       "      <td>4.910000e+02</td>\n",
       "      <td>585.000000</td>\n",
       "      <td>4.033000e+03</td>\n",
       "      <td>3.600000</td>\n",
       "      <td>0.000000</td>\n",
       "      <td>0.000000</td>\n",
       "      <td>0.000000</td>\n",
       "      <td>0.000000e+00</td>\n",
       "      <td>0.00000</td>\n",
       "      <td>0.000000</td>\n",
       "    </tr>\n",
       "    <tr>\n",
       "      <th>25%</th>\n",
       "      <td>8.162000e+03</td>\n",
       "      <td>705.000000</td>\n",
       "      <td>4.468800e+04</td>\n",
       "      <td>13.500000</td>\n",
       "      <td>16.000000</td>\n",
       "      <td>8.000000</td>\n",
       "      <td>0.000000</td>\n",
       "      <td>5.905000e+03</td>\n",
       "      <td>0.00000</td>\n",
       "      <td>0.000000</td>\n",
       "    </tr>\n",
       "    <tr>\n",
       "      <th>50%</th>\n",
       "      <td>1.418300e+04</td>\n",
       "      <td>724.000000</td>\n",
       "      <td>6.175200e+04</td>\n",
       "      <td>16.900000</td>\n",
       "      <td>32.000000</td>\n",
       "      <td>10.000000</td>\n",
       "      <td>0.000000</td>\n",
       "      <td>1.102700e+04</td>\n",
       "      <td>0.00000</td>\n",
       "      <td>0.000000</td>\n",
       "    </tr>\n",
       "    <tr>\n",
       "      <th>75%</th>\n",
       "      <td>2.382200e+04</td>\n",
       "      <td>741.000000</td>\n",
       "      <td>8.688700e+04</td>\n",
       "      <td>21.700000</td>\n",
       "      <td>51.000000</td>\n",
       "      <td>14.000000</td>\n",
       "      <td>0.000000</td>\n",
       "      <td>1.933800e+04</td>\n",
       "      <td>0.00000</td>\n",
       "      <td>0.000000</td>\n",
       "    </tr>\n",
       "    <tr>\n",
       "      <th>max</th>\n",
       "      <td>1.000000e+08</td>\n",
       "      <td>7510.000000</td>\n",
       "      <td>8.713547e+06</td>\n",
       "      <td>70.500000</td>\n",
       "      <td>176.000000</td>\n",
       "      <td>76.000000</td>\n",
       "      <td>15.000000</td>\n",
       "      <td>1.730472e+06</td>\n",
       "      <td>7.00000</td>\n",
       "      <td>15.000000</td>\n",
       "    </tr>\n",
       "  </tbody>\n",
       "</table>\n",
       "</div>"
      ],
      "text/plain": [
       "       Current Loan Amount  Credit Score  Annual Income  \\\n",
       "count         1.111070e+05  89769.000000   8.976900e+04   \n",
       "mean          1.147718e+07   1075.795029   7.248600e+04   \n",
       "std           3.185508e+07   1474.133505   5.593094e+04   \n",
       "min           4.910000e+02    585.000000   4.033000e+03   \n",
       "25%           8.162000e+03    705.000000   4.468800e+04   \n",
       "50%           1.418300e+04    724.000000   6.175200e+04   \n",
       "75%           2.382200e+04    741.000000   8.688700e+04   \n",
       "max           1.000000e+08   7510.000000   8.713547e+06   \n",
       "\n",
       "       Years of Credit History  Months since last delinquent  \\\n",
       "count            111107.000000                  52104.000000   \n",
       "mean                 18.201003                     34.902272   \n",
       "std                   7.014495                     21.970696   \n",
       "min                   3.600000                      0.000000   \n",
       "25%                  13.500000                     16.000000   \n",
       "50%                  16.900000                     32.000000   \n",
       "75%                  21.700000                     51.000000   \n",
       "max                  70.500000                    176.000000   \n",
       "\n",
       "       Number of Open Accounts  Number of Credit Problems  \\\n",
       "count            111107.000000              111107.000000   \n",
       "mean                 11.125105                   0.168027   \n",
       "std                   5.010267                   0.484212   \n",
       "min                   0.000000                   0.000000   \n",
       "25%                   8.000000                   0.000000   \n",
       "50%                  10.000000                   0.000000   \n",
       "75%                  14.000000                   0.000000   \n",
       "max                  76.000000                  15.000000   \n",
       "\n",
       "       Current Credit Balance  Bankruptcies      Tax Liens  \n",
       "count            1.111070e+05  110879.00000  111096.000000  \n",
       "mean             1.548314e+04       0.11766       0.029353  \n",
       "std              1.982115e+04       0.35142       0.260575  \n",
       "min              0.000000e+00       0.00000       0.000000  \n",
       "25%              5.905000e+03       0.00000       0.000000  \n",
       "50%              1.102700e+04       0.00000       0.000000  \n",
       "75%              1.933800e+04       0.00000       0.000000  \n",
       "max              1.730472e+06       7.00000      15.000000  "
      ]
     },
     "execution_count": 175,
     "metadata": {},
     "output_type": "execute_result"
    }
   ],
   "source": [
    "data.describe()"
   ]
  },
  {
   "cell_type": "code",
   "execution_count": 176,
   "id": "92965c02",
   "metadata": {},
   "outputs": [
    {
     "name": "stdout",
     "output_type": "stream",
     "text": [
      "<class 'pandas.core.frame.DataFrame'>\n",
      "RangeIndex: 111107 entries, 0 to 111106\n",
      "Data columns (total 19 columns):\n",
      " #   Column                        Non-Null Count   Dtype  \n",
      "---  ------                        --------------   -----  \n",
      " 0   Loan ID                       111107 non-null  object \n",
      " 1   Customer ID                   111107 non-null  object \n",
      " 2   Loan Status                   111107 non-null  object \n",
      " 3   Current Loan Amount           111107 non-null  int64  \n",
      " 4   Term                          111107 non-null  object \n",
      " 5   Credit Score                  89769 non-null   float64\n",
      " 6   Years in current job          106414 non-null  object \n",
      " 7   Home Ownership                111107 non-null  object \n",
      " 8   Annual Income                 89769 non-null   float64\n",
      " 9   Purpose                       111107 non-null  object \n",
      " 10  Monthly Debt                  111107 non-null  object \n",
      " 11  Years of Credit History       111107 non-null  float64\n",
      " 12  Months since last delinquent  52104 non-null   float64\n",
      " 13  Number of Open Accounts       111107 non-null  int64  \n",
      " 14  Number of Credit Problems     111107 non-null  int64  \n",
      " 15  Current Credit Balance        111107 non-null  int64  \n",
      " 16  Maximum Open Credit           111107 non-null  object \n",
      " 17  Bankruptcies                  110879 non-null  float64\n",
      " 18  Tax Liens                     111096 non-null  float64\n",
      "dtypes: float64(6), int64(4), object(9)\n",
      "memory usage: 16.1+ MB\n"
     ]
    }
   ],
   "source": [
    "data.info()"
   ]
  },
  {
   "cell_type": "code",
   "execution_count": 177,
   "id": "9545b007",
   "metadata": {},
   "outputs": [],
   "source": [
    "# removing $ sign from monthly debt & Maximum Open Credit\n",
    "data[\"Monthly Debt\"] = data[\"Monthly Debt\"].replace({\"\\$\":\"\"},regex=True)\n",
    "data[\"Maximum Open Credit\"] = data[\"Maximum Open Credit\"].replace({\"\\$\":\"\"},regex=True)"
   ]
  },
  {
   "cell_type": "code",
   "execution_count": 178,
   "id": "242a050a",
   "metadata": {},
   "outputs": [],
   "source": [
    "# now changing the datatype to integer\n",
    "data['Monthly Debt'] = pd.to_numeric(data['Monthly Debt'])\n",
    "data['Maximum Open Credit'] = pd.to_numeric(data['Maximum Open Credit'],errors=\"coerce\")"
   ]
  },
  {
   "cell_type": "code",
   "execution_count": 179,
   "id": "2b6d6d7c",
   "metadata": {},
   "outputs": [
    {
     "name": "stdout",
     "output_type": "stream",
     "text": [
      "<class 'pandas.core.frame.DataFrame'>\n",
      "RangeIndex: 111107 entries, 0 to 111106\n",
      "Data columns (total 19 columns):\n",
      " #   Column                        Non-Null Count   Dtype  \n",
      "---  ------                        --------------   -----  \n",
      " 0   Loan ID                       111107 non-null  object \n",
      " 1   Customer ID                   111107 non-null  object \n",
      " 2   Loan Status                   111107 non-null  object \n",
      " 3   Current Loan Amount           111107 non-null  int64  \n",
      " 4   Term                          111107 non-null  object \n",
      " 5   Credit Score                  89769 non-null   float64\n",
      " 6   Years in current job          106414 non-null  object \n",
      " 7   Home Ownership                111107 non-null  object \n",
      " 8   Annual Income                 89769 non-null   float64\n",
      " 9   Purpose                       111107 non-null  object \n",
      " 10  Monthly Debt                  111107 non-null  float64\n",
      " 11  Years of Credit History       111107 non-null  float64\n",
      " 12  Months since last delinquent  52104 non-null   float64\n",
      " 13  Number of Open Accounts       111107 non-null  int64  \n",
      " 14  Number of Credit Problems     111107 non-null  int64  \n",
      " 15  Current Credit Balance        111107 non-null  int64  \n",
      " 16  Maximum Open Credit           111105 non-null  float64\n",
      " 17  Bankruptcies                  110879 non-null  float64\n",
      " 18  Tax Liens                     111096 non-null  float64\n",
      "dtypes: float64(8), int64(4), object(7)\n",
      "memory usage: 16.1+ MB\n"
     ]
    }
   ],
   "source": [
    "data.info()"
   ]
  },
  {
   "cell_type": "code",
   "execution_count": 180,
   "id": "983b5a88",
   "metadata": {},
   "outputs": [
    {
     "data": {
      "text/plain": [
       "0.0     108964\n",
       "1.0       1485\n",
       "2.0        408\n",
       "3.0        124\n",
       "4.0         66\n",
       "5.0         19\n",
       "6.0         12\n",
       "7.0          7\n",
       "9.0          5\n",
       "8.0          2\n",
       "11.0         2\n",
       "15.0         1\n",
       "10.0         1\n",
       "Name: Tax Liens, dtype: int64"
      ]
     },
     "execution_count": 180,
     "metadata": {},
     "output_type": "execute_result"
    }
   ],
   "source": [
    "##\n",
    "data['Tax Liens'].value_counts()"
   ]
  },
  {
   "cell_type": "code",
   "execution_count": 181,
   "id": "ee3200a3",
   "metadata": {},
   "outputs": [],
   "source": [
    "## filling the missing values of Tax Leins with mode\n",
    "data['Tax Liens'].fillna(value=(data['Tax Liens'].mode()[0]),inplace=True)"
   ]
  },
  {
   "cell_type": "code",
   "execution_count": 182,
   "id": "5b4535d7",
   "metadata": {},
   "outputs": [
    {
     "data": {
      "text/plain": [
       "Loan ID                             0\n",
       "Customer ID                         0\n",
       "Loan Status                         0\n",
       "Current Loan Amount                 0\n",
       "Term                                0\n",
       "Credit Score                    21338\n",
       "Years in current job             4693\n",
       "Home Ownership                      0\n",
       "Annual Income                   21338\n",
       "Purpose                             0\n",
       "Monthly Debt                        0\n",
       "Years of Credit History             0\n",
       "Months since last delinquent    59003\n",
       "Number of Open Accounts             0\n",
       "Number of Credit Problems           0\n",
       "Current Credit Balance              0\n",
       "Maximum Open Credit                 2\n",
       "Bankruptcies                      228\n",
       "Tax Liens                           0\n",
       "dtype: int64"
      ]
     },
     "execution_count": 182,
     "metadata": {},
     "output_type": "execute_result"
    }
   ],
   "source": [
    "## checking null\n",
    "data.isnull().sum()"
   ]
  },
  {
   "cell_type": "code",
   "execution_count": 183,
   "id": "30e1032b",
   "metadata": {},
   "outputs": [
    {
     "data": {
      "text/plain": [
       "0.0    98650\n",
       "1.0    11613\n",
       "2.0      468\n",
       "3.0      110\n",
       "4.0       27\n",
       "5.0        8\n",
       "6.0        2\n",
       "7.0        1\n",
       "Name: Bankruptcies, dtype: int64"
      ]
     },
     "execution_count": 183,
     "metadata": {},
     "output_type": "execute_result"
    }
   ],
   "source": [
    "## bankruptcies\n",
    "data['Bankruptcies'].value_counts()"
   ]
  },
  {
   "cell_type": "code",
   "execution_count": 184,
   "id": "1c73e38f",
   "metadata": {},
   "outputs": [],
   "source": [
    "# filling missing values in bankruptcies with mode\n",
    "data['Bankruptcies'].fillna(value=data['Bankruptcies'].mode()[0],inplace=True)"
   ]
  },
  {
   "cell_type": "code",
   "execution_count": 185,
   "id": "48eb58b3",
   "metadata": {},
   "outputs": [
    {
     "data": {
      "text/plain": [
       "10+ years    34551\n",
       "2 years      10158\n",
       "3 years       9133\n",
       "< 1 year      9055\n",
       "5 years       7559\n",
       "1 year        7175\n",
       "4 years       6828\n",
       "6 years       6310\n",
       "7 years       6186\n",
       "8 years       5105\n",
       "9 years       4354\n",
       "Name: Years in current job, dtype: int64"
      ]
     },
     "execution_count": 185,
     "metadata": {},
     "output_type": "execute_result"
    }
   ],
   "source": [
    "## Years in current job\n",
    "data['Years in current job'].value_counts()"
   ]
  },
  {
   "cell_type": "code",
   "execution_count": 186,
   "id": "90b8d339",
   "metadata": {},
   "outputs": [],
   "source": [
    "# Converting the 'Years in current job' column into a numerical column\n",
    "data['Years in current job'].replace({'10+ years':10, '< 1 year':0, '5 years':5, '1 year':1, '4 years':4, '7 years':7,\n",
    "                                   '8 years':8, '6 years':6, '9 years':9, '2 years':2, '3 years':3},inplace=True)"
   ]
  },
  {
   "cell_type": "code",
   "execution_count": 187,
   "id": "93db2d5e",
   "metadata": {},
   "outputs": [],
   "source": [
    "## filling missing values with mode\n",
    "data['Years in current job'].fillna(value=data['Years in current job'].mode()[0],inplace=True)"
   ]
  },
  {
   "cell_type": "code",
   "execution_count": 188,
   "id": "45b32b8e",
   "metadata": {},
   "outputs": [
    {
     "data": {
      "text/plain": [
       "Home Mortgage    53818\n",
       "Rent             46868\n",
       "Own Home         10188\n",
       "HaveMortgage       233\n",
       "Name: Home Ownership, dtype: int64"
      ]
     },
     "execution_count": 188,
     "metadata": {},
     "output_type": "execute_result"
    }
   ],
   "source": [
    "## Home Ownership\n",
    "\n",
    "data['Home Ownership'].value_counts()"
   ]
  },
  {
   "cell_type": "markdown",
   "id": "69f29c21",
   "metadata": {},
   "source": [
    "As per the data dictionary home ownrship column has 3 values : 'Rent', 'Home Mortgage','Own Home'.\n",
    "Therefore we will replace HaveMortgage with Home Mortgage."
   ]
  },
  {
   "cell_type": "code",
   "execution_count": 189,
   "id": "9ba42034",
   "metadata": {},
   "outputs": [],
   "source": [
    "# Replacing 'HaveMortgage' with 'Home Mortgage'\n",
    "data['Home Ownership'] = data['Home Ownership'].apply(lambda x: 'Home Mortgage' if x=='HaveMortgage' else x)"
   ]
  },
  {
   "cell_type": "code",
   "execution_count": 190,
   "id": "cf45ca78",
   "metadata": {},
   "outputs": [
    {
     "data": {
      "text/plain": [
       "array(['Rent', 'Home Mortgage', 'Own Home'], dtype=object)"
      ]
     },
     "execution_count": 190,
     "metadata": {},
     "output_type": "execute_result"
    }
   ],
   "source": [
    "data['Home Ownership'].unique()"
   ]
  },
  {
   "cell_type": "code",
   "execution_count": null,
   "id": "609a4498",
   "metadata": {},
   "outputs": [],
   "source": []
  },
  {
   "cell_type": "code",
   "execution_count": 191,
   "id": "4fe5b1c9",
   "metadata": {},
   "outputs": [
    {
     "data": {
      "text/plain": [
       "99999999    12738\n",
       "10166          31\n",
       "10151          31\n",
       "9827           30\n",
       "4953           29\n",
       "            ...  \n",
       "13376           1\n",
       "18136           1\n",
       "12522           1\n",
       "12348           1\n",
       "24629           1\n",
       "Name: Current Loan Amount, Length: 22541, dtype: int64"
      ]
     },
     "execution_count": 191,
     "metadata": {},
     "output_type": "execute_result"
    }
   ],
   "source": [
    "## current loan amount\n",
    "data['Current Loan Amount'].value_counts()"
   ]
  },
  {
   "cell_type": "code",
   "execution_count": 192,
   "id": "33575f11",
   "metadata": {},
   "outputs": [
    {
     "data": {
      "text/plain": [
       "Short Term    80274\n",
       "Long Term     30833\n",
       "Name: Term, dtype: int64"
      ]
     },
     "execution_count": 192,
     "metadata": {},
     "output_type": "execute_result"
    }
   ],
   "source": [
    "# term\n",
    "data['Term'].value_counts()"
   ]
  },
  {
   "cell_type": "code",
   "execution_count": 193,
   "id": "61d9f774",
   "metadata": {},
   "outputs": [
    {
     "data": {
      "text/plain": [
       "count    89769.000000\n",
       "mean      1075.795029\n",
       "std       1474.133505\n",
       "min        585.000000\n",
       "25%        705.000000\n",
       "50%        724.000000\n",
       "75%        741.000000\n",
       "max       7510.000000\n",
       "Name: Credit Score, dtype: float64"
      ]
     },
     "execution_count": 193,
     "metadata": {},
     "output_type": "execute_result"
    }
   ],
   "source": [
    "# The credit score as specified in the data dictionary are in the range of 0 to 800\n",
    "data['Credit Score'].describe()"
   ]
  },
  {
   "cell_type": "markdown",
   "id": "033370b3",
   "metadata": {},
   "source": [
    "But we can see that the maximum score is 7510. So we will divide the score by 10 if it is more than 800.\n"
   ]
  },
  {
   "cell_type": "code",
   "execution_count": 194,
   "id": "5b4c8524",
   "metadata": {},
   "outputs": [],
   "source": [
    "#\n",
    "data['Credit Score'] = data['Credit Score'].apply(lambda x: x/10 if x>800 else x)"
   ]
  },
  {
   "cell_type": "code",
   "execution_count": 195,
   "id": "1f21a0d3",
   "metadata": {},
   "outputs": [
    {
     "data": {
      "text/plain": [
       "Loan ID                             0\n",
       "Customer ID                         0\n",
       "Loan Status                         0\n",
       "Current Loan Amount                 0\n",
       "Term                                0\n",
       "Credit Score                    21338\n",
       "Years in current job                0\n",
       "Home Ownership                      0\n",
       "Annual Income                   21338\n",
       "Purpose                             0\n",
       "Monthly Debt                        0\n",
       "Years of Credit History             0\n",
       "Months since last delinquent    59003\n",
       "Number of Open Accounts             0\n",
       "Number of Credit Problems           0\n",
       "Current Credit Balance              0\n",
       "Maximum Open Credit                 2\n",
       "Bankruptcies                        0\n",
       "Tax Liens                           0\n",
       "dtype: int64"
      ]
     },
     "execution_count": 195,
     "metadata": {},
     "output_type": "execute_result"
    }
   ],
   "source": [
    "data.isnull().sum()"
   ]
  },
  {
   "cell_type": "code",
   "execution_count": 196,
   "id": "936a3dd6",
   "metadata": {},
   "outputs": [
    {
     "data": {
      "text/plain": [
       "61188.0     25\n",
       "51025.0     21\n",
       "51230.0     20\n",
       "50170.0     18\n",
       "60198.0     18\n",
       "            ..\n",
       "92554.0      1\n",
       "71099.0      1\n",
       "79751.0      1\n",
       "82082.0      1\n",
       "123454.0     1\n",
       "Name: Annual Income, Length: 37983, dtype: int64"
      ]
     },
     "execution_count": 196,
     "metadata": {},
     "output_type": "execute_result"
    }
   ],
   "source": [
    "## annual income\n",
    "data['Annual Income'].value_counts()"
   ]
  },
  {
   "cell_type": "code",
   "execution_count": 197,
   "id": "afb22f41",
   "metadata": {},
   "outputs": [
    {
     "data": {
      "text/plain": [
       "12.0     1002\n",
       "13.0      999\n",
       "15.0      987\n",
       "14.0      958\n",
       "8.0       955\n",
       "         ... \n",
       "139.0       1\n",
       "130.0       1\n",
       "115.0       1\n",
       "141.0       1\n",
       "143.0       1\n",
       "Name: Months since last delinquent, Length: 116, dtype: int64"
      ]
     },
     "execution_count": 197,
     "metadata": {},
     "output_type": "execute_result"
    }
   ],
   "source": [
    "data['Months since last delinquent'].value_counts()"
   ]
  },
  {
   "cell_type": "code",
   "execution_count": 198,
   "id": "e36e5b6b",
   "metadata": {},
   "outputs": [
    {
     "data": {
      "text/plain": [
       "Loan ID                             0\n",
       "Customer ID                         0\n",
       "Loan Status                         0\n",
       "Current Loan Amount                 0\n",
       "Term                                0\n",
       "Credit Score                    21338\n",
       "Years in current job                0\n",
       "Home Ownership                      0\n",
       "Annual Income                   21338\n",
       "Purpose                             0\n",
       "Monthly Debt                        0\n",
       "Years of Credit History             0\n",
       "Months since last delinquent    59003\n",
       "Number of Open Accounts             0\n",
       "Number of Credit Problems           0\n",
       "Current Credit Balance              0\n",
       "Maximum Open Credit                 2\n",
       "Bankruptcies                        0\n",
       "Tax Liens                           0\n",
       "dtype: int64"
      ]
     },
     "execution_count": 198,
     "metadata": {},
     "output_type": "execute_result"
    }
   ],
   "source": [
    "data.isnull().sum()"
   ]
  },
  {
   "cell_type": "code",
   "execution_count": 199,
   "id": "d1cde752",
   "metadata": {},
   "outputs": [
    {
     "data": {
      "text/plain": [
       "0"
      ]
     },
     "execution_count": 199,
     "metadata": {},
     "output_type": "execute_result"
    }
   ],
   "source": [
    "## Imputing missing values in 'Credit Score', 'Annual Income', 'Months Since last delinquent'\n",
    "# credit score\n",
    "fullyPaid = data[data['Loan Status']=='Fully Paid']['Credit Score']\n",
    "chargedOff = data[data['Loan Status']=='Charged Off']['Credit Score']\n",
    "fullyPaid.fillna(value=fullyPaid.median(),inplace=True)\n",
    "chargedOff.fillna(value=chargedOff.median(),inplace=True)\n",
    "\n",
    "data['Credit Score'][data['Loan Status']=='Fully Paid'] = fullyPaid\n",
    "\n",
    "data['Credit Score'][data['Loan Status']=='Charged Off'] = chargedOff\n",
    "\n",
    "data['Credit Score'].isnull().sum()"
   ]
  },
  {
   "cell_type": "code",
   "execution_count": 200,
   "id": "0a74eb4d",
   "metadata": {},
   "outputs": [
    {
     "data": {
      "text/plain": [
       "0"
      ]
     },
     "execution_count": 200,
     "metadata": {},
     "output_type": "execute_result"
    }
   ],
   "source": [
    "# Annual Income\n",
    "fullyPaid = data[data['Loan Status']=='Fully Paid']['Annual Income']\n",
    "chargedOff = data[data['Loan Status']=='Charged Off']['Annual Income']\n",
    "fullyPaid.fillna(value=fullyPaid.median(),inplace=True)\n",
    "chargedOff.fillna(value=chargedOff.median(),inplace=True)\n",
    "\n",
    "data['Annual Income'][data['Loan Status']=='Fully Paid'] = fullyPaid\n",
    "\n",
    "data['Annual Income'][data['Loan Status']=='Charged Off'] = chargedOff\n",
    "\n",
    "data['Annual Income'].isnull().sum()"
   ]
  },
  {
   "cell_type": "code",
   "execution_count": 201,
   "id": "a5a599ea",
   "metadata": {},
   "outputs": [
    {
     "data": {
      "text/plain": [
       "0"
      ]
     },
     "execution_count": 201,
     "metadata": {},
     "output_type": "execute_result"
    }
   ],
   "source": [
    "## months since last delinquent\n",
    "\n",
    "fullyPaid = data[data['Loan Status']=='Fully Paid']['Months since last delinquent']\n",
    "chargedOff = data[data['Loan Status']=='Charged Off']['Months since last delinquent']\n",
    "fullyPaid.fillna(value=fullyPaid.median(),inplace=True)\n",
    "chargedOff.fillna(value=chargedOff.median(),inplace=True)\n",
    "\n",
    "data['Months since last delinquent'][data['Loan Status']=='Fully Paid'] = fullyPaid\n",
    "\n",
    "data['Months since last delinquent'][data['Loan Status']=='Charged Off'] = chargedOff\n",
    "\n",
    "data['Months since last delinquent'].isnull().sum()"
   ]
  },
  {
   "cell_type": "code",
   "execution_count": 202,
   "id": "5baf93c5",
   "metadata": {},
   "outputs": [
    {
     "data": {
      "text/plain": [
       "Loan ID                         0\n",
       "Customer ID                     0\n",
       "Loan Status                     0\n",
       "Current Loan Amount             0\n",
       "Term                            0\n",
       "Credit Score                    0\n",
       "Years in current job            0\n",
       "Home Ownership                  0\n",
       "Annual Income                   0\n",
       "Purpose                         0\n",
       "Monthly Debt                    0\n",
       "Years of Credit History         0\n",
       "Months since last delinquent    0\n",
       "Number of Open Accounts         0\n",
       "Number of Credit Problems       0\n",
       "Current Credit Balance          0\n",
       "Maximum Open Credit             2\n",
       "Bankruptcies                    0\n",
       "Tax Liens                       0\n",
       "dtype: int64"
      ]
     },
     "execution_count": 202,
     "metadata": {},
     "output_type": "execute_result"
    }
   ],
   "source": [
    "data.isnull().sum()"
   ]
  },
  {
   "cell_type": "code",
   "execution_count": 203,
   "id": "2aa4e4bd",
   "metadata": {},
   "outputs": [],
   "source": [
    "# dropping two observations with missing values\n",
    "data.dropna(inplace=True)"
   ]
  },
  {
   "cell_type": "code",
   "execution_count": 204,
   "id": "0f08dd7b",
   "metadata": {},
   "outputs": [
    {
     "data": {
      "text/plain": [
       "Loan ID                         0\n",
       "Customer ID                     0\n",
       "Loan Status                     0\n",
       "Current Loan Amount             0\n",
       "Term                            0\n",
       "Credit Score                    0\n",
       "Years in current job            0\n",
       "Home Ownership                  0\n",
       "Annual Income                   0\n",
       "Purpose                         0\n",
       "Monthly Debt                    0\n",
       "Years of Credit History         0\n",
       "Months since last delinquent    0\n",
       "Number of Open Accounts         0\n",
       "Number of Credit Problems       0\n",
       "Current Credit Balance          0\n",
       "Maximum Open Credit             0\n",
       "Bankruptcies                    0\n",
       "Tax Liens                       0\n",
       "dtype: int64"
      ]
     },
     "execution_count": 204,
     "metadata": {},
     "output_type": "execute_result"
    }
   ],
   "source": [
    "data.isnull().sum()"
   ]
  },
  {
   "cell_type": "code",
   "execution_count": 169,
   "id": "67948ec2",
   "metadata": {},
   "outputs": [
    {
     "data": {
      "text/plain": [
       "Fully Paid     85934\n",
       "Charged Off    25171\n",
       "Name: Loan Status, dtype: int64"
      ]
     },
     "execution_count": 169,
     "metadata": {},
     "output_type": "execute_result"
    }
   ],
   "source": [
    "# target variable\n",
    "data['Loan Status'].value_counts()"
   ]
  },
  {
   "cell_type": "code",
   "execution_count": 220,
   "id": "5e634879",
   "metadata": {},
   "outputs": [
    {
     "data": {
      "text/plain": [
       "22197"
      ]
     },
     "execution_count": 220,
     "metadata": {},
     "output_type": "execute_result"
    }
   ],
   "source": [
    "## duplicate observations in loan id\n",
    "data.duplicated('Loan ID').sum()"
   ]
  },
  {
   "cell_type": "code",
   "execution_count": 221,
   "id": "4eee5df7",
   "metadata": {},
   "outputs": [],
   "source": [
    "# dropping the duplicate observations with respect\n",
    "data.drop_duplicates('Loan ID',inplace=True)"
   ]
  },
  {
   "cell_type": "code",
   "execution_count": null,
   "id": "48dca3b6",
   "metadata": {},
   "outputs": [],
   "source": []
  },
  {
   "cell_type": "code",
   "execution_count": 222,
   "id": "970773f2",
   "metadata": {},
   "outputs": [],
   "source": [
    "## Dropping loan id and customer id\n",
    "data_new = data.drop(columns=['Loan ID','Customer ID'])"
   ]
  },
  {
   "cell_type": "code",
   "execution_count": 223,
   "id": "ff5e879c",
   "metadata": {},
   "outputs": [
    {
     "data": {
      "text/html": [
       "<div>\n",
       "<style scoped>\n",
       "    .dataframe tbody tr th:only-of-type {\n",
       "        vertical-align: middle;\n",
       "    }\n",
       "\n",
       "    .dataframe tbody tr th {\n",
       "        vertical-align: top;\n",
       "    }\n",
       "\n",
       "    .dataframe thead th {\n",
       "        text-align: right;\n",
       "    }\n",
       "</style>\n",
       "<table border=\"1\" class=\"dataframe\">\n",
       "  <thead>\n",
       "    <tr style=\"text-align: right;\">\n",
       "      <th></th>\n",
       "      <th>Loan Status</th>\n",
       "      <th>Current Loan Amount</th>\n",
       "      <th>Term</th>\n",
       "      <th>Credit Score</th>\n",
       "      <th>Years in current job</th>\n",
       "      <th>Home Ownership</th>\n",
       "      <th>Annual Income</th>\n",
       "      <th>Purpose</th>\n",
       "      <th>Monthly Debt</th>\n",
       "      <th>Years of Credit History</th>\n",
       "      <th>Months since last delinquent</th>\n",
       "      <th>Number of Open Accounts</th>\n",
       "      <th>Number of Credit Problems</th>\n",
       "      <th>Current Credit Balance</th>\n",
       "      <th>Maximum Open Credit</th>\n",
       "      <th>Bankruptcies</th>\n",
       "      <th>Tax Liens</th>\n",
       "    </tr>\n",
       "  </thead>\n",
       "  <tbody>\n",
       "    <tr>\n",
       "      <th>0</th>\n",
       "      <td>Charged Off</td>\n",
       "      <td>12232</td>\n",
       "      <td>Short Term</td>\n",
       "      <td>728.0</td>\n",
       "      <td>0.0</td>\n",
       "      <td>Rent</td>\n",
       "      <td>46643.0</td>\n",
       "      <td>Debt Consolidation</td>\n",
       "      <td>777.39</td>\n",
       "      <td>18.0</td>\n",
       "      <td>10.0</td>\n",
       "      <td>12</td>\n",
       "      <td>0</td>\n",
       "      <td>6762</td>\n",
       "      <td>7946.0</td>\n",
       "      <td>0.0</td>\n",
       "      <td>0.0</td>\n",
       "    </tr>\n",
       "  </tbody>\n",
       "</table>\n",
       "</div>"
      ],
      "text/plain": [
       "   Loan Status  Current Loan Amount        Term  Credit Score  \\\n",
       "0  Charged Off                12232  Short Term         728.0   \n",
       "\n",
       "   Years in current job Home Ownership  Annual Income             Purpose  \\\n",
       "0                   0.0           Rent        46643.0  Debt Consolidation   \n",
       "\n",
       "   Monthly Debt  Years of Credit History  Months since last delinquent  \\\n",
       "0        777.39                     18.0                          10.0   \n",
       "\n",
       "   Number of Open Accounts  Number of Credit Problems  Current Credit Balance  \\\n",
       "0                       12                          0                    6762   \n",
       "\n",
       "   Maximum Open Credit  Bankruptcies  Tax Liens  \n",
       "0               7946.0           0.0        0.0  "
      ]
     },
     "execution_count": 223,
     "metadata": {},
     "output_type": "execute_result"
    }
   ],
   "source": [
    "data_new.head(1)"
   ]
  },
  {
   "cell_type": "markdown",
   "id": "01f88726",
   "metadata": {},
   "source": [
    "## EDA"
   ]
  },
  {
   "cell_type": "code",
   "execution_count": 281,
   "id": "f9907a5f",
   "metadata": {},
   "outputs": [],
   "source": [
    "numerical = data.select_dtypes(exclude='object')"
   ]
  },
  {
   "cell_type": "code",
   "execution_count": 282,
   "id": "45afa3a8",
   "metadata": {},
   "outputs": [
    {
     "data": {
      "image/png": "[encoded data removed]",
      "text/plain": [
       "<Figure size 720x360 with 1 Axes>"
      ]
     },
     "metadata": {
      "needs_background": "light"
     },
     "output_type": "display_data"
    },
    {
     "data": {
      "image/png": "[encoded data removed]",
      "text/plain": [
       "<Figure size 360x288 with 1 Axes>"
      ]
     },
     "metadata": {
      "needs_background": "light"
     },
     "output_type": "display_data"
    },
    {
     "data": {
      "image/png": "[encoded data removed]",
      "text/plain": [
       "<Figure size 720x360 with 1 Axes>"
      ]
     },
     "metadata": {
      "needs_background": "light"
     },
     "output_type": "display_data"
    },
    {
     "data": {
      "image/png": "[encoded data removed]",
      "text/plain": [
       "<Figure size 360x288 with 1 Axes>"
      ]
     },
     "metadata": {
      "needs_background": "light"
     },
     "output_type": "display_data"
    },
    {
     "data": {
      "image/png": "[encoded data removed]",
      "text/plain": [
       "<Figure size 720x360 with 1 Axes>"
      ]
     },
     "metadata": {
      "needs_background": "light"
     },
     "output_type": "display_data"
    },
    {
     "data": {
      "image/png": "[encoded data removed]",
      "text/plain": [
       "<Figure size 360x288 with 1 Axes>"
      ]
     },
     "metadata": {
      "needs_background": "light"
     },
     "output_type": "display_data"
    },
    {
     "data": {
      "image/png": "[encoded data removed]",
      "text/plain": [
       "<Figure size 720x360 with 1 Axes>"
      ]
     },
     "metadata": {
      "needs_background": "light"
     },
     "output_type": "display_data"
    },
    {
     "data": {
      "image/png": "[encoded data removed]",
      "text/plain": [
       "<Figure size 360x288 with 1 Axes>"
      ]
     },
     "metadata": {
      "needs_background": "light"
     },
     "output_type": "display_data"
    },
    {
     "data": {
      "image/png": "[encoded data removed]",
      "text/plain": [
       "<Figure size 720x360 with 1 Axes>"
      ]
     },
     "metadata": {
      "needs_background": "light"
     },
     "output_type": "display_data"
    },
    {
     "data": {
      "image/png": "[encoded data removed]",
      "text/plain": [
       "<Figure size 360x288 with 1 Axes>"
      ]
     },
     "metadata": {
      "needs_background": "light"
     },
     "output_type": "display_data"
    },
    {
     "data": {
      "image/png": "[encoded data removed]",
      "text/plain": [
       "<Figure size 720x360 with 1 Axes>"
      ]
     },
     "metadata": {
      "needs_background": "light"
     },
     "output_type": "display_data"
    },
    {
     "data": {
      "image/png": "[encoded data removed]",
      "text/plain": [
       "<Figure size 360x288 with 1 Axes>"
      ]
     },
     "metadata": {
      "needs_background": "light"
     },
     "output_type": "display_data"
    },
    {
     "data": {
      "image/png": "[encoded data removed]",
      "text/plain": [
       "<Figure size 720x360 with 1 Axes>"
      ]
     },
     "metadata": {
      "needs_background": "light"
     },
     "output_type": "display_data"
    },
    {
     "data": {
      "image/png": "[encoded data removed]",
      "text/plain": [
       "<Figure size 360x288 with 1 Axes>"
      ]
     },
     "metadata": {
      "needs_background": "light"
     },
     "output_type": "display_data"
    },
    {
     "data": {
      "image/png": "[encoded data removed]",
      "text/plain": [
       "<Figure size 720x360 with 1 Axes>"
      ]
     },
     "metadata": {
      "needs_background": "light"
     },
     "output_type": "display_data"
    },
    {
     "data": {
      "image/png": "[encoded data removed]",
      "text/plain": [
       "<Figure size 360x288 with 1 Axes>"
      ]
     },
     "metadata": {
      "needs_background": "light"
     },
     "output_type": "display_data"
    },
    {
     "data": {
      "image/png": "[encoded data removed]",
      "text/plain": [
       "<Figure size 720x360 with 1 Axes>"
      ]
     },
     "metadata": {
      "needs_background": "light"
     },
     "output_type": "display_data"
    },
    {
     "data": {
      "image/png": "[encoded data removed]",
      "text/plain": [
       "<Figure size 360x288 with 1 Axes>"
      ]
     },
     "metadata": {
      "needs_background": "light"
     },
     "output_type": "display_data"
    },
    {
     "data": {
      "image/png": "[encoded data removed]",
      "text/plain": [
       "<Figure size 720x360 with 1 Axes>"
      ]
     },
     "metadata": {
      "needs_background": "light"
     },
     "output_type": "display_data"
    },
    {
     "data": {
      "image/png": "[encoded data removed]",
      "text/plain": [
       "<Figure size 360x288 with 1 Axes>"
      ]
     },
     "metadata": {
      "needs_background": "light"
     },
     "output_type": "display_data"
    },
    {
     "data": {
      "image/png": "[encoded data removed]",
      "text/plain": [
       "<Figure size 720x360 with 1 Axes>"
      ]
     },
     "metadata": {
      "needs_background": "light"
     },
     "output_type": "display_data"
    },
    {
     "data": {
      "image/png": "[encoded data removed]",
      "text/plain": [
       "<Figure size 360x288 with 1 Axes>"
      ]
     },
     "metadata": {
      "needs_background": "light"
     },
     "output_type": "display_data"
    },
    {
     "data": {
      "image/png": "[encoded data removed]",
      "text/plain": [
       "<Figure size 720x360 with 1 Axes>"
      ]
     },
     "metadata": {
      "needs_background": "light"
     },
     "output_type": "display_data"
    },
    {
     "data": {
      "image/png": "[encoded data removed]",
      "text/plain": [
       "<Figure size 360x288 with 1 Axes>"
      ]
     },
     "metadata": {
      "needs_background": "light"
     },
     "output_type": "display_data"
    },
    {
     "data": {
      "image/png": "[encoded data removed]",
      "text/plain": [
       "<Figure size 720x360 with 1 Axes>"
      ]
     },
     "metadata": {
      "needs_background": "light"
     },
     "output_type": "display_data"
    },
    {
     "data": {
      "image/png": "[encoded data removed]",
      "text/plain": [
       "<Figure size 360x288 with 1 Axes>"
      ]
     },
     "metadata": {
      "needs_background": "light"
     },
     "output_type": "display_data"
    }
   ],
   "source": [
    "for col in numerical.columns:\n",
    "    #histogram\n",
    "    numerical.hist(column = col,\n",
    "              grid=False,        #Do not include the grid\n",
    "              figsize=(10,5),\n",
    "            \n",
    "              bins=20)     #(Length,Height) of the plot in inches\n",
    "    plt.show()\n",
    "    #boxplot\n",
    "    numerical.boxplot(column= col,\n",
    "                grid= False,\n",
    "                figsize=(5,4),\n",
    "                notch=True)\n",
    "    plt.show()"
   ]
  },
  {
   "cell_type": "code",
   "execution_count": null,
   "id": "2295921b",
   "metadata": {},
   "outputs": [],
   "source": []
  },
  {
   "cell_type": "markdown",
   "id": "7df016f5",
   "metadata": {},
   "source": [
    "### Train - validation Split"
   ]
  },
  {
   "cell_type": "code",
   "execution_count": 224,
   "id": "e3d7deb3",
   "metadata": {},
   "outputs": [],
   "source": [
    "X = data_new.drop(['Loan Status'],axis=1)\n",
    "y = data_new['Loan Status'].map({'Charged Off':0,'Fully Paid':1})"
   ]
  },
  {
   "cell_type": "code",
   "execution_count": 225,
   "id": "ee7653c1",
   "metadata": {},
   "outputs": [],
   "source": [
    "\n",
    "X['Term'].replace({'Short Term':0,'Long Term':1},inplace=True)\n",
    "\n",
    "# One-hot encoding of categorical columns\n",
    "X = pd.get_dummies(X,drop_first=True)"
   ]
  },
  {
   "cell_type": "code",
   "execution_count": 226,
   "id": "53d5b14c",
   "metadata": {},
   "outputs": [],
   "source": [
    "from sklearn.model_selection import train_test_split"
   ]
  },
  {
   "cell_type": "code",
   "execution_count": 227,
   "id": "ecdddeb2",
   "metadata": {},
   "outputs": [],
   "source": [
    "X_train,X_valid,y_train,y_valid = train_test_split(X,y)"
   ]
  },
  {
   "cell_type": "markdown",
   "id": "e697c880",
   "metadata": {},
   "source": [
    "### using smote for imbalance data"
   ]
  },
  {
   "cell_type": "code",
   "execution_count": 228,
   "id": "0e1578ef",
   "metadata": {},
   "outputs": [],
   "source": [
    "from imblearn.over_sampling import SMOTE\n",
    "sm = SMOTE(random_state=3)\n",
    "X_sm, y_sm = sm.fit_resample(X_train, y_train)"
   ]
  },
  {
   "cell_type": "code",
   "execution_count": null,
   "id": "aa3417c7",
   "metadata": {},
   "outputs": [],
   "source": []
  },
  {
   "cell_type": "markdown",
   "id": "2cb60379",
   "metadata": {},
   "source": [
    "## Model fitting"
   ]
  },
  {
   "cell_type": "code",
   "execution_count": 229,
   "id": "3644a2db",
   "metadata": {},
   "outputs": [],
   "source": [
    "# Libraries\n",
    "from sklearn.tree import DecisionTreeClassifier\n",
    "from sklearn.ensemble import RandomForestClassifier,BaggingClassifier, AdaBoostClassifier\n",
    "from sklearn.neighbors import KNeighborsClassifier\n",
    "from sklearn.metrics import roc_auc_score, f1_score"
   ]
  },
  {
   "cell_type": "markdown",
   "id": "95be01ca",
   "metadata": {},
   "source": [
    "### Decision Tree"
   ]
  },
  {
   "cell_type": "code",
   "execution_count": 230,
   "id": "db31ac91",
   "metadata": {},
   "outputs": [
    {
     "name": "stdout",
     "output_type": "stream",
     "text": [
      "ROC_AUC score : 0.8557950952622247\n"
     ]
    }
   ],
   "source": [
    "dt = DecisionTreeClassifier()\n",
    "dt.fit(X_sm,y_sm)\n",
    "y_pred = dt.predict(X_valid)\n",
    "print('ROC_AUC score :',roc_auc_score(y_valid,y_pred))"
   ]
  },
  {
   "cell_type": "markdown",
   "id": "5e078faf",
   "metadata": {},
   "source": [
    "### Random Forest"
   ]
  },
  {
   "cell_type": "code",
   "execution_count": 231,
   "id": "20379cef",
   "metadata": {},
   "outputs": [
    {
     "name": "stdout",
     "output_type": "stream",
     "text": [
      "ROC_AUC score : 0.8773374807444887\n"
     ]
    }
   ],
   "source": [
    "rf = RandomForestClassifier()\n",
    "rf.fit(X_sm,y_sm)\n",
    "y_pred = rf.predict(X_valid)\n",
    "print('ROC_AUC score :',roc_auc_score(y_valid,y_pred))"
   ]
  },
  {
   "cell_type": "markdown",
   "id": "16b749b0",
   "metadata": {},
   "source": [
    "### Bagging "
   ]
  },
  {
   "cell_type": "code",
   "execution_count": 234,
   "id": "642894d1",
   "metadata": {},
   "outputs": [
    {
     "name": "stdout",
     "output_type": "stream",
     "text": [
      "AUC_ROC score : 0.8769770926432093\n"
     ]
    }
   ],
   "source": [
    "bc = BaggingClassifier()\n",
    "bc.fit(X_sm,y_sm)\n",
    "y_pred = bc.predict(X_valid)\n",
    "print('AUC_ROC score :',roc_auc_score(y_valid,y_pred))\n"
   ]
  },
  {
   "cell_type": "markdown",
   "id": "199e3c8e",
   "metadata": {},
   "source": [
    "### AdaBoost"
   ]
  },
  {
   "cell_type": "code",
   "execution_count": 235,
   "id": "940c80b9",
   "metadata": {},
   "outputs": [
    {
     "name": "stdout",
     "output_type": "stream",
     "text": [
      "AUC_ROC score : 0.8824028168485132\n"
     ]
    }
   ],
   "source": [
    "ac = AdaBoostClassifier()\n",
    "ac.fit(X_sm,y_sm)\n",
    "y_pred = ac.predict(X_valid)\n",
    "print('AUC_ROC score :',roc_auc_score(y_valid,y_pred))"
   ]
  },
  {
   "cell_type": "markdown",
   "id": "09fbf531",
   "metadata": {},
   "source": [
    "### KNN"
   ]
  },
  {
   "cell_type": "code",
   "execution_count": 236,
   "id": "07925740",
   "metadata": {},
   "outputs": [
    {
     "name": "stdout",
     "output_type": "stream",
     "text": [
      "AUC_ROC score : 0.6924546652206216\n"
     ]
    }
   ],
   "source": [
    "knn = KNeighborsClassifier()\n",
    "knn.fit(X_sm,y_sm)\n",
    "y_pred = knn.predict(X_valid)\n",
    "print('AUC_ROC score :',roc_auc_score(y_valid,y_pred))"
   ]
  },
  {
   "cell_type": "markdown",
   "id": "931e8c81",
   "metadata": {},
   "source": [
    "#### Adaboost is performing well on validation data, so we will use it on test data"
   ]
  },
  {
   "cell_type": "markdown",
   "id": "9c3ff965",
   "metadata": {},
   "source": [
    "### Test Data"
   ]
  },
  {
   "cell_type": "code",
   "execution_count": 237,
   "id": "bf4e2d3d",
   "metadata": {},
   "outputs": [],
   "source": [
    "d1 = pd.read_csv('Loans - Public Test Set (IDs and Labels).csv')\n",
    "d2 = pd.read_csv('Loans - Public Test Set (No Labels).csv')"
   ]
  },
  {
   "cell_type": "code",
   "execution_count": 239,
   "id": "1dc8f209",
   "metadata": {},
   "outputs": [
    {
     "data": {
      "text/html": [
       "<div>\n",
       "<style scoped>\n",
       "    .dataframe tbody tr th:only-of-type {\n",
       "        vertical-align: middle;\n",
       "    }\n",
       "\n",
       "    .dataframe tbody tr th {\n",
       "        vertical-align: top;\n",
       "    }\n",
       "\n",
       "    .dataframe thead th {\n",
       "        text-align: right;\n",
       "    }\n",
       "</style>\n",
       "<table border=\"1\" class=\"dataframe\">\n",
       "  <thead>\n",
       "    <tr style=\"text-align: right;\">\n",
       "      <th></th>\n",
       "      <th>Loan ID</th>\n",
       "      <th>Loan Status_x</th>\n",
       "      <th>Customer ID</th>\n",
       "      <th>Loan Status_y</th>\n",
       "      <th>Current Loan Amount</th>\n",
       "      <th>Term</th>\n",
       "      <th>Credit Score</th>\n",
       "      <th>Years in current job</th>\n",
       "      <th>Home Ownership</th>\n",
       "      <th>Annual Income</th>\n",
       "      <th>Purpose</th>\n",
       "      <th>Monthly Debt</th>\n",
       "      <th>Years of Credit History</th>\n",
       "      <th>Months since last delinquent</th>\n",
       "      <th>Number of Open Accounts</th>\n",
       "      <th>Number of Credit Problems</th>\n",
       "      <th>Current Credit Balance</th>\n",
       "      <th>Maximum Open Credit</th>\n",
       "      <th>Bankruptcies</th>\n",
       "      <th>Tax Liens</th>\n",
       "    </tr>\n",
       "  </thead>\n",
       "  <tbody>\n",
       "    <tr>\n",
       "      <th>0</th>\n",
       "      <td>03e0da0c-fac3-42f8-a396-ed5a226466e0</td>\n",
       "      <td>Fully Paid</td>\n",
       "      <td>16ecb7be-c90f-4bdb-b168-da705d9b1fa7</td>\n",
       "      <td>To be predicted</td>\n",
       "      <td>23023</td>\n",
       "      <td>Long Term</td>\n",
       "      <td>597</td>\n",
       "      <td>10+ years</td>\n",
       "      <td>Home Mortgage</td>\n",
       "      <td>72230</td>\n",
       "      <td>Debt Consolidation</td>\n",
       "      <td>$613.96</td>\n",
       "      <td>14.0</td>\n",
       "      <td>NaN</td>\n",
       "      <td>11</td>\n",
       "      <td>0</td>\n",
       "      <td>23188</td>\n",
       "      <td>NaN</td>\n",
       "      <td>NaN</td>\n",
       "      <td>NaN</td>\n",
       "    </tr>\n",
       "    <tr>\n",
       "      <th>1</th>\n",
       "      <td>01825d5d-429a-4de6-b3d4-8618364d2df2</td>\n",
       "      <td>Charged Off</td>\n",
       "      <td>9e0609db-23c1-43b0-9326-0e67ca1e8f1d</td>\n",
       "      <td>To be predicted</td>\n",
       "      <td>8126</td>\n",
       "      <td>Short Term</td>\n",
       "      <td>696</td>\n",
       "      <td>2 years</td>\n",
       "      <td>Rent</td>\n",
       "      <td>55869</td>\n",
       "      <td>Debt Consolidation</td>\n",
       "      <td>$665.78</td>\n",
       "      <td>10.9</td>\n",
       "      <td>NaN</td>\n",
       "      <td>14</td>\n",
       "      <td>0</td>\n",
       "      <td>6135</td>\n",
       "      <td>NaN</td>\n",
       "      <td>NaN</td>\n",
       "      <td>NaN</td>\n",
       "    </tr>\n",
       "    <tr>\n",
       "      <th>2</th>\n",
       "      <td>c159a79a-8d2b-447c-92a9-052b5466d6cd</td>\n",
       "      <td>Fully Paid</td>\n",
       "      <td>c54e404f-1e94-45a2-9473-972e2f3c378b</td>\n",
       "      <td>To be predicted</td>\n",
       "      <td>5042</td>\n",
       "      <td>Short Term</td>\n",
       "      <td>745</td>\n",
       "      <td>10+ years</td>\n",
       "      <td>Home Mortgage</td>\n",
       "      <td>40332</td>\n",
       "      <td>Debt Consolidation</td>\n",
       "      <td>873.86</td>\n",
       "      <td>16.4</td>\n",
       "      <td>11.0</td>\n",
       "      <td>6</td>\n",
       "      <td>0</td>\n",
       "      <td>6698</td>\n",
       "      <td>17958.0</td>\n",
       "      <td>0.0</td>\n",
       "      <td>0.0</td>\n",
       "    </tr>\n",
       "    <tr>\n",
       "      <th>3</th>\n",
       "      <td>c1428058-2dc6-4a88-b64c-b6034dfb4f8f</td>\n",
       "      <td>Charged Off</td>\n",
       "      <td>37923e4e-df73-4093-a4b8-c2dfcbd0c8d8</td>\n",
       "      <td>To be predicted</td>\n",
       "      <td>14139</td>\n",
       "      <td>Long Term</td>\n",
       "      <td>677</td>\n",
       "      <td>&lt; 1 year</td>\n",
       "      <td>Rent</td>\n",
       "      <td>70693</td>\n",
       "      <td>Debt Consolidation</td>\n",
       "      <td>482.48</td>\n",
       "      <td>19.5</td>\n",
       "      <td>33.0</td>\n",
       "      <td>8</td>\n",
       "      <td>0</td>\n",
       "      <td>5928</td>\n",
       "      <td>7273.0</td>\n",
       "      <td>0.0</td>\n",
       "      <td>0.0</td>\n",
       "    </tr>\n",
       "    <tr>\n",
       "      <th>4</th>\n",
       "      <td>20344186-79bd-487a-b7c4-f3c7b57fe3e8</td>\n",
       "      <td>Charged Off</td>\n",
       "      <td>d5dc29d5-06f9-452e-9d55-c1d543dca5dd</td>\n",
       "      <td>To be predicted</td>\n",
       "      <td>15191</td>\n",
       "      <td>Long Term</td>\n",
       "      <td>716</td>\n",
       "      <td>10+ years</td>\n",
       "      <td>Home Mortgage</td>\n",
       "      <td>38442</td>\n",
       "      <td>Debt Consolidation</td>\n",
       "      <td>611.87</td>\n",
       "      <td>17.8</td>\n",
       "      <td>0.0</td>\n",
       "      <td>4</td>\n",
       "      <td>0</td>\n",
       "      <td>10714</td>\n",
       "      <td>11243.0</td>\n",
       "      <td>0.0</td>\n",
       "      <td>0.0</td>\n",
       "    </tr>\n",
       "  </tbody>\n",
       "</table>\n",
       "</div>"
      ],
      "text/plain": [
       "                                Loan ID Loan Status_x  \\\n",
       "0  03e0da0c-fac3-42f8-a396-ed5a226466e0    Fully Paid   \n",
       "1  01825d5d-429a-4de6-b3d4-8618364d2df2   Charged Off   \n",
       "2  c159a79a-8d2b-447c-92a9-052b5466d6cd    Fully Paid   \n",
       "3  c1428058-2dc6-4a88-b64c-b6034dfb4f8f   Charged Off   \n",
       "4  20344186-79bd-487a-b7c4-f3c7b57fe3e8   Charged Off   \n",
       "\n",
       "                            Customer ID    Loan Status_y  Current Loan Amount  \\\n",
       "0  16ecb7be-c90f-4bdb-b168-da705d9b1fa7  To be predicted                23023   \n",
       "1  9e0609db-23c1-43b0-9326-0e67ca1e8f1d  To be predicted                 8126   \n",
       "2  c54e404f-1e94-45a2-9473-972e2f3c378b  To be predicted                 5042   \n",
       "3  37923e4e-df73-4093-a4b8-c2dfcbd0c8d8  To be predicted                14139   \n",
       "4  d5dc29d5-06f9-452e-9d55-c1d543dca5dd  To be predicted                15191   \n",
       "\n",
       "         Term  Credit Score Years in current job Home Ownership  \\\n",
       "0   Long Term           597            10+ years  Home Mortgage   \n",
       "1  Short Term           696              2 years           Rent   \n",
       "2  Short Term           745            10+ years  Home Mortgage   \n",
       "3   Long Term           677             < 1 year           Rent   \n",
       "4   Long Term           716            10+ years  Home Mortgage   \n",
       "\n",
       "   Annual Income             Purpose Monthly Debt  Years of Credit History  \\\n",
       "0          72230  Debt Consolidation     $613.96                      14.0   \n",
       "1          55869  Debt Consolidation     $665.78                      10.9   \n",
       "2          40332  Debt Consolidation       873.86                     16.4   \n",
       "3          70693  Debt Consolidation       482.48                     19.5   \n",
       "4          38442  Debt Consolidation       611.87                     17.8   \n",
       "\n",
       "   Months since last delinquent  Number of Open Accounts  \\\n",
       "0                           NaN                       11   \n",
       "1                           NaN                       14   \n",
       "2                          11.0                        6   \n",
       "3                          33.0                        8   \n",
       "4                           0.0                        4   \n",
       "\n",
       "   Number of Credit Problems  Current Credit Balance Maximum Open Credit  \\\n",
       "0                          0                   23188                 NaN   \n",
       "1                          0                    6135                 NaN   \n",
       "2                          0                    6698             17958.0   \n",
       "3                          0                    5928              7273.0   \n",
       "4                          0                   10714             11243.0   \n",
       "\n",
       "   Bankruptcies  Tax Liens  \n",
       "0           NaN        NaN  \n",
       "1           NaN        NaN  \n",
       "2           0.0        0.0  \n",
       "3           0.0        0.0  \n",
       "4           0.0        0.0  "
      ]
     },
     "execution_count": 239,
     "metadata": {},
     "output_type": "execute_result"
    }
   ],
   "source": [
    "# merging the two\n",
    "test_data = pd.merge(left=d1,right=d2,how='inner',on='Loan ID')\n",
    "test_data.head()"
   ]
  },
  {
   "cell_type": "code",
   "execution_count": 240,
   "id": "4d5e0c91",
   "metadata": {},
   "outputs": [
    {
     "name": "stdout",
     "output_type": "stream",
     "text": [
      "<class 'pandas.core.frame.DataFrame'>\n",
      "Int64Index: 44454 entries, 0 to 44453\n",
      "Data columns (total 20 columns):\n",
      " #   Column                        Non-Null Count  Dtype  \n",
      "---  ------                        --------------  -----  \n",
      " 0   Loan ID                       44454 non-null  object \n",
      " 1   Loan Status_x                 44454 non-null  object \n",
      " 2   Customer ID                   44454 non-null  object \n",
      " 3   Loan Status_y                 44454 non-null  object \n",
      " 4   Current Loan Amount           44454 non-null  int64  \n",
      " 5   Term                          44454 non-null  object \n",
      " 6   Credit Score                  44454 non-null  int64  \n",
      " 7   Years in current job          42604 non-null  object \n",
      " 8   Home Ownership                44454 non-null  object \n",
      " 9   Annual Income                 44454 non-null  int64  \n",
      " 10  Purpose                       44454 non-null  object \n",
      " 11  Monthly Debt                  44454 non-null  object \n",
      " 12  Years of Credit History       44454 non-null  float64\n",
      " 13  Months since last delinquent  44452 non-null  float64\n",
      " 14  Number of Open Accounts       44454 non-null  int64  \n",
      " 15  Number of Credit Problems     44454 non-null  int64  \n",
      " 16  Current Credit Balance        44454 non-null  int64  \n",
      " 17  Maximum Open Credit           44452 non-null  object \n",
      " 18  Bankruptcies                  44452 non-null  float64\n",
      " 19  Tax Liens                     44452 non-null  float64\n",
      "dtypes: float64(4), int64(6), object(10)\n",
      "memory usage: 7.1+ MB\n"
     ]
    }
   ],
   "source": [
    "test_data.info()"
   ]
  },
  {
   "cell_type": "code",
   "execution_count": 241,
   "id": "54a2daef",
   "metadata": {},
   "outputs": [
    {
     "data": {
      "text/plain": [
       "Loan ID                            0\n",
       "Loan Status_x                      0\n",
       "Customer ID                        0\n",
       "Loan Status_y                      0\n",
       "Current Loan Amount                0\n",
       "Term                               0\n",
       "Credit Score                       0\n",
       "Years in current job            1850\n",
       "Home Ownership                     0\n",
       "Annual Income                      0\n",
       "Purpose                            0\n",
       "Monthly Debt                       0\n",
       "Years of Credit History            0\n",
       "Months since last delinquent       2\n",
       "Number of Open Accounts            0\n",
       "Number of Credit Problems          0\n",
       "Current Credit Balance             0\n",
       "Maximum Open Credit                2\n",
       "Bankruptcies                       2\n",
       "Tax Liens                          2\n",
       "dtype: int64"
      ]
     },
     "execution_count": 241,
     "metadata": {},
     "output_type": "execute_result"
    }
   ],
   "source": [
    "test_data.isnull().sum()"
   ]
  },
  {
   "cell_type": "code",
   "execution_count": 242,
   "id": "9fdb3b88",
   "metadata": {},
   "outputs": [],
   "source": [
    "## filling the missing values of Tax Leins with mode\n",
    "test_data['Tax Liens'].fillna(value=(test_data['Tax Liens'].mode()[0]),inplace=True)"
   ]
  },
  {
   "cell_type": "code",
   "execution_count": 243,
   "id": "109ac434",
   "metadata": {},
   "outputs": [],
   "source": [
    "# filling missing values in bankruptcies with mode\n",
    "test_data['Bankruptcies'].fillna(value=test_data['Bankruptcies'].mode()[0],inplace=True)"
   ]
  },
  {
   "cell_type": "code",
   "execution_count": 244,
   "id": "50be0914",
   "metadata": {},
   "outputs": [
    {
     "data": {
      "text/plain": [
       "0.0        240\n",
       "0          104\n",
       "9512.0       7\n",
       "12168.0      7\n",
       "9817.0       6\n",
       "          ... \n",
       "21593.0      1\n",
       "50311.0      1\n",
       "28968.0      1\n",
       "13128.0      1\n",
       "67462        1\n",
       "Name: Maximum Open Credit, Length: 34984, dtype: int64"
      ]
     },
     "execution_count": 244,
     "metadata": {},
     "output_type": "execute_result"
    }
   ],
   "source": [
    "# maximum open credit\n",
    "test_data['Maximum Open Credit'].value_counts()"
   ]
  },
  {
   "cell_type": "code",
   "execution_count": 245,
   "id": "4d10ec28",
   "metadata": {},
   "outputs": [],
   "source": [
    "# filling missing values in maximum open credit with mode\n",
    "test_data['Maximum Open Credit'].fillna(value=test_data['Maximum Open Credit'].mode()[0],inplace=True)"
   ]
  },
  {
   "cell_type": "code",
   "execution_count": 247,
   "id": "76f339b3",
   "metadata": {},
   "outputs": [],
   "source": [
    "# converting maximum peopen credit to numeric\n",
    "test_data['Maximum Open Credit'] = pd.to_numeric(test_data['Maximum Open Credit'],errors='coerce')"
   ]
  },
  {
   "cell_type": "code",
   "execution_count": 248,
   "id": "c7f9e9d1",
   "metadata": {},
   "outputs": [
    {
     "data": {
      "text/plain": [
       "1"
      ]
     },
     "execution_count": 248,
     "metadata": {},
     "output_type": "execute_result"
    }
   ],
   "source": [
    "test_data['Maximum Open Credit'].isnull().sum()"
   ]
  },
  {
   "cell_type": "code",
   "execution_count": 249,
   "id": "cf6f2ca7",
   "metadata": {},
   "outputs": [],
   "source": [
    "# filling missing values in maximum open credit with mode\n",
    "test_data['Maximum Open Credit'].fillna(value=test_data['Maximum Open Credit'].mode()[0],inplace=True)"
   ]
  },
  {
   "cell_type": "code",
   "execution_count": 250,
   "id": "45837de9",
   "metadata": {},
   "outputs": [
    {
     "data": {
      "text/plain": [
       "Loan ID                            0\n",
       "Loan Status_x                      0\n",
       "Customer ID                        0\n",
       "Loan Status_y                      0\n",
       "Current Loan Amount                0\n",
       "Term                               0\n",
       "Credit Score                       0\n",
       "Years in current job            1850\n",
       "Home Ownership                     0\n",
       "Annual Income                      0\n",
       "Purpose                            0\n",
       "Monthly Debt                       0\n",
       "Years of Credit History            0\n",
       "Months since last delinquent       2\n",
       "Number of Open Accounts            0\n",
       "Number of Credit Problems          0\n",
       "Current Credit Balance             0\n",
       "Maximum Open Credit                0\n",
       "Bankruptcies                       0\n",
       "Tax Liens                          0\n",
       "dtype: int64"
      ]
     },
     "execution_count": 250,
     "metadata": {},
     "output_type": "execute_result"
    }
   ],
   "source": [
    "test_data.isnull().sum()"
   ]
  },
  {
   "cell_type": "code",
   "execution_count": 253,
   "id": "a8153142",
   "metadata": {},
   "outputs": [
    {
     "data": {
      "text/plain": [
       "0"
      ]
     },
     "execution_count": 253,
     "metadata": {},
     "output_type": "execute_result"
    }
   ],
   "source": [
    "## months since last delinquent\n",
    "\n",
    "fullyPaid = test_data[test_data['Loan Status_x']=='Fully Paid']['Months since last delinquent']\n",
    "chargedOff = test_data[test_data['Loan Status_x']=='Charged Off']['Months since last delinquent']\n",
    "fullyPaid.fillna(value=fullyPaid.median(),inplace=True)\n",
    "chargedOff.fillna(value=chargedOff.median(),inplace=True)\n",
    "\n",
    "test_data['Months since last delinquent'][test_data['Loan Status_x']=='Fully Paid'] = fullyPaid\n",
    "\n",
    "test_data['Months since last delinquent'][test_data['Loan Status_x']=='Charged Off'] = chargedOff\n",
    "\n",
    "test_data['Months since last delinquent'].isnull().sum()"
   ]
  },
  {
   "cell_type": "code",
   "execution_count": 254,
   "id": "52930c20",
   "metadata": {},
   "outputs": [],
   "source": [
    "# years in current job\n",
    "## filling missing values with mode\n",
    "test_data['Years in current job'].fillna(value=test_data['Years in current job'].mode()[0],inplace=True)"
   ]
  },
  {
   "cell_type": "code",
   "execution_count": 255,
   "id": "6e324a3c",
   "metadata": {},
   "outputs": [],
   "source": [
    "# Converting the 'Years in current job' column into a numerical column\n",
    "test_data['Years in current job'].replace({'10+ years':10, '< 1 year':0, '5 years':5, '1 year':1, '4 years':4, '7 years':7,\n",
    "                                   '8 years':8, '6 years':6, '9 years':9, '2 years':2, '3 years':3},inplace=True)"
   ]
  },
  {
   "cell_type": "code",
   "execution_count": 256,
   "id": "5bc6a4b7",
   "metadata": {},
   "outputs": [
    {
     "data": {
      "text/plain": [
       "Loan ID                         0\n",
       "Loan Status_x                   0\n",
       "Customer ID                     0\n",
       "Loan Status_y                   0\n",
       "Current Loan Amount             0\n",
       "Term                            0\n",
       "Credit Score                    0\n",
       "Years in current job            0\n",
       "Home Ownership                  0\n",
       "Annual Income                   0\n",
       "Purpose                         0\n",
       "Monthly Debt                    0\n",
       "Years of Credit History         0\n",
       "Months since last delinquent    0\n",
       "Number of Open Accounts         0\n",
       "Number of Credit Problems       0\n",
       "Current Credit Balance          0\n",
       "Maximum Open Credit             0\n",
       "Bankruptcies                    0\n",
       "Tax Liens                       0\n",
       "dtype: int64"
      ]
     },
     "execution_count": 256,
     "metadata": {},
     "output_type": "execute_result"
    }
   ],
   "source": [
    "test_data.isnull().sum()"
   ]
  },
  {
   "cell_type": "code",
   "execution_count": 257,
   "id": "03174c19",
   "metadata": {},
   "outputs": [
    {
     "name": "stdout",
     "output_type": "stream",
     "text": [
      "<class 'pandas.core.frame.DataFrame'>\n",
      "Int64Index: 44454 entries, 0 to 44453\n",
      "Data columns (total 20 columns):\n",
      " #   Column                        Non-Null Count  Dtype  \n",
      "---  ------                        --------------  -----  \n",
      " 0   Loan ID                       44454 non-null  object \n",
      " 1   Loan Status_x                 44454 non-null  object \n",
      " 2   Customer ID                   44454 non-null  object \n",
      " 3   Loan Status_y                 44454 non-null  object \n",
      " 4   Current Loan Amount           44454 non-null  int64  \n",
      " 5   Term                          44454 non-null  object \n",
      " 6   Credit Score                  44454 non-null  int64  \n",
      " 7   Years in current job          44454 non-null  int64  \n",
      " 8   Home Ownership                44454 non-null  object \n",
      " 9   Annual Income                 44454 non-null  int64  \n",
      " 10  Purpose                       44454 non-null  object \n",
      " 11  Monthly Debt                  44454 non-null  object \n",
      " 12  Years of Credit History       44454 non-null  float64\n",
      " 13  Months since last delinquent  44454 non-null  float64\n",
      " 14  Number of Open Accounts       44454 non-null  int64  \n",
      " 15  Number of Credit Problems     44454 non-null  int64  \n",
      " 16  Current Credit Balance        44454 non-null  int64  \n",
      " 17  Maximum Open Credit           44454 non-null  float64\n",
      " 18  Bankruptcies                  44454 non-null  float64\n",
      " 19  Tax Liens                     44454 non-null  float64\n",
      "dtypes: float64(5), int64(7), object(8)\n",
      "memory usage: 8.1+ MB\n"
     ]
    }
   ],
   "source": [
    "test_data.info()"
   ]
  },
  {
   "cell_type": "code",
   "execution_count": 258,
   "id": "1c470fc6",
   "metadata": {},
   "outputs": [
    {
     "data": {
      "text/plain": [
       "Home Mortgage    21742\n",
       "Rent             18820\n",
       "Own Home          3892\n",
       "Name: Home Ownership, dtype: int64"
      ]
     },
     "execution_count": 258,
     "metadata": {},
     "output_type": "execute_result"
    }
   ],
   "source": [
    "test_data['Home Ownership'].value_counts()"
   ]
  },
  {
   "cell_type": "code",
   "execution_count": null,
   "id": "1974e847",
   "metadata": {},
   "outputs": [],
   "source": [
    "# removing $ sign from monthly debt\n",
    "test_data[\"Monthly Debt\"] = test_data[\"Monthly Debt\"].replace({\"\\$\":\"\"},regex=True)"
   ]
  },
  {
   "cell_type": "code",
   "execution_count": 261,
   "id": "4f0631e3",
   "metadata": {},
   "outputs": [],
   "source": [
    "# removing ',' sign from monthly debt\n",
    "test_data[\"Monthly Debt\"] = test_data[\"Monthly Debt\"].replace({\"\\,\":\"\"},regex=True)"
   ]
  },
  {
   "cell_type": "code",
   "execution_count": 263,
   "id": "e028af01",
   "metadata": {},
   "outputs": [],
   "source": [
    "# converting to numeric\n",
    "test_data['Monthly Debt'] = pd.to_numeric(test_data['Monthly Debt'])"
   ]
  },
  {
   "cell_type": "code",
   "execution_count": 265,
   "id": "35100b18",
   "metadata": {},
   "outputs": [
    {
     "name": "stdout",
     "output_type": "stream",
     "text": [
      "<class 'pandas.core.frame.DataFrame'>\n",
      "Int64Index: 44454 entries, 0 to 44453\n",
      "Data columns (total 20 columns):\n",
      " #   Column                        Non-Null Count  Dtype  \n",
      "---  ------                        --------------  -----  \n",
      " 0   Loan ID                       44454 non-null  object \n",
      " 1   Loan Status_x                 44454 non-null  object \n",
      " 2   Customer ID                   44454 non-null  object \n",
      " 3   Loan Status_y                 44454 non-null  object \n",
      " 4   Current Loan Amount           44454 non-null  int64  \n",
      " 5   Term                          44454 non-null  object \n",
      " 6   Credit Score                  44454 non-null  int64  \n",
      " 7   Years in current job          44454 non-null  int64  \n",
      " 8   Home Ownership                44454 non-null  object \n",
      " 9   Annual Income                 44454 non-null  int64  \n",
      " 10  Purpose                       44454 non-null  object \n",
      " 11  Monthly Debt                  44454 non-null  float64\n",
      " 12  Years of Credit History       44454 non-null  float64\n",
      " 13  Months since last delinquent  44454 non-null  float64\n",
      " 14  Number of Open Accounts       44454 non-null  int64  \n",
      " 15  Number of Credit Problems     44454 non-null  int64  \n",
      " 16  Current Credit Balance        44454 non-null  int64  \n",
      " 17  Maximum Open Credit           44454 non-null  float64\n",
      " 18  Bankruptcies                  44454 non-null  float64\n",
      " 19  Tax Liens                     44454 non-null  float64\n",
      "dtypes: float64(6), int64(7), object(7)\n",
      "memory usage: 8.1+ MB\n"
     ]
    }
   ],
   "source": [
    "test_data.info()"
   ]
  },
  {
   "cell_type": "markdown",
   "id": "a1d3b707",
   "metadata": {},
   "source": [
    "## segregating the data, dropping unnecesary columns"
   ]
  },
  {
   "cell_type": "code",
   "execution_count": 268,
   "id": "ed2ae668",
   "metadata": {},
   "outputs": [],
   "source": [
    "original_output = test_data['Loan Status_x'] # storing the loan status"
   ]
  },
  {
   "cell_type": "code",
   "execution_count": 269,
   "id": "dfea51cf",
   "metadata": {},
   "outputs": [],
   "source": [
    "## mapping the original output\n",
    "mapped_original = original_output.map({'Charged Off':0,'Fully Paid':1})"
   ]
  },
  {
   "cell_type": "code",
   "execution_count": 272,
   "id": "7f302d2e",
   "metadata": {},
   "outputs": [
    {
     "name": "stdout",
     "output_type": "stream",
     "text": [
      "<class 'pandas.core.frame.DataFrame'>\n",
      "Int64Index: 44454 entries, 0 to 44453\n",
      "Data columns (total 16 columns):\n",
      " #   Column                        Non-Null Count  Dtype  \n",
      "---  ------                        --------------  -----  \n",
      " 0   Current Loan Amount           44454 non-null  int64  \n",
      " 1   Term                          44454 non-null  object \n",
      " 2   Credit Score                  44454 non-null  int64  \n",
      " 3   Years in current job          44454 non-null  int64  \n",
      " 4   Home Ownership                44454 non-null  object \n",
      " 5   Annual Income                 44454 non-null  int64  \n",
      " 6   Purpose                       44454 non-null  object \n",
      " 7   Monthly Debt                  44454 non-null  float64\n",
      " 8   Years of Credit History       44454 non-null  float64\n",
      " 9   Months since last delinquent  44454 non-null  float64\n",
      " 10  Number of Open Accounts       44454 non-null  int64  \n",
      " 11  Number of Credit Problems     44454 non-null  int64  \n",
      " 12  Current Credit Balance        44454 non-null  int64  \n",
      " 13  Maximum Open Credit           44454 non-null  float64\n",
      " 14  Bankruptcies                  44454 non-null  float64\n",
      " 15  Tax Liens                     44454 non-null  float64\n",
      "dtypes: float64(6), int64(7), object(3)\n",
      "memory usage: 6.8+ MB\n"
     ]
    }
   ],
   "source": [
    "final_test = test_data.drop(['Loan ID','Loan Status_x','Customer ID','Loan Status_y'],axis=1)\n",
    "final_test.info()"
   ]
  },
  {
   "cell_type": "code",
   "execution_count": 273,
   "id": "5d2b3e55",
   "metadata": {},
   "outputs": [],
   "source": [
    "final_test['Term'].replace({'Short Term':0,'Long Term':1},inplace=True)\n",
    "\n",
    "# One-hot encoding of categorical columns\n",
    "final_test = pd.get_dummies(final_test,drop_first=True)"
   ]
  },
  {
   "cell_type": "code",
   "execution_count": 274,
   "id": "7ce7f624",
   "metadata": {},
   "outputs": [
    {
     "data": {
      "text/html": [
       "<div>\n",
       "<style scoped>\n",
       "    .dataframe tbody tr th:only-of-type {\n",
       "        vertical-align: middle;\n",
       "    }\n",
       "\n",
       "    .dataframe tbody tr th {\n",
       "        vertical-align: top;\n",
       "    }\n",
       "\n",
       "    .dataframe thead th {\n",
       "        text-align: right;\n",
       "    }\n",
       "</style>\n",
       "<table border=\"1\" class=\"dataframe\">\n",
       "  <thead>\n",
       "    <tr style=\"text-align: right;\">\n",
       "      <th></th>\n",
       "      <th>Current Loan Amount</th>\n",
       "      <th>Term</th>\n",
       "      <th>Credit Score</th>\n",
       "      <th>Years in current job</th>\n",
       "      <th>Annual Income</th>\n",
       "      <th>Monthly Debt</th>\n",
       "      <th>Years of Credit History</th>\n",
       "      <th>Months since last delinquent</th>\n",
       "      <th>Number of Open Accounts</th>\n",
       "      <th>Number of Credit Problems</th>\n",
       "      <th>...</th>\n",
       "      <th>Purpose_Medical Bills</th>\n",
       "      <th>Purpose_Other</th>\n",
       "      <th>Purpose_Take a Trip</th>\n",
       "      <th>Purpose_major_purchase</th>\n",
       "      <th>Purpose_moving</th>\n",
       "      <th>Purpose_other</th>\n",
       "      <th>Purpose_renewable_energy</th>\n",
       "      <th>Purpose_small_business</th>\n",
       "      <th>Purpose_vacation</th>\n",
       "      <th>Purpose_wedding</th>\n",
       "    </tr>\n",
       "  </thead>\n",
       "  <tbody>\n",
       "    <tr>\n",
       "      <th>0</th>\n",
       "      <td>23023</td>\n",
       "      <td>1</td>\n",
       "      <td>597</td>\n",
       "      <td>10</td>\n",
       "      <td>72230</td>\n",
       "      <td>613.96</td>\n",
       "      <td>14.0</td>\n",
       "      <td>0.0</td>\n",
       "      <td>11</td>\n",
       "      <td>0</td>\n",
       "      <td>...</td>\n",
       "      <td>0</td>\n",
       "      <td>0</td>\n",
       "      <td>0</td>\n",
       "      <td>0</td>\n",
       "      <td>0</td>\n",
       "      <td>0</td>\n",
       "      <td>0</td>\n",
       "      <td>0</td>\n",
       "      <td>0</td>\n",
       "      <td>0</td>\n",
       "    </tr>\n",
       "    <tr>\n",
       "      <th>1</th>\n",
       "      <td>8126</td>\n",
       "      <td>0</td>\n",
       "      <td>696</td>\n",
       "      <td>2</td>\n",
       "      <td>55869</td>\n",
       "      <td>665.78</td>\n",
       "      <td>10.9</td>\n",
       "      <td>0.0</td>\n",
       "      <td>14</td>\n",
       "      <td>0</td>\n",
       "      <td>...</td>\n",
       "      <td>0</td>\n",
       "      <td>0</td>\n",
       "      <td>0</td>\n",
       "      <td>0</td>\n",
       "      <td>0</td>\n",
       "      <td>0</td>\n",
       "      <td>0</td>\n",
       "      <td>0</td>\n",
       "      <td>0</td>\n",
       "      <td>0</td>\n",
       "    </tr>\n",
       "    <tr>\n",
       "      <th>2</th>\n",
       "      <td>5042</td>\n",
       "      <td>0</td>\n",
       "      <td>745</td>\n",
       "      <td>10</td>\n",
       "      <td>40332</td>\n",
       "      <td>873.86</td>\n",
       "      <td>16.4</td>\n",
       "      <td>11.0</td>\n",
       "      <td>6</td>\n",
       "      <td>0</td>\n",
       "      <td>...</td>\n",
       "      <td>0</td>\n",
       "      <td>0</td>\n",
       "      <td>0</td>\n",
       "      <td>0</td>\n",
       "      <td>0</td>\n",
       "      <td>0</td>\n",
       "      <td>0</td>\n",
       "      <td>0</td>\n",
       "      <td>0</td>\n",
       "      <td>0</td>\n",
       "    </tr>\n",
       "    <tr>\n",
       "      <th>3</th>\n",
       "      <td>14139</td>\n",
       "      <td>1</td>\n",
       "      <td>677</td>\n",
       "      <td>0</td>\n",
       "      <td>70693</td>\n",
       "      <td>482.48</td>\n",
       "      <td>19.5</td>\n",
       "      <td>33.0</td>\n",
       "      <td>8</td>\n",
       "      <td>0</td>\n",
       "      <td>...</td>\n",
       "      <td>0</td>\n",
       "      <td>0</td>\n",
       "      <td>0</td>\n",
       "      <td>0</td>\n",
       "      <td>0</td>\n",
       "      <td>0</td>\n",
       "      <td>0</td>\n",
       "      <td>0</td>\n",
       "      <td>0</td>\n",
       "      <td>0</td>\n",
       "    </tr>\n",
       "    <tr>\n",
       "      <th>4</th>\n",
       "      <td>15191</td>\n",
       "      <td>1</td>\n",
       "      <td>716</td>\n",
       "      <td>10</td>\n",
       "      <td>38442</td>\n",
       "      <td>611.87</td>\n",
       "      <td>17.8</td>\n",
       "      <td>0.0</td>\n",
       "      <td>4</td>\n",
       "      <td>0</td>\n",
       "      <td>...</td>\n",
       "      <td>0</td>\n",
       "      <td>0</td>\n",
       "      <td>0</td>\n",
       "      <td>0</td>\n",
       "      <td>0</td>\n",
       "      <td>0</td>\n",
       "      <td>0</td>\n",
       "      <td>0</td>\n",
       "      <td>0</td>\n",
       "      <td>0</td>\n",
       "    </tr>\n",
       "    <tr>\n",
       "      <th>...</th>\n",
       "      <td>...</td>\n",
       "      <td>...</td>\n",
       "      <td>...</td>\n",
       "      <td>...</td>\n",
       "      <td>...</td>\n",
       "      <td>...</td>\n",
       "      <td>...</td>\n",
       "      <td>...</td>\n",
       "      <td>...</td>\n",
       "      <td>...</td>\n",
       "      <td>...</td>\n",
       "      <td>...</td>\n",
       "      <td>...</td>\n",
       "      <td>...</td>\n",
       "      <td>...</td>\n",
       "      <td>...</td>\n",
       "      <td>...</td>\n",
       "      <td>...</td>\n",
       "      <td>...</td>\n",
       "      <td>...</td>\n",
       "      <td>...</td>\n",
       "    </tr>\n",
       "    <tr>\n",
       "      <th>44449</th>\n",
       "      <td>12292</td>\n",
       "      <td>0</td>\n",
       "      <td>735</td>\n",
       "      <td>10</td>\n",
       "      <td>60506</td>\n",
       "      <td>1089.12</td>\n",
       "      <td>18.3</td>\n",
       "      <td>51.0</td>\n",
       "      <td>13</td>\n",
       "      <td>0</td>\n",
       "      <td>...</td>\n",
       "      <td>0</td>\n",
       "      <td>0</td>\n",
       "      <td>0</td>\n",
       "      <td>0</td>\n",
       "      <td>0</td>\n",
       "      <td>0</td>\n",
       "      <td>0</td>\n",
       "      <td>0</td>\n",
       "      <td>0</td>\n",
       "      <td>0</td>\n",
       "    </tr>\n",
       "    <tr>\n",
       "      <th>44450</th>\n",
       "      <td>4931</td>\n",
       "      <td>0</td>\n",
       "      <td>743</td>\n",
       "      <td>9</td>\n",
       "      <td>34514</td>\n",
       "      <td>509.07</td>\n",
       "      <td>13.0</td>\n",
       "      <td>0.0</td>\n",
       "      <td>8</td>\n",
       "      <td>1</td>\n",
       "      <td>...</td>\n",
       "      <td>0</td>\n",
       "      <td>0</td>\n",
       "      <td>0</td>\n",
       "      <td>0</td>\n",
       "      <td>0</td>\n",
       "      <td>0</td>\n",
       "      <td>0</td>\n",
       "      <td>0</td>\n",
       "      <td>0</td>\n",
       "      <td>0</td>\n",
       "    </tr>\n",
       "    <tr>\n",
       "      <th>44451</th>\n",
       "      <td>23272</td>\n",
       "      <td>1</td>\n",
       "      <td>632</td>\n",
       "      <td>10</td>\n",
       "      <td>68663</td>\n",
       "      <td>1224.49</td>\n",
       "      <td>15.5</td>\n",
       "      <td>0.0</td>\n",
       "      <td>16</td>\n",
       "      <td>0</td>\n",
       "      <td>...</td>\n",
       "      <td>0</td>\n",
       "      <td>0</td>\n",
       "      <td>0</td>\n",
       "      <td>0</td>\n",
       "      <td>0</td>\n",
       "      <td>0</td>\n",
       "      <td>0</td>\n",
       "      <td>0</td>\n",
       "      <td>0</td>\n",
       "      <td>0</td>\n",
       "    </tr>\n",
       "    <tr>\n",
       "      <th>44452</th>\n",
       "      <td>18611</td>\n",
       "      <td>1</td>\n",
       "      <td>668</td>\n",
       "      <td>10</td>\n",
       "      <td>44312</td>\n",
       "      <td>242.24</td>\n",
       "      <td>31.8</td>\n",
       "      <td>24.0</td>\n",
       "      <td>11</td>\n",
       "      <td>0</td>\n",
       "      <td>...</td>\n",
       "      <td>0</td>\n",
       "      <td>0</td>\n",
       "      <td>0</td>\n",
       "      <td>0</td>\n",
       "      <td>0</td>\n",
       "      <td>0</td>\n",
       "      <td>0</td>\n",
       "      <td>0</td>\n",
       "      <td>0</td>\n",
       "      <td>0</td>\n",
       "    </tr>\n",
       "    <tr>\n",
       "      <th>44453</th>\n",
       "      <td>27618</td>\n",
       "      <td>1</td>\n",
       "      <td>721</td>\n",
       "      <td>0</td>\n",
       "      <td>93400</td>\n",
       "      <td>1580.01</td>\n",
       "      <td>23.9</td>\n",
       "      <td>0.0</td>\n",
       "      <td>14</td>\n",
       "      <td>0</td>\n",
       "      <td>...</td>\n",
       "      <td>0</td>\n",
       "      <td>0</td>\n",
       "      <td>0</td>\n",
       "      <td>0</td>\n",
       "      <td>0</td>\n",
       "      <td>0</td>\n",
       "      <td>0</td>\n",
       "      <td>0</td>\n",
       "      <td>0</td>\n",
       "      <td>0</td>\n",
       "    </tr>\n",
       "  </tbody>\n",
       "</table>\n",
       "<p>44454 rows × 31 columns</p>\n",
       "</div>"
      ],
      "text/plain": [
       "       Current Loan Amount  Term  Credit Score  Years in current job  \\\n",
       "0                    23023     1           597                    10   \n",
       "1                     8126     0           696                     2   \n",
       "2                     5042     0           745                    10   \n",
       "3                    14139     1           677                     0   \n",
       "4                    15191     1           716                    10   \n",
       "...                    ...   ...           ...                   ...   \n",
       "44449                12292     0           735                    10   \n",
       "44450                 4931     0           743                     9   \n",
       "44451                23272     1           632                    10   \n",
       "44452                18611     1           668                    10   \n",
       "44453                27618     1           721                     0   \n",
       "\n",
       "       Annual Income  Monthly Debt  Years of Credit History  \\\n",
       "0              72230        613.96                     14.0   \n",
       "1              55869        665.78                     10.9   \n",
       "2              40332        873.86                     16.4   \n",
       "3              70693        482.48                     19.5   \n",
       "4              38442        611.87                     17.8   \n",
       "...              ...           ...                      ...   \n",
       "44449          60506       1089.12                     18.3   \n",
       "44450          34514        509.07                     13.0   \n",
       "44451          68663       1224.49                     15.5   \n",
       "44452          44312        242.24                     31.8   \n",
       "44453          93400       1580.01                     23.9   \n",
       "\n",
       "       Months since last delinquent  Number of Open Accounts  \\\n",
       "0                               0.0                       11   \n",
       "1                               0.0                       14   \n",
       "2                              11.0                        6   \n",
       "3                              33.0                        8   \n",
       "4                               0.0                        4   \n",
       "...                             ...                      ...   \n",
       "44449                          51.0                       13   \n",
       "44450                           0.0                        8   \n",
       "44451                           0.0                       16   \n",
       "44452                          24.0                       11   \n",
       "44453                           0.0                       14   \n",
       "\n",
       "       Number of Credit Problems  ...  Purpose_Medical Bills  Purpose_Other  \\\n",
       "0                              0  ...                      0              0   \n",
       "1                              0  ...                      0              0   \n",
       "2                              0  ...                      0              0   \n",
       "3                              0  ...                      0              0   \n",
       "4                              0  ...                      0              0   \n",
       "...                          ...  ...                    ...            ...   \n",
       "44449                          0  ...                      0              0   \n",
       "44450                          1  ...                      0              0   \n",
       "44451                          0  ...                      0              0   \n",
       "44452                          0  ...                      0              0   \n",
       "44453                          0  ...                      0              0   \n",
       "\n",
       "       Purpose_Take a Trip  Purpose_major_purchase  Purpose_moving  \\\n",
       "0                        0                       0               0   \n",
       "1                        0                       0               0   \n",
       "2                        0                       0               0   \n",
       "3                        0                       0               0   \n",
       "4                        0                       0               0   \n",
       "...                    ...                     ...             ...   \n",
       "44449                    0                       0               0   \n",
       "44450                    0                       0               0   \n",
       "44451                    0                       0               0   \n",
       "44452                    0                       0               0   \n",
       "44453                    0                       0               0   \n",
       "\n",
       "       Purpose_other  Purpose_renewable_energy  Purpose_small_business  \\\n",
       "0                  0                         0                       0   \n",
       "1                  0                         0                       0   \n",
       "2                  0                         0                       0   \n",
       "3                  0                         0                       0   \n",
       "4                  0                         0                       0   \n",
       "...              ...                       ...                     ...   \n",
       "44449              0                         0                       0   \n",
       "44450              0                         0                       0   \n",
       "44451              0                         0                       0   \n",
       "44452              0                         0                       0   \n",
       "44453              0                         0                       0   \n",
       "\n",
       "       Purpose_vacation  Purpose_wedding  \n",
       "0                     0                0  \n",
       "1                     0                0  \n",
       "2                     0                0  \n",
       "3                     0                0  \n",
       "4                     0                0  \n",
       "...                 ...              ...  \n",
       "44449                 0                0  \n",
       "44450                 0                0  \n",
       "44451                 0                0  \n",
       "44452                 0                0  \n",
       "44453                 0                0  \n",
       "\n",
       "[44454 rows x 31 columns]"
      ]
     },
     "execution_count": 274,
     "metadata": {},
     "output_type": "execute_result"
    }
   ],
   "source": [
    "final_test"
   ]
  },
  {
   "cell_type": "markdown",
   "id": "b4791d8f",
   "metadata": {},
   "source": [
    "### KNN"
   ]
  },
  {
   "cell_type": "code",
   "execution_count": 276,
   "id": "ddfce06d",
   "metadata": {},
   "outputs": [
    {
     "name": "stdout",
     "output_type": "stream",
     "text": [
      "AUC_ROC score : 0.5390863389066104\n"
     ]
    }
   ],
   "source": [
    "knn = KNeighborsClassifier()\n",
    "knn.fit(X_sm,y_sm)\n",
    "y_pred = knn.predict(final_test)\n",
    "print('AUC_ROC score :',roc_auc_score(mapped_original,y_pred))"
   ]
  },
  {
   "cell_type": "markdown",
   "id": "67d599c2",
   "metadata": {},
   "source": [
    "### Bagging"
   ]
  },
  {
   "cell_type": "code",
   "execution_count": 277,
   "id": "9586fbfb",
   "metadata": {},
   "outputs": [
    {
     "name": "stdout",
     "output_type": "stream",
     "text": [
      "AUC_ROC score : 0.5759906473810379\n"
     ]
    }
   ],
   "source": [
    "bc = BaggingClassifier()\n",
    "bc.fit(X_sm,y_sm)\n",
    "y_pred = bc.predict(final_test)\n",
    "print('AUC_ROC score :',roc_auc_score(mapped_original,y_pred))\n"
   ]
  },
  {
   "cell_type": "markdown",
   "id": "9c82fdb8",
   "metadata": {},
   "source": [
    "### Decision Tree"
   ]
  },
  {
   "cell_type": "code",
   "execution_count": 279,
   "id": "baf6f75d",
   "metadata": {},
   "outputs": [
    {
     "name": "stdout",
     "output_type": "stream",
     "text": [
      "ROC_AUC score : 0.5443635723962329\n"
     ]
    }
   ],
   "source": [
    "dt = DecisionTreeClassifier()\n",
    "dt.fit(X_sm,y_sm)\n",
    "y_pred = dt.predict(final_test)\n",
    "print('ROC_AUC score :',roc_auc_score(mapped_original,y_pred))"
   ]
  },
  {
   "cell_type": "markdown",
   "id": "a7a0daca",
   "metadata": {},
   "source": [
    "### Using AdaBoost"
   ]
  },
  {
   "cell_type": "code",
   "execution_count": 275,
   "id": "f8b5a960",
   "metadata": {},
   "outputs": [
    {
     "name": "stdout",
     "output_type": "stream",
     "text": [
      "AUC_ROC score : 0.6071266263979309\n"
     ]
    }
   ],
   "source": [
    "ac = AdaBoostClassifier()\n",
    "ac.fit(X_sm,y_sm)\n",
    "y_pred = ac.predict(final_test)\n",
    "print('AUC_ROC score :',roc_auc_score(mapped_original,y_pred))"
   ]
  },
  {
   "cell_type": "markdown",
   "id": "f80be323",
   "metadata": {},
   "source": [
    "#### ADaBoost has performed better"
   ]
  },
  {
   "cell_type": "code",
   "execution_count": null,
   "id": "9128ea1a",
   "metadata": {},
   "outputs": [],
   "source": []
  }
 ],
 "metadata": {
  "kernelspec": {
   "display_name": "Python 3 (ipykernel)",
   "language": "python",
   "name": "python3"
  },
  "language_info": {
   "codemirror_mode": {
    "name": "ipython",
    "version": 3
   },
   "file_extension": ".py",
   "mimetype": "text/x-python",
   "name": "python",
   "nbconvert_exporter": "python",
   "pygments_lexer": "ipython3",
   "version": "3.9.12"
  }
 },
 "nbformat": 4,
 "nbformat_minor": 5
}
