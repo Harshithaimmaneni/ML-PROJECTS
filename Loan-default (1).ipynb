{
 "cells": [
  {
   "cell_type": "markdown",
   "id": "1f78089a",
   "metadata": {},
   "source": [
    "# LOAN STATUS PREDICTION"
   ]
  },
  {
   "cell_type": "markdown",
   "id": "d8386ca2",
   "metadata": {},
   "source": [
    "### Submitted By\n",
    "# MADDURI UMA   - D22025\n",
    "# KENWIN DASS C - D22051"
   ]
  },
  {
   "cell_type": "markdown",
   "id": "8a4602d0",
   "metadata": {},
   "source": [
    "## Problem Statement: \n",
    "### This is a Binary classification problem in which we need to classify whether the loan will be approved or not and we need to predict our Target label which is “Loan Status”"
   ]
  },
  {
   "cell_type": "markdown",
   "id": "358233a0",
   "metadata": {},
   "source": [
    "### Importing Required Libraries"
   ]
  },
  {
   "cell_type": "code",
   "execution_count": 100,
   "id": "a858e056",
   "metadata": {},
   "outputs": [],
   "source": [
    "import pandas as pd\n",
    "import numpy as np\n",
    "import matplotlib.pyplot as plt\n",
    "import warnings\n",
    "warnings.filterwarnings(\"ignore\")\n",
    "\n",
    "#For train-test split\n",
    "from sklearn.model_selection import train_test_split \n",
    "\n",
    "from sklearn import linear_model\n",
    "from sklearn.linear_model import LogisticRegression\n",
    "from sklearn.tree import DecisionTreeClassifier\n",
    "from sklearn.ensemble import RandomForestClassifier\n",
    "\n",
    "from sklearn.preprocessing import MinMaxScaler\n",
    "from sklearn.impute import KNNImputer\n",
    "\n",
    "#Import label encoder\n",
    "from sklearn import preprocessing\n",
    "\n",
    "from sklearn import metrics\n",
    "from sklearn.metrics import accuracy_score,f1_score,roc_auc_score,confusion_matrix,classification_report\n",
    "\n",
    "from sklearn.feature_selection import SelectFromModel\n",
    "from imblearn.over_sampling import SMOTE\n",
    "from collections import Counter\n"
   ]
  },
  {
   "cell_type": "markdown",
   "id": "eb37b751",
   "metadata": {},
   "source": [
    "# TRAIN DATA"
   ]
  },
  {
   "cell_type": "code",
   "execution_count": 101,
   "id": "5550fae2",
   "metadata": {},
   "outputs": [
    {
     "data": {
      "text/plain": [
       "'C:\\\\Users\\\\MY PC\\\\Downloads'"
      ]
     },
     "execution_count": 101,
     "metadata": {},
     "output_type": "execute_result"
    }
   ],
   "source": [
    "import os\n",
    "os.getcwd()"
   ]
  },
  {
   "cell_type": "code",
   "execution_count": 102,
   "id": "e6e8f12f",
   "metadata": {},
   "outputs": [
    {
     "data": {
      "text/html": [
       "<div>\n",
       "<style scoped>\n",
       "    .dataframe tbody tr th:only-of-type {\n",
       "        vertical-align: middle;\n",
       "    }\n",
       "\n",
       "    .dataframe tbody tr th {\n",
       "        vertical-align: top;\n",
       "    }\n",
       "\n",
       "    .dataframe thead th {\n",
       "        text-align: right;\n",
       "    }\n",
       "</style>\n",
       "<table border=\"1\" class=\"dataframe\">\n",
       "  <thead>\n",
       "    <tr style=\"text-align: right;\">\n",
       "      <th></th>\n",
       "      <th>Loan ID</th>\n",
       "      <th>Customer ID</th>\n",
       "      <th>Loan Status</th>\n",
       "      <th>Current Loan Amount</th>\n",
       "      <th>Term</th>\n",
       "      <th>Credit Score</th>\n",
       "      <th>Years in current job</th>\n",
       "      <th>Home Ownership</th>\n",
       "      <th>Annual Income</th>\n",
       "      <th>Purpose</th>\n",
       "      <th>Monthly Debt</th>\n",
       "      <th>Years of Credit History</th>\n",
       "      <th>Months since last delinquent</th>\n",
       "      <th>Number of Open Accounts</th>\n",
       "      <th>Number of Credit Problems</th>\n",
       "      <th>Current Credit Balance</th>\n",
       "      <th>Maximum Open Credit</th>\n",
       "      <th>Bankruptcies</th>\n",
       "      <th>Tax Liens</th>\n",
       "    </tr>\n",
       "  </thead>\n",
       "  <tbody>\n",
       "    <tr>\n",
       "      <th>0</th>\n",
       "      <td>6cf51492-02a2-423e-b93d-676f05b9ad53</td>\n",
       "      <td>7c202b37-2add-44e8-9aea-d5b119aea935</td>\n",
       "      <td>Charged Off</td>\n",
       "      <td>12232</td>\n",
       "      <td>Short Term</td>\n",
       "      <td>7280.0</td>\n",
       "      <td>&lt; 1 year</td>\n",
       "      <td>Rent</td>\n",
       "      <td>46643.0</td>\n",
       "      <td>Debt Consolidation</td>\n",
       "      <td>777.39</td>\n",
       "      <td>18.0</td>\n",
       "      <td>10.0</td>\n",
       "      <td>12</td>\n",
       "      <td>0</td>\n",
       "      <td>6762</td>\n",
       "      <td>7946</td>\n",
       "      <td>0.0</td>\n",
       "      <td>0.0</td>\n",
       "    </tr>\n",
       "    <tr>\n",
       "      <th>1</th>\n",
       "      <td>552e7ade-4292-4354-9ff9-c48031697d72</td>\n",
       "      <td>e7217b0a-07ac-47dd-b379-577b5a35b7c6</td>\n",
       "      <td>Charged Off</td>\n",
       "      <td>25014</td>\n",
       "      <td>Long Term</td>\n",
       "      <td>7330.0</td>\n",
       "      <td>10+ years</td>\n",
       "      <td>Home Mortgage</td>\n",
       "      <td>81099.0</td>\n",
       "      <td>Debt Consolidation</td>\n",
       "      <td>892.09</td>\n",
       "      <td>26.7</td>\n",
       "      <td>NaN</td>\n",
       "      <td>14</td>\n",
       "      <td>0</td>\n",
       "      <td>35706</td>\n",
       "      <td>77961</td>\n",
       "      <td>0.0</td>\n",
       "      <td>0.0</td>\n",
       "    </tr>\n",
       "    <tr>\n",
       "      <th>2</th>\n",
       "      <td>9b5e32b3-8d76-4801-afc8-d729d5a2e6b9</td>\n",
       "      <td>0a62fc41-16c8-40b5-92ff-9e4b763ce714</td>\n",
       "      <td>Charged Off</td>\n",
       "      <td>16117</td>\n",
       "      <td>Short Term</td>\n",
       "      <td>7240.0</td>\n",
       "      <td>9 years</td>\n",
       "      <td>Home Mortgage</td>\n",
       "      <td>60438.0</td>\n",
       "      <td>Home Improvements</td>\n",
       "      <td>1244.02</td>\n",
       "      <td>16.7</td>\n",
       "      <td>32.0</td>\n",
       "      <td>11</td>\n",
       "      <td>1</td>\n",
       "      <td>11275</td>\n",
       "      <td>14815</td>\n",
       "      <td>1.0</td>\n",
       "      <td>0.0</td>\n",
       "    </tr>\n",
       "    <tr>\n",
       "      <th>3</th>\n",
       "      <td>5419b7c7-ac11-4be2-a8a7-b131fb6d6dbe</td>\n",
       "      <td>30f36c59-5182-4482-8bbb-5b736849ae43</td>\n",
       "      <td>Charged Off</td>\n",
       "      <td>11716</td>\n",
       "      <td>Short Term</td>\n",
       "      <td>7400.0</td>\n",
       "      <td>3 years</td>\n",
       "      <td>Rent</td>\n",
       "      <td>34171.0</td>\n",
       "      <td>Debt Consolidation</td>\n",
       "      <td>990.94</td>\n",
       "      <td>10.0</td>\n",
       "      <td>NaN</td>\n",
       "      <td>21</td>\n",
       "      <td>0</td>\n",
       "      <td>7009</td>\n",
       "      <td>43533</td>\n",
       "      <td>0.0</td>\n",
       "      <td>0.0</td>\n",
       "    </tr>\n",
       "    <tr>\n",
       "      <th>4</th>\n",
       "      <td>1450910f-9495-4fc9-afaf-9bdf4b9821df</td>\n",
       "      <td>70c26012-bba5-42c0-8dcb-75295ada31bb</td>\n",
       "      <td>Charged Off</td>\n",
       "      <td>9789</td>\n",
       "      <td>Long Term</td>\n",
       "      <td>6860.0</td>\n",
       "      <td>10+ years</td>\n",
       "      <td>Home Mortgage</td>\n",
       "      <td>47003.0</td>\n",
       "      <td>Home Improvements</td>\n",
       "      <td>503.71</td>\n",
       "      <td>16.7</td>\n",
       "      <td>25.0</td>\n",
       "      <td>13</td>\n",
       "      <td>1</td>\n",
       "      <td>16913</td>\n",
       "      <td>19553</td>\n",
       "      <td>1.0</td>\n",
       "      <td>0.0</td>\n",
       "    </tr>\n",
       "  </tbody>\n",
       "</table>\n",
       "</div>"
      ],
      "text/plain": [
       "                                Loan ID                           Customer ID  \\\n",
       "0  6cf51492-02a2-423e-b93d-676f05b9ad53  7c202b37-2add-44e8-9aea-d5b119aea935   \n",
       "1  552e7ade-4292-4354-9ff9-c48031697d72  e7217b0a-07ac-47dd-b379-577b5a35b7c6   \n",
       "2  9b5e32b3-8d76-4801-afc8-d729d5a2e6b9  0a62fc41-16c8-40b5-92ff-9e4b763ce714   \n",
       "3  5419b7c7-ac11-4be2-a8a7-b131fb6d6dbe  30f36c59-5182-4482-8bbb-5b736849ae43   \n",
       "4  1450910f-9495-4fc9-afaf-9bdf4b9821df  70c26012-bba5-42c0-8dcb-75295ada31bb   \n",
       "\n",
       "   Loan Status  Current Loan Amount        Term  Credit Score  \\\n",
       "0  Charged Off                12232  Short Term        7280.0   \n",
       "1  Charged Off                25014   Long Term        7330.0   \n",
       "2  Charged Off                16117  Short Term        7240.0   \n",
       "3  Charged Off                11716  Short Term        7400.0   \n",
       "4  Charged Off                 9789   Long Term        6860.0   \n",
       "\n",
       "  Years in current job Home Ownership  Annual Income             Purpose  \\\n",
       "0             < 1 year           Rent        46643.0  Debt Consolidation   \n",
       "1            10+ years  Home Mortgage        81099.0  Debt Consolidation   \n",
       "2              9 years  Home Mortgage        60438.0   Home Improvements   \n",
       "3              3 years           Rent        34171.0  Debt Consolidation   \n",
       "4            10+ years  Home Mortgage        47003.0   Home Improvements   \n",
       "\n",
       "  Monthly Debt  Years of Credit History  Months since last delinquent  \\\n",
       "0       777.39                     18.0                          10.0   \n",
       "1       892.09                     26.7                           NaN   \n",
       "2      1244.02                     16.7                          32.0   \n",
       "3       990.94                     10.0                           NaN   \n",
       "4       503.71                     16.7                          25.0   \n",
       "\n",
       "   Number of Open Accounts  Number of Credit Problems  Current Credit Balance  \\\n",
       "0                       12                          0                    6762   \n",
       "1                       14                          0                   35706   \n",
       "2                       11                          1                   11275   \n",
       "3                       21                          0                    7009   \n",
       "4                       13                          1                   16913   \n",
       "\n",
       "  Maximum Open Credit  Bankruptcies  Tax Liens  \n",
       "0                7946           0.0        0.0  \n",
       "1               77961           0.0        0.0  \n",
       "2               14815           1.0        0.0  \n",
       "3               43533           0.0        0.0  \n",
       "4               19553           1.0        0.0  "
      ]
     },
     "execution_count": 102,
     "metadata": {},
     "output_type": "execute_result"
    }
   ],
   "source": [
    "loans = pd.read_csv(r'C:\\Users\\MY PC\\Desktop\\PPP\\Loans - Training Set.csv')\n",
    "loans.head()"
   ]
  },
  {
   "cell_type": "code",
   "execution_count": 103,
   "id": "6a771248",
   "metadata": {},
   "outputs": [
    {
     "data": {
      "text/plain": [
       "Loan ID                          object\n",
       "Customer ID                      object\n",
       "Loan Status                      object\n",
       "Current Loan Amount               int64\n",
       "Term                             object\n",
       "Credit Score                    float64\n",
       "Years in current job             object\n",
       "Home Ownership                   object\n",
       "Annual Income                   float64\n",
       "Purpose                          object\n",
       "Monthly Debt                     object\n",
       "Years of Credit History         float64\n",
       "Months since last delinquent    float64\n",
       "Number of Open Accounts           int64\n",
       "Number of Credit Problems         int64\n",
       "Current Credit Balance            int64\n",
       "Maximum Open Credit              object\n",
       "Bankruptcies                    float64\n",
       "Tax Liens                       float64\n",
       "dtype: object"
      ]
     },
     "execution_count": 103,
     "metadata": {},
     "output_type": "execute_result"
    }
   ],
   "source": [
    "# data type\n",
    "loans.dtypes"
   ]
  },
  {
   "cell_type": "code",
   "execution_count": 104,
   "id": "70430223",
   "metadata": {},
   "outputs": [
    {
     "data": {
      "text/plain": [
       "(111107, 19)"
      ]
     },
     "execution_count": 104,
     "metadata": {},
     "output_type": "execute_result"
    }
   ],
   "source": [
    "loans.shape"
   ]
  },
  {
   "cell_type": "code",
   "execution_count": 105,
   "id": "92c76012",
   "metadata": {},
   "outputs": [
    {
     "data": {
      "text/html": [
       "<div>\n",
       "<style scoped>\n",
       "    .dataframe tbody tr th:only-of-type {\n",
       "        vertical-align: middle;\n",
       "    }\n",
       "\n",
       "    .dataframe tbody tr th {\n",
       "        vertical-align: top;\n",
       "    }\n",
       "\n",
       "    .dataframe thead th {\n",
       "        text-align: right;\n",
       "    }\n",
       "</style>\n",
       "<table border=\"1\" class=\"dataframe\">\n",
       "  <thead>\n",
       "    <tr style=\"text-align: right;\">\n",
       "      <th></th>\n",
       "      <th>Current Loan Amount</th>\n",
       "      <th>Credit Score</th>\n",
       "      <th>Annual Income</th>\n",
       "      <th>Years of Credit History</th>\n",
       "      <th>Months since last delinquent</th>\n",
       "      <th>Number of Open Accounts</th>\n",
       "      <th>Number of Credit Problems</th>\n",
       "      <th>Current Credit Balance</th>\n",
       "      <th>Bankruptcies</th>\n",
       "      <th>Tax Liens</th>\n",
       "    </tr>\n",
       "  </thead>\n",
       "  <tbody>\n",
       "    <tr>\n",
       "      <th>count</th>\n",
       "      <td>1.111070e+05</td>\n",
       "      <td>89769.000000</td>\n",
       "      <td>8.976900e+04</td>\n",
       "      <td>111107.000000</td>\n",
       "      <td>52104.000000</td>\n",
       "      <td>111107.000000</td>\n",
       "      <td>111107.000000</td>\n",
       "      <td>1.111070e+05</td>\n",
       "      <td>110879.00000</td>\n",
       "      <td>111096.000000</td>\n",
       "    </tr>\n",
       "    <tr>\n",
       "      <th>mean</th>\n",
       "      <td>1.147718e+07</td>\n",
       "      <td>1075.795029</td>\n",
       "      <td>7.248600e+04</td>\n",
       "      <td>18.201003</td>\n",
       "      <td>34.902272</td>\n",
       "      <td>11.125105</td>\n",
       "      <td>0.168027</td>\n",
       "      <td>1.548314e+04</td>\n",
       "      <td>0.11766</td>\n",
       "      <td>0.029353</td>\n",
       "    </tr>\n",
       "    <tr>\n",
       "      <th>std</th>\n",
       "      <td>3.185508e+07</td>\n",
       "      <td>1474.133505</td>\n",
       "      <td>5.593094e+04</td>\n",
       "      <td>7.014495</td>\n",
       "      <td>21.970696</td>\n",
       "      <td>5.010267</td>\n",
       "      <td>0.484212</td>\n",
       "      <td>1.982115e+04</td>\n",
       "      <td>0.35142</td>\n",
       "      <td>0.260575</td>\n",
       "    </tr>\n",
       "    <tr>\n",
       "      <th>min</th>\n",
       "      <td>4.910000e+02</td>\n",
       "      <td>585.000000</td>\n",
       "      <td>4.033000e+03</td>\n",
       "      <td>3.600000</td>\n",
       "      <td>0.000000</td>\n",
       "      <td>0.000000</td>\n",
       "      <td>0.000000</td>\n",
       "      <td>0.000000e+00</td>\n",
       "      <td>0.00000</td>\n",
       "      <td>0.000000</td>\n",
       "    </tr>\n",
       "    <tr>\n",
       "      <th>25%</th>\n",
       "      <td>8.162000e+03</td>\n",
       "      <td>705.000000</td>\n",
       "      <td>4.468800e+04</td>\n",
       "      <td>13.500000</td>\n",
       "      <td>16.000000</td>\n",
       "      <td>8.000000</td>\n",
       "      <td>0.000000</td>\n",
       "      <td>5.905000e+03</td>\n",
       "      <td>0.00000</td>\n",
       "      <td>0.000000</td>\n",
       "    </tr>\n",
       "    <tr>\n",
       "      <th>50%</th>\n",
       "      <td>1.418300e+04</td>\n",
       "      <td>724.000000</td>\n",
       "      <td>6.175200e+04</td>\n",
       "      <td>16.900000</td>\n",
       "      <td>32.000000</td>\n",
       "      <td>10.000000</td>\n",
       "      <td>0.000000</td>\n",
       "      <td>1.102700e+04</td>\n",
       "      <td>0.00000</td>\n",
       "      <td>0.000000</td>\n",
       "    </tr>\n",
       "    <tr>\n",
       "      <th>75%</th>\n",
       "      <td>2.382200e+04</td>\n",
       "      <td>741.000000</td>\n",
       "      <td>8.688700e+04</td>\n",
       "      <td>21.700000</td>\n",
       "      <td>51.000000</td>\n",
       "      <td>14.000000</td>\n",
       "      <td>0.000000</td>\n",
       "      <td>1.933800e+04</td>\n",
       "      <td>0.00000</td>\n",
       "      <td>0.000000</td>\n",
       "    </tr>\n",
       "    <tr>\n",
       "      <th>max</th>\n",
       "      <td>1.000000e+08</td>\n",
       "      <td>7510.000000</td>\n",
       "      <td>8.713547e+06</td>\n",
       "      <td>70.500000</td>\n",
       "      <td>176.000000</td>\n",
       "      <td>76.000000</td>\n",
       "      <td>15.000000</td>\n",
       "      <td>1.730472e+06</td>\n",
       "      <td>7.00000</td>\n",
       "      <td>15.000000</td>\n",
       "    </tr>\n",
       "  </tbody>\n",
       "</table>\n",
       "</div>"
      ],
      "text/plain": [
       "       Current Loan Amount  Credit Score  Annual Income  \\\n",
       "count         1.111070e+05  89769.000000   8.976900e+04   \n",
       "mean          1.147718e+07   1075.795029   7.248600e+04   \n",
       "std           3.185508e+07   1474.133505   5.593094e+04   \n",
       "min           4.910000e+02    585.000000   4.033000e+03   \n",
       "25%           8.162000e+03    705.000000   4.468800e+04   \n",
       "50%           1.418300e+04    724.000000   6.175200e+04   \n",
       "75%           2.382200e+04    741.000000   8.688700e+04   \n",
       "max           1.000000e+08   7510.000000   8.713547e+06   \n",
       "\n",
       "       Years of Credit History  Months since last delinquent  \\\n",
       "count            111107.000000                  52104.000000   \n",
       "mean                 18.201003                     34.902272   \n",
       "std                   7.014495                     21.970696   \n",
       "min                   3.600000                      0.000000   \n",
       "25%                  13.500000                     16.000000   \n",
       "50%                  16.900000                     32.000000   \n",
       "75%                  21.700000                     51.000000   \n",
       "max                  70.500000                    176.000000   \n",
       "\n",
       "       Number of Open Accounts  Number of Credit Problems  \\\n",
       "count            111107.000000              111107.000000   \n",
       "mean                 11.125105                   0.168027   \n",
       "std                   5.010267                   0.484212   \n",
       "min                   0.000000                   0.000000   \n",
       "25%                   8.000000                   0.000000   \n",
       "50%                  10.000000                   0.000000   \n",
       "75%                  14.000000                   0.000000   \n",
       "max                  76.000000                  15.000000   \n",
       "\n",
       "       Current Credit Balance  Bankruptcies      Tax Liens  \n",
       "count            1.111070e+05  110879.00000  111096.000000  \n",
       "mean             1.548314e+04       0.11766       0.029353  \n",
       "std              1.982115e+04       0.35142       0.260575  \n",
       "min              0.000000e+00       0.00000       0.000000  \n",
       "25%              5.905000e+03       0.00000       0.000000  \n",
       "50%              1.102700e+04       0.00000       0.000000  \n",
       "75%              1.933800e+04       0.00000       0.000000  \n",
       "max              1.730472e+06       7.00000      15.000000  "
      ]
     },
     "execution_count": 105,
     "metadata": {},
     "output_type": "execute_result"
    }
   ],
   "source": [
    "loans.describe()"
   ]
  },
  {
   "cell_type": "markdown",
   "id": "b9ceeba7",
   "metadata": {},
   "source": [
    "## DATA CLEANING & PRE-PROCESSING"
   ]
  },
  {
   "cell_type": "code",
   "execution_count": 106,
   "id": "293045b3",
   "metadata": {},
   "outputs": [
    {
     "data": {
      "text/html": [
       "<div>\n",
       "<style scoped>\n",
       "    .dataframe tbody tr th:only-of-type {\n",
       "        vertical-align: middle;\n",
       "    }\n",
       "\n",
       "    .dataframe tbody tr th {\n",
       "        vertical-align: top;\n",
       "    }\n",
       "\n",
       "    .dataframe thead th {\n",
       "        text-align: right;\n",
       "    }\n",
       "</style>\n",
       "<table border=\"1\" class=\"dataframe\">\n",
       "  <thead>\n",
       "    <tr style=\"text-align: right;\">\n",
       "      <th></th>\n",
       "      <th>0</th>\n",
       "    </tr>\n",
       "  </thead>\n",
       "  <tbody>\n",
       "    <tr>\n",
       "      <th>Months since last delinquent</th>\n",
       "      <td>53.104665</td>\n",
       "    </tr>\n",
       "    <tr>\n",
       "      <th>Credit Score</th>\n",
       "      <td>19.204911</td>\n",
       "    </tr>\n",
       "    <tr>\n",
       "      <th>Annual Income</th>\n",
       "      <td>19.204911</td>\n",
       "    </tr>\n",
       "    <tr>\n",
       "      <th>Years in current job</th>\n",
       "      <td>4.223856</td>\n",
       "    </tr>\n",
       "    <tr>\n",
       "      <th>Bankruptcies</th>\n",
       "      <td>0.205208</td>\n",
       "    </tr>\n",
       "    <tr>\n",
       "      <th>Tax Liens</th>\n",
       "      <td>0.009900</td>\n",
       "    </tr>\n",
       "    <tr>\n",
       "      <th>Years of Credit History</th>\n",
       "      <td>0.000000</td>\n",
       "    </tr>\n",
       "    <tr>\n",
       "      <th>Maximum Open Credit</th>\n",
       "      <td>0.000000</td>\n",
       "    </tr>\n",
       "    <tr>\n",
       "      <th>Current Credit Balance</th>\n",
       "      <td>0.000000</td>\n",
       "    </tr>\n",
       "    <tr>\n",
       "      <th>Number of Credit Problems</th>\n",
       "      <td>0.000000</td>\n",
       "    </tr>\n",
       "    <tr>\n",
       "      <th>Number of Open Accounts</th>\n",
       "      <td>0.000000</td>\n",
       "    </tr>\n",
       "    <tr>\n",
       "      <th>Loan ID</th>\n",
       "      <td>0.000000</td>\n",
       "    </tr>\n",
       "    <tr>\n",
       "      <th>Monthly Debt</th>\n",
       "      <td>0.000000</td>\n",
       "    </tr>\n",
       "    <tr>\n",
       "      <th>Customer ID</th>\n",
       "      <td>0.000000</td>\n",
       "    </tr>\n",
       "    <tr>\n",
       "      <th>Home Ownership</th>\n",
       "      <td>0.000000</td>\n",
       "    </tr>\n",
       "    <tr>\n",
       "      <th>Term</th>\n",
       "      <td>0.000000</td>\n",
       "    </tr>\n",
       "    <tr>\n",
       "      <th>Current Loan Amount</th>\n",
       "      <td>0.000000</td>\n",
       "    </tr>\n",
       "    <tr>\n",
       "      <th>Loan Status</th>\n",
       "      <td>0.000000</td>\n",
       "    </tr>\n",
       "    <tr>\n",
       "      <th>Purpose</th>\n",
       "      <td>0.000000</td>\n",
       "    </tr>\n",
       "  </tbody>\n",
       "</table>\n",
       "</div>"
      ],
      "text/plain": [
       "                                      0\n",
       "Months since last delinquent  53.104665\n",
       "Credit Score                  19.204911\n",
       "Annual Income                 19.204911\n",
       "Years in current job           4.223856\n",
       "Bankruptcies                   0.205208\n",
       "Tax Liens                      0.009900\n",
       "Years of Credit History        0.000000\n",
       "Maximum Open Credit            0.000000\n",
       "Current Credit Balance         0.000000\n",
       "Number of Credit Problems      0.000000\n",
       "Number of Open Accounts        0.000000\n",
       "Loan ID                        0.000000\n",
       "Monthly Debt                   0.000000\n",
       "Customer ID                    0.000000\n",
       "Home Ownership                 0.000000\n",
       "Term                           0.000000\n",
       "Current Loan Amount            0.000000\n",
       "Loan Status                    0.000000\n",
       "Purpose                        0.000000"
      ]
     },
     "execution_count": 106,
     "metadata": {},
     "output_type": "execute_result"
    }
   ],
   "source": [
    "Null=loans.isnull().sum()\n",
    "a=Null * 100/len(loans)\n",
    "pd.DataFrame(a).sort_values(0,ascending=False)"
   ]
  },
  {
   "cell_type": "code",
   "execution_count": 107,
   "id": "a24ff5b0",
   "metadata": {},
   "outputs": [
    {
     "name": "stdout",
     "output_type": "stream",
     "text": [
      "Loan ID 22197\n",
      "Customer ID 22197\n",
      "Loan Status 111105\n",
      "Current Loan Amount 88566\n",
      "Term 111105\n",
      "Credit Score 110780\n",
      "Years in current job 111095\n",
      "Home Ownership 111103\n",
      "Annual Income 73123\n",
      "Purpose 111091\n",
      "Monthly Debt 20745\n",
      "Years of Credit History 110599\n",
      "Months since last delinquent 110990\n",
      "Number of Open Accounts 111055\n",
      "Number of Credit Problems 111093\n",
      "Current Credit Balance 77391\n",
      "Maximum Open Credit 43798\n",
      "Bankruptcies 111098\n",
      "Tax Liens 111093\n"
     ]
    }
   ],
   "source": [
    "# find number of duplicate values of each column/variable\n",
    "for i in loans.columns:\n",
    "    print(i,loans.duplicated(i).sum())"
   ]
  },
  {
   "cell_type": "code",
   "execution_count": 108,
   "id": "db537967",
   "metadata": {},
   "outputs": [
    {
     "name": "stdout",
     "output_type": "stream",
     "text": [
      "Loan ID 88910\n",
      "Customer ID 88910\n",
      "Loan Status 2\n",
      "Current Loan Amount 22541\n",
      "Term 2\n",
      "Credit Score 327\n",
      "Years in current job 12\n",
      "Home Ownership 4\n",
      "Annual Income 37984\n",
      "Purpose 16\n",
      "Monthly Debt 90362\n",
      "Years of Credit History 508\n",
      "Months since last delinquent 117\n",
      "Number of Open Accounts 52\n",
      "Number of Credit Problems 14\n",
      "Current Credit Balance 33716\n",
      "Maximum Open Credit 67309\n",
      "Bankruptcies 9\n",
      "Tax Liens 14\n"
     ]
    }
   ],
   "source": [
    "# find number of Unique values of each column/variable\n",
    "for i in loans.columns:\n",
    "    print(i,loans[i].unique().shape[0])"
   ]
  },
  {
   "cell_type": "markdown",
   "id": "922539e4",
   "metadata": {},
   "source": [
    "## Target Variable\n",
    "### Loan Status \n",
    "#### A categorical variable indicating if the loan was paid back or defaulted."
   ]
  },
  {
   "cell_type": "markdown",
   "id": "1f080291",
   "metadata": {},
   "source": [
    "#### Label encoding Loan Status "
   ]
  },
  {
   "cell_type": "code",
   "execution_count": 109,
   "id": "ce8308a3",
   "metadata": {},
   "outputs": [],
   "source": [
    "# label_encoder object knows how to understand word labels.\n",
    "label_encoder = preprocessing.LabelEncoder()\n",
    "# Encode labels in column 'Loan Status'.\n",
    "loans['Loan Status']= label_encoder.fit_transform(loans['Loan Status'])"
   ]
  },
  {
   "cell_type": "code",
   "execution_count": 110,
   "id": "1f22ac25",
   "metadata": {},
   "outputs": [
    {
     "data": {
      "text/html": [
       "<div>\n",
       "<style scoped>\n",
       "    .dataframe tbody tr th:only-of-type {\n",
       "        vertical-align: middle;\n",
       "    }\n",
       "\n",
       "    .dataframe tbody tr th {\n",
       "        vertical-align: top;\n",
       "    }\n",
       "\n",
       "    .dataframe thead th {\n",
       "        text-align: right;\n",
       "    }\n",
       "</style>\n",
       "<table border=\"1\" class=\"dataframe\">\n",
       "  <thead>\n",
       "    <tr style=\"text-align: right;\">\n",
       "      <th>col_0</th>\n",
       "      <th>Loan Status</th>\n",
       "      <th>Percentage</th>\n",
       "    </tr>\n",
       "    <tr>\n",
       "      <th>Loan Status</th>\n",
       "      <th></th>\n",
       "      <th></th>\n",
       "    </tr>\n",
       "  </thead>\n",
       "  <tbody>\n",
       "    <tr>\n",
       "      <th>0</th>\n",
       "      <td>25173</td>\n",
       "      <td>22.656538</td>\n",
       "    </tr>\n",
       "    <tr>\n",
       "      <th>1</th>\n",
       "      <td>85934</td>\n",
       "      <td>77.343462</td>\n",
       "    </tr>\n",
       "  </tbody>\n",
       "</table>\n",
       "</div>"
      ],
      "text/plain": [
       "col_0        Loan Status  Percentage\n",
       "Loan Status                         \n",
       "0                  25173   22.656538\n",
       "1                  85934   77.343462"
      ]
     },
     "execution_count": 110,
     "metadata": {},
     "output_type": "execute_result"
    }
   ],
   "source": [
    "# Frequency Distribution\n",
    "table = pd.crosstab(loans[\"Loan Status\"],columns=\"Loan Status\")\n",
    "table[\"Percentage\"] = pd.crosstab(loans[\"Loan Status\"],columns=\"Term\",normalize=True)*100\n",
    "table\n",
    "# Observation : Nearly 72% of the observations belongs to target class 'Fully Paid' whereas nearly 28% belongs to 'Charged Off'"
   ]
  },
  {
   "cell_type": "markdown",
   "id": "0fb3c562",
   "metadata": {},
   "source": [
    "## Predictors"
   ]
  },
  {
   "cell_type": "markdown",
   "id": "96826508",
   "metadata": {},
   "source": [
    "### Continous & Numerical Variables"
   ]
  },
  {
   "cell_type": "markdown",
   "id": "4969e77c",
   "metadata": {},
   "source": [
    "### 01 & 02. Loan ID & Customer ID\n",
    "#### loan ID is the unique identifier for your Affirm purchases.Customer ID is a unique identification code that you get from your bank."
   ]
  },
  {
   "cell_type": "markdown",
   "id": "be2f05d5",
   "metadata": {},
   "source": [
    "##### Since loan ID and Customer ID are Nominal and is unique Identifier of each transactions and customers .so first we are removing duplicates from loan ID and removing both variable Loan ID and Customer ID"
   ]
  },
  {
   "cell_type": "code",
   "execution_count": 111,
   "id": "93d9fa50",
   "metadata": {},
   "outputs": [],
   "source": [
    "# removing duplicate data (Loan ID)\n",
    "loans= loans.drop_duplicates(subset=\"Loan ID\")"
   ]
  },
  {
   "cell_type": "code",
   "execution_count": 112,
   "id": "1de6ac77",
   "metadata": {},
   "outputs": [
    {
     "data": {
      "text/plain": [
       "(88910, 17)"
      ]
     },
     "execution_count": 112,
     "metadata": {},
     "output_type": "execute_result"
    }
   ],
   "source": [
    "# Removing both Loan ID and Customer ID Variable\n",
    "loans=loans.drop(['Loan ID','Customer ID'],axis=1)\n",
    "loans.shape"
   ]
  },
  {
   "cell_type": "markdown",
   "id": "815868c3",
   "metadata": {},
   "source": [
    "### 03. Monthly Debt\n",
    "#### The customer's monthly payment for their existing loans"
   ]
  },
  {
   "cell_type": "markdown",
   "id": "d88bf31f",
   "metadata": {},
   "source": [
    "##### The monthly debt column had values of object type.But when we tried to convert into 'float' type we encounterd an error due to the presence of '\\\\$' symbol.Hence we are removing every instance containing the '$' symbol with a blank character to enable type conversion into integer."
   ]
  },
  {
   "cell_type": "code",
   "execution_count": 113,
   "id": "411f14cd",
   "metadata": {},
   "outputs": [
    {
     "data": {
      "text/plain": [
       "0"
      ]
     },
     "execution_count": 113,
     "metadata": {},
     "output_type": "execute_result"
    }
   ],
   "source": [
    "loans[\"Monthly Debt\"].isnull().sum()"
   ]
  },
  {
   "cell_type": "code",
   "execution_count": 114,
   "id": "34136033",
   "metadata": {},
   "outputs": [],
   "source": [
    "loans[\"Monthly Debt\"].replace({'\\$':''},regex=True,inplace=True) "
   ]
  },
  {
   "cell_type": "code",
   "execution_count": 115,
   "id": "1cd4e468",
   "metadata": {},
   "outputs": [
    {
     "data": {
      "text/plain": [
       "0"
      ]
     },
     "execution_count": 115,
     "metadata": {},
     "output_type": "execute_result"
    }
   ],
   "source": [
    "loans[\"Monthly Debt\"].isnull().sum()"
   ]
  },
  {
   "cell_type": "code",
   "execution_count": 116,
   "id": "7a91cc21",
   "metadata": {},
   "outputs": [],
   "source": [
    "loans[\"Monthly Debt\"]=pd.to_numeric(loans[\"Monthly Debt\"])"
   ]
  },
  {
   "cell_type": "markdown",
   "id": "9e235aa5",
   "metadata": {},
   "source": [
    "### 04. Maximum Open Credit\n",
    "#### The maximum credit limit for all credit sources"
   ]
  },
  {
   "cell_type": "code",
   "execution_count": 117,
   "id": "be0216be",
   "metadata": {},
   "outputs": [],
   "source": [
    "#errors = coerce automatically removes #VALUE!\n",
    "loans[\"Maximum Open Credit\"]=pd.to_numeric(loans[\"Maximum Open Credit\"],errors='coerce') "
   ]
  },
  {
   "cell_type": "code",
   "execution_count": 118,
   "id": "abeb47fd",
   "metadata": {},
   "outputs": [
    {
     "data": {
      "text/plain": [
       "2"
      ]
     },
     "execution_count": 118,
     "metadata": {},
     "output_type": "execute_result"
    }
   ],
   "source": [
    "loans['Maximum Open Credit'].isnull().sum()"
   ]
  },
  {
   "cell_type": "markdown",
   "id": "d70f6532",
   "metadata": {},
   "source": [
    "##### Imputing the null values with conditional median"
   ]
  },
  {
   "cell_type": "code",
   "execution_count": 119,
   "id": "b8714be8",
   "metadata": {},
   "outputs": [],
   "source": [
    "loans_status_1=loans['Maximum Open Credit'][loans['Loan Status']==1]\n",
    "loans_status_0=loans['Maximum Open Credit'][loans['Loan Status']==0]"
   ]
  },
  {
   "cell_type": "code",
   "execution_count": 120,
   "id": "44b6770e",
   "metadata": {},
   "outputs": [],
   "source": [
    "loans_status_1.fillna(loans_status_1.median(),inplace=True)\n",
    "loans_status_0.fillna(loans_status_0.median(),inplace=True)"
   ]
  },
  {
   "cell_type": "code",
   "execution_count": 121,
   "id": "e2ff364f",
   "metadata": {},
   "outputs": [],
   "source": [
    "loans['Maximum Open Credit'][loans['Loan Status']==1]=loans_status_1\n",
    "loans['Maximum Open Credit'][loans['Loan Status']==0]=loans_status_0"
   ]
  },
  {
   "cell_type": "code",
   "execution_count": 122,
   "id": "008068c1",
   "metadata": {},
   "outputs": [
    {
     "data": {
      "text/plain": [
       "0"
      ]
     },
     "execution_count": 122,
     "metadata": {},
     "output_type": "execute_result"
    }
   ],
   "source": [
    "loans['Maximum Open Credit'].isnull().sum()"
   ]
  },
  {
   "cell_type": "markdown",
   "id": "77cfb323",
   "metadata": {},
   "source": [
    "### 05. Tax Liens\n",
    "#### The number of tax liens."
   ]
  },
  {
   "cell_type": "code",
   "execution_count": null,
   "id": "05c5742a",
   "metadata": {
    "scrolled": true
   },
   "outputs": [],
   "source": [
    "#loans['Tax Liens'].value_counts()"
   ]
  },
  {
   "cell_type": "code",
   "execution_count": 123,
   "id": "891a2626",
   "metadata": {},
   "outputs": [
    {
     "data": {
      "text/plain": [
       "8"
      ]
     },
     "execution_count": 123,
     "metadata": {},
     "output_type": "execute_result"
    }
   ],
   "source": [
    "loans['Tax Liens'].isnull().sum()"
   ]
  },
  {
   "cell_type": "markdown",
   "id": "188e7128",
   "metadata": {},
   "source": [
    "##### Imputing the null values with conditional mode"
   ]
  },
  {
   "cell_type": "code",
   "execution_count": 124,
   "id": "3666acd5",
   "metadata": {},
   "outputs": [
    {
     "name": "stdout",
     "output_type": "stream",
     "text": [
      "Series([], Name: Tax Liens, dtype: float64)\n",
      "Series([], Name: Tax Liens, dtype: float64)\n"
     ]
    }
   ],
   "source": [
    "print(loans[loans['Loan Status']=='Fully Paid']['Tax Liens'].mode())\n",
    "print(loans[loans['Loan Status']=='Charged Off']['Tax Liens'].mode())"
   ]
  },
  {
   "cell_type": "code",
   "execution_count": 125,
   "id": "a0323e1b",
   "metadata": {},
   "outputs": [],
   "source": [
    "# Filling the missing values with the mode since it's a categorical column\n",
    "loans['Tax Liens'].fillna(value=0.0,inplace=True)"
   ]
  },
  {
   "cell_type": "code",
   "execution_count": 126,
   "id": "044fe599",
   "metadata": {},
   "outputs": [
    {
     "data": {
      "text/plain": [
       "0"
      ]
     },
     "execution_count": 126,
     "metadata": {},
     "output_type": "execute_result"
    }
   ],
   "source": [
    "loans['Tax Liens'].isnull().sum()"
   ]
  },
  {
   "cell_type": "markdown",
   "id": "c14d3184",
   "metadata": {},
   "source": [
    "### 06. Months since last delinquent\n",
    "#### Months since the last loan delinquent payment"
   ]
  },
  {
   "cell_type": "code",
   "execution_count": null,
   "id": "7296f42b",
   "metadata": {},
   "outputs": [],
   "source": [
    "#loans['Months since last delinquent'].value_counts()"
   ]
  },
  {
   "cell_type": "code",
   "execution_count": 127,
   "id": "03e37e5f",
   "metadata": {},
   "outputs": [
    {
     "data": {
      "text/plain": [
       "48506"
      ]
     },
     "execution_count": 127,
     "metadata": {},
     "output_type": "execute_result"
    }
   ],
   "source": [
    "loans['Months since last delinquent'].isnull().sum()"
   ]
  },
  {
   "cell_type": "markdown",
   "id": "6dd08826",
   "metadata": {},
   "source": [
    "##### Imputing the null values with conditional median"
   ]
  },
  {
   "cell_type": "code",
   "execution_count": 128,
   "id": "eb40179b",
   "metadata": {},
   "outputs": [],
   "source": [
    "loans_status_1=loans['Months since last delinquent'][loans['Loan Status']==1]\n",
    "loans_status_0=loans['Months since last delinquent'][loans['Loan Status']==0]"
   ]
  },
  {
   "cell_type": "code",
   "execution_count": 129,
   "id": "f7ffe883",
   "metadata": {},
   "outputs": [],
   "source": [
    "loans_status_1.fillna(loans_status_1.median(),inplace=True)\n",
    "loans_status_0.fillna(loans_status_0.median(),inplace=True)"
   ]
  },
  {
   "cell_type": "code",
   "execution_count": 130,
   "id": "65118474",
   "metadata": {},
   "outputs": [],
   "source": [
    "loans['Months since last delinquent'][loans['Loan Status']==1]=loans_status_1\n",
    "loans['Months since last delinquent'][loans['Loan Status']==0]=loans_status_0"
   ]
  },
  {
   "cell_type": "code",
   "execution_count": 131,
   "id": "01c23eb4",
   "metadata": {},
   "outputs": [
    {
     "data": {
      "text/plain": [
       "0"
      ]
     },
     "execution_count": 131,
     "metadata": {},
     "output_type": "execute_result"
    }
   ],
   "source": [
    "loans['Months since last delinquent'].isnull().sum()"
   ]
  },
  {
   "cell_type": "markdown",
   "id": "a4e2f604",
   "metadata": {},
   "source": [
    "### 07. Number of Open Accounts\n",
    "#### The total number of open credit cards"
   ]
  },
  {
   "cell_type": "code",
   "execution_count": null,
   "id": "69caf37d",
   "metadata": {},
   "outputs": [],
   "source": [
    "#loans['Number of Open Accounts'].value_counts().sort_index(ascending=True)"
   ]
  },
  {
   "cell_type": "code",
   "execution_count": 132,
   "id": "686235ea",
   "metadata": {},
   "outputs": [
    {
     "data": {
      "text/plain": [
       "0"
      ]
     },
     "execution_count": 132,
     "metadata": {},
     "output_type": "execute_result"
    }
   ],
   "source": [
    "loans['Number of Open Accounts'].isnull().sum()"
   ]
  },
  {
   "cell_type": "markdown",
   "id": "0adffd32",
   "metadata": {},
   "source": [
    "### 08. Number of Credit Problems\n",
    "#### The number of credit problems in the customer records."
   ]
  },
  {
   "cell_type": "code",
   "execution_count": null,
   "id": "521e7701",
   "metadata": {},
   "outputs": [],
   "source": [
    "#loans['Number of Credit Problems'].value_counts()"
   ]
  },
  {
   "cell_type": "code",
   "execution_count": 133,
   "id": "17c595b5",
   "metadata": {},
   "outputs": [
    {
     "data": {
      "text/plain": [
       "0"
      ]
     },
     "execution_count": 133,
     "metadata": {},
     "output_type": "execute_result"
    }
   ],
   "source": [
    "loans['Number of Credit Problems'].isnull().sum()"
   ]
  },
  {
   "cell_type": "markdown",
   "id": "5d0b8e5c",
   "metadata": {},
   "source": [
    "### 09. Years of Credit History\n",
    "#### The years since the first entry in the customers credit history"
   ]
  },
  {
   "cell_type": "code",
   "execution_count": null,
   "id": "74f38382",
   "metadata": {},
   "outputs": [],
   "source": [
    "#loans[\"Years of Credit History\"].describe()"
   ]
  },
  {
   "cell_type": "code",
   "execution_count": null,
   "id": "9e7e316a",
   "metadata": {},
   "outputs": [],
   "source": [
    "# Note : There are customers with around 70 years of credit history\n",
    "# loans['Years of Credit History'].value_counts().sort_index(ascending=False)"
   ]
  },
  {
   "cell_type": "code",
   "execution_count": 134,
   "id": "0e44bfed",
   "metadata": {},
   "outputs": [
    {
     "data": {
      "text/plain": [
       "0"
      ]
     },
     "execution_count": 134,
     "metadata": {},
     "output_type": "execute_result"
    }
   ],
   "source": [
    "loans['Years of Credit History'].isnull().sum()"
   ]
  },
  {
   "cell_type": "markdown",
   "id": "19fa83e8",
   "metadata": {},
   "source": [
    "### 10. Annual Income\n",
    "#### The customer's annual income"
   ]
  },
  {
   "cell_type": "code",
   "execution_count": null,
   "id": "1399fddb",
   "metadata": {},
   "outputs": [],
   "source": [
    "#loans[\"Annual Income\"].value_counts"
   ]
  },
  {
   "cell_type": "code",
   "execution_count": 135,
   "id": "276ea32b",
   "metadata": {
    "scrolled": true
   },
   "outputs": [
    {
     "data": {
      "text/plain": [
       "21338"
      ]
     },
     "execution_count": 135,
     "metadata": {},
     "output_type": "execute_result"
    }
   ],
   "source": [
    "loans['Annual Income'].isnull().sum()"
   ]
  },
  {
   "cell_type": "markdown",
   "id": "a26da366",
   "metadata": {},
   "source": [
    "##### Imputing the null values with conditional median"
   ]
  },
  {
   "cell_type": "code",
   "execution_count": 136,
   "id": "ebb86a92",
   "metadata": {},
   "outputs": [],
   "source": [
    "loans_status_1=loans['Annual Income'][loans['Loan Status']==1]\n",
    "loans_status_0=loans['Annual Income'][loans['Loan Status']==0]"
   ]
  },
  {
   "cell_type": "code",
   "execution_count": 137,
   "id": "2fa2f397",
   "metadata": {},
   "outputs": [],
   "source": [
    "loans_status_1.fillna(loans_status_1.median(),inplace=True)\n",
    "loans_status_0.fillna(loans_status_0.median(),inplace=True)"
   ]
  },
  {
   "cell_type": "code",
   "execution_count": 138,
   "id": "7ef6c6ab",
   "metadata": {},
   "outputs": [],
   "source": [
    "loans['Annual Income'][loans['Loan Status']==1]=loans_status_1\n",
    "loans['Annual Income'][loans['Loan Status']==0]=loans_status_0"
   ]
  },
  {
   "cell_type": "code",
   "execution_count": 139,
   "id": "df9b5af8",
   "metadata": {},
   "outputs": [
    {
     "data": {
      "text/plain": [
       "0"
      ]
     },
     "execution_count": 139,
     "metadata": {},
     "output_type": "execute_result"
    }
   ],
   "source": [
    "loans['Annual Income'].isnull().sum()"
   ]
  },
  {
   "cell_type": "markdown",
   "id": "66132ff7",
   "metadata": {},
   "source": [
    "### 11. Current Loan Amount\n",
    "#### This is the loan amount that was either completely paid off, or the amount that was defaulted."
   ]
  },
  {
   "cell_type": "code",
   "execution_count": null,
   "id": "305452ee",
   "metadata": {},
   "outputs": [],
   "source": [
    "#loans[\"Current Loan Amount\"].value_counts"
   ]
  },
  {
   "cell_type": "code",
   "execution_count": 140,
   "id": "d3d76b12",
   "metadata": {},
   "outputs": [
    {
     "data": {
      "text/plain": [
       "0"
      ]
     },
     "execution_count": 140,
     "metadata": {},
     "output_type": "execute_result"
    }
   ],
   "source": [
    "loans['Current Loan Amount'].isnull().sum()"
   ]
  },
  {
   "cell_type": "markdown",
   "id": "a4a36c41",
   "metadata": {},
   "source": [
    "### 12. Credit Score\n",
    "#### A value between 0 and 800 indicating the riskiness of the borrowers credit history.credit score should be in  range of 300-850."
   ]
  },
  {
   "cell_type": "code",
   "execution_count": 141,
   "id": "8bf199fb",
   "metadata": {},
   "outputs": [],
   "source": [
    "# The credit score as specified in the data dictionary are in the range of 0 to 800\n",
    "# but some of the values are in range of 7000\n",
    "loans['Credit Score'] = loans['Credit Score'].apply(lambda val: (val /10) if val>800 else val)\n",
    "# loans['Credit Score'].value_counts"
   ]
  },
  {
   "cell_type": "code",
   "execution_count": 142,
   "id": "d70aeb93",
   "metadata": {
    "scrolled": true
   },
   "outputs": [
    {
     "data": {
      "text/plain": [
       "21338"
      ]
     },
     "execution_count": 142,
     "metadata": {},
     "output_type": "execute_result"
    }
   ],
   "source": [
    "loans['Credit Score'].isnull().sum()"
   ]
  },
  {
   "cell_type": "markdown",
   "id": "c8aeadde",
   "metadata": {},
   "source": [
    "##### Imputing the null values with conditional median"
   ]
  },
  {
   "cell_type": "code",
   "execution_count": 143,
   "id": "4d5726ab",
   "metadata": {},
   "outputs": [
    {
     "name": "stdout",
     "output_type": "stream",
     "text": [
      "5044     739.0\n",
      "5045     704.0\n",
      "5046     751.0\n",
      "5047     735.0\n",
      "5048     745.0\n",
      "         ...  \n",
      "88904    730.0\n",
      "88905    728.0\n",
      "88906    710.0\n",
      "88907    746.0\n",
      "88909    718.0\n",
      "Name: Credit Score, Length: 63737, dtype: float64\n"
     ]
    }
   ],
   "source": [
    "loans_status_1=loans['Credit Score'][loans['Loan Status']==1]\n",
    "loans_status_0=loans['Credit Score'][loans['Loan Status']==0]\n",
    "print(loans_status_1)"
   ]
  },
  {
   "cell_type": "code",
   "execution_count": 144,
   "id": "4d53fa19",
   "metadata": {},
   "outputs": [],
   "source": [
    "loans_status_1.fillna(loans_status_1.median(),inplace=True)\n",
    "loans_status_0.fillna(loans_status_0.median(),inplace=True)"
   ]
  },
  {
   "cell_type": "code",
   "execution_count": 145,
   "id": "ed415825",
   "metadata": {},
   "outputs": [],
   "source": [
    "loans['Credit Score'][loans['Loan Status']==1]=loans_status_1\n",
    "loans['Credit Score'][loans['Loan Status']==0]=loans_status_0"
   ]
  },
  {
   "cell_type": "code",
   "execution_count": 146,
   "id": "568a16b7",
   "metadata": {},
   "outputs": [
    {
     "data": {
      "text/plain": [
       "0"
      ]
     },
     "execution_count": 146,
     "metadata": {},
     "output_type": "execute_result"
    }
   ],
   "source": [
    "loans['Credit Score'].isnull().sum()"
   ]
  },
  {
   "cell_type": "markdown",
   "id": "67999499",
   "metadata": {},
   "source": [
    "### 13. Current Credit Balance\n",
    "#### The current balance (also called the credit card balance) reflects the current amount of all charges and payments made to your account up to that day"
   ]
  },
  {
   "cell_type": "code",
   "execution_count": null,
   "id": "5e99caab",
   "metadata": {},
   "outputs": [],
   "source": [
    "# loans['Current Credit Balance'].value_counts"
   ]
  },
  {
   "cell_type": "code",
   "execution_count": 147,
   "id": "96e9e999",
   "metadata": {
    "scrolled": false
   },
   "outputs": [
    {
     "data": {
      "text/plain": [
       "0"
      ]
     },
     "execution_count": 147,
     "metadata": {},
     "output_type": "execute_result"
    }
   ],
   "source": [
    "loans['Current Credit Balance'].isnull().sum()"
   ]
  },
  {
   "cell_type": "markdown",
   "id": "68444311",
   "metadata": {},
   "source": [
    "### 14. Bankruptcies\n",
    "#### The number of bankruptcies"
   ]
  },
  {
   "cell_type": "code",
   "execution_count": null,
   "id": "99d31b3f",
   "metadata": {},
   "outputs": [],
   "source": [
    "#loans[\"Bankruptcies\"].value_counts()"
   ]
  },
  {
   "cell_type": "code",
   "execution_count": 148,
   "id": "dd6e77c7",
   "metadata": {
    "scrolled": false
   },
   "outputs": [
    {
     "data": {
      "text/plain": [
       "192"
      ]
     },
     "execution_count": 148,
     "metadata": {},
     "output_type": "execute_result"
    }
   ],
   "source": [
    "loans['Bankruptcies'].isnull().sum()"
   ]
  },
  {
   "cell_type": "markdown",
   "id": "93af5def",
   "metadata": {},
   "source": [
    "##### Imputing the null values with conditional mode"
   ]
  },
  {
   "cell_type": "code",
   "execution_count": 149,
   "id": "121a9dcc",
   "metadata": {},
   "outputs": [
    {
     "name": "stdout",
     "output_type": "stream",
     "text": [
      "Series([], Name: Bankruptcies, dtype: float64)\n",
      "Series([], Name: Bankruptcies, dtype: float64)\n"
     ]
    }
   ],
   "source": [
    "print(loans[loans['Loan Status']=='Fully Paid']['Bankruptcies'].mode())\n",
    "print(loans[loans['Loan Status']=='Charged Off']['Bankruptcies'].mode())"
   ]
  },
  {
   "cell_type": "code",
   "execution_count": 150,
   "id": "bb93cc35",
   "metadata": {},
   "outputs": [],
   "source": [
    "# Filling the missing values with the mode since it's a categorical column\n",
    "loans['Bankruptcies'].fillna(value=0.0,inplace=True)"
   ]
  },
  {
   "cell_type": "code",
   "execution_count": 151,
   "id": "2b1d546b",
   "metadata": {},
   "outputs": [
    {
     "data": {
      "text/plain": [
       "0"
      ]
     },
     "execution_count": 151,
     "metadata": {},
     "output_type": "execute_result"
    }
   ],
   "source": [
    "loans['Bankruptcies'].isnull().sum()"
   ]
  },
  {
   "cell_type": "markdown",
   "id": "59493bd7",
   "metadata": {},
   "source": [
    "### Categorical Variables"
   ]
  },
  {
   "cell_type": "markdown",
   "id": "5dd4633b",
   "metadata": {},
   "source": [
    "### 15. Years in current job\n",
    "#### A categorical variable indicating how many years the customer has been in their current job."
   ]
  },
  {
   "cell_type": "code",
   "execution_count": 152,
   "id": "2a3c6000",
   "metadata": {},
   "outputs": [
    {
     "data": {
      "text/html": [
       "<div>\n",
       "<style scoped>\n",
       "    .dataframe tbody tr th:only-of-type {\n",
       "        vertical-align: middle;\n",
       "    }\n",
       "\n",
       "    .dataframe tbody tr th {\n",
       "        vertical-align: top;\n",
       "    }\n",
       "\n",
       "    .dataframe thead th {\n",
       "        text-align: right;\n",
       "    }\n",
       "</style>\n",
       "<table border=\"1\" class=\"dataframe\">\n",
       "  <thead>\n",
       "    <tr style=\"text-align: right;\">\n",
       "      <th>col_0</th>\n",
       "      <th>Years in current job</th>\n",
       "      <th>Percentage</th>\n",
       "    </tr>\n",
       "    <tr>\n",
       "      <th>Years in current job</th>\n",
       "      <th></th>\n",
       "      <th></th>\n",
       "    </tr>\n",
       "  </thead>\n",
       "  <tbody>\n",
       "    <tr>\n",
       "      <th>1 year</th>\n",
       "      <td>5765</td>\n",
       "      <td>6.774940</td>\n",
       "    </tr>\n",
       "    <tr>\n",
       "      <th>10+ years</th>\n",
       "      <td>27410</td>\n",
       "      <td>32.211815</td>\n",
       "    </tr>\n",
       "    <tr>\n",
       "      <th>2 years</th>\n",
       "      <td>8187</td>\n",
       "      <td>9.621238</td>\n",
       "    </tr>\n",
       "    <tr>\n",
       "      <th>3 years</th>\n",
       "      <td>7263</td>\n",
       "      <td>8.535367</td>\n",
       "    </tr>\n",
       "    <tr>\n",
       "      <th>4 years</th>\n",
       "      <td>5474</td>\n",
       "      <td>6.432962</td>\n",
       "    </tr>\n",
       "    <tr>\n",
       "      <th>5 years</th>\n",
       "      <td>6084</td>\n",
       "      <td>7.149824</td>\n",
       "    </tr>\n",
       "    <tr>\n",
       "      <th>6 years</th>\n",
       "      <td>5095</td>\n",
       "      <td>5.987567</td>\n",
       "    </tr>\n",
       "    <tr>\n",
       "      <th>7 years</th>\n",
       "      <td>4943</td>\n",
       "      <td>5.808938</td>\n",
       "    </tr>\n",
       "    <tr>\n",
       "      <th>8 years</th>\n",
       "      <td>4098</td>\n",
       "      <td>4.815907</td>\n",
       "    </tr>\n",
       "    <tr>\n",
       "      <th>9 years</th>\n",
       "      <td>3462</td>\n",
       "      <td>4.068490</td>\n",
       "    </tr>\n",
       "    <tr>\n",
       "      <th>&lt; 1 year</th>\n",
       "      <td>7312</td>\n",
       "      <td>8.592951</td>\n",
       "    </tr>\n",
       "  </tbody>\n",
       "</table>\n",
       "</div>"
      ],
      "text/plain": [
       "col_0                 Years in current job  Percentage\n",
       "Years in current job                                  \n",
       "1 year                                5765    6.774940\n",
       "10+ years                            27410   32.211815\n",
       "2 years                               8187    9.621238\n",
       "3 years                               7263    8.535367\n",
       "4 years                               5474    6.432962\n",
       "5 years                               6084    7.149824\n",
       "6 years                               5095    5.987567\n",
       "7 years                               4943    5.808938\n",
       "8 years                               4098    4.815907\n",
       "9 years                               3462    4.068490\n",
       "< 1 year                              7312    8.592951"
      ]
     },
     "execution_count": 152,
     "metadata": {},
     "output_type": "execute_result"
    }
   ],
   "source": [
    "# Frequency Distribution\n",
    "table = pd.crosstab(loans[\"Years in current job\"],columns=\"Years in current job\")\n",
    "table[\"Percentage\"] = pd.crosstab(loans[\"Years in current job\"],columns=\"Years in current job\",normalize=True)*100\n",
    "table"
   ]
  },
  {
   "cell_type": "code",
   "execution_count": 153,
   "id": "ed3b7b81",
   "metadata": {},
   "outputs": [],
   "source": [
    "# Convert string into Number\n",
    "loans[\"Years in current job\"]= loans[\"Years in current job\"].replace({\"< 1 year\":0,\"1 year\":1,\"2 years\":2,\"3 years\":3,\n",
    "                                                                      \"4 years\":4,\"5 years\":5,\"6 years\":6,\"7 years\":7,\n",
    "                                                                      \"8 years\":8,\"9 years\":9,\"10+ years\":10}) \n",
    "#loans[\"Years in current job\"]"
   ]
  },
  {
   "cell_type": "code",
   "execution_count": 154,
   "id": "56ca73fc",
   "metadata": {
    "scrolled": false
   },
   "outputs": [
    {
     "data": {
      "text/plain": [
       "3817"
      ]
     },
     "execution_count": 154,
     "metadata": {},
     "output_type": "execute_result"
    }
   ],
   "source": [
    "loans['Years in current job'].isnull().sum()"
   ]
  },
  {
   "cell_type": "markdown",
   "id": "62c9f2ef",
   "metadata": {},
   "source": [
    "##### Imputing the null values with conditional mode"
   ]
  },
  {
   "cell_type": "code",
   "execution_count": 155,
   "id": "27bca999",
   "metadata": {},
   "outputs": [
    {
     "name": "stdout",
     "output_type": "stream",
     "text": [
      "Series([], Name: Years in current job, dtype: float64)\n",
      "Series([], Name: Years in current job, dtype: float64)\n"
     ]
    }
   ],
   "source": [
    "print(loans[loans['Loan Status']=='Fully Paid']['Years in current job'].mode())\n",
    "print(loans[loans['Loan Status']=='Charged Off']['Years in current job'].mode())"
   ]
  },
  {
   "cell_type": "code",
   "execution_count": 156,
   "id": "ff3c77f3",
   "metadata": {},
   "outputs": [],
   "source": [
    "# Filling the missing values with the mode since it's a categorical column\n",
    "loans['Years in current job'].fillna(value=0.0,inplace=True)"
   ]
  },
  {
   "cell_type": "code",
   "execution_count": 158,
   "id": "eafe7aae",
   "metadata": {},
   "outputs": [
    {
     "data": {
      "text/plain": [
       "0"
      ]
     },
     "execution_count": 158,
     "metadata": {},
     "output_type": "execute_result"
    }
   ],
   "source": [
    "loans[\"Years in current job\"].isnull().sum()"
   ]
  },
  {
   "cell_type": "markdown",
   "id": "a86d5da2",
   "metadata": {},
   "source": [
    "### 16. Home Ownership\n",
    "#### Categorical variable indicating home ownership. Values are \"Rent\", \"Home Mortgage\",and \"Own\". If the value is OWN, then the customer is a home owner with no mortgage"
   ]
  },
  {
   "cell_type": "code",
   "execution_count": 159,
   "id": "df3cd38d",
   "metadata": {},
   "outputs": [
    {
     "data": {
      "text/html": [
       "<div>\n",
       "<style scoped>\n",
       "    .dataframe tbody tr th:only-of-type {\n",
       "        vertical-align: middle;\n",
       "    }\n",
       "\n",
       "    .dataframe tbody tr th {\n",
       "        vertical-align: top;\n",
       "    }\n",
       "\n",
       "    .dataframe thead th {\n",
       "        text-align: right;\n",
       "    }\n",
       "</style>\n",
       "<table border=\"1\" class=\"dataframe\">\n",
       "  <thead>\n",
       "    <tr style=\"text-align: right;\">\n",
       "      <th>col_0</th>\n",
       "      <th>Home Ownership</th>\n",
       "      <th>Percentage</th>\n",
       "    </tr>\n",
       "    <tr>\n",
       "      <th>Home Ownership</th>\n",
       "      <th></th>\n",
       "      <th></th>\n",
       "    </tr>\n",
       "  </thead>\n",
       "  <tbody>\n",
       "    <tr>\n",
       "      <th>HaveMortgage</th>\n",
       "      <td>170</td>\n",
       "      <td>0.191205</td>\n",
       "    </tr>\n",
       "    <tr>\n",
       "      <th>Home Mortgage</th>\n",
       "      <td>43270</td>\n",
       "      <td>48.667192</td>\n",
       "    </tr>\n",
       "    <tr>\n",
       "      <th>Own Home</th>\n",
       "      <td>8075</td>\n",
       "      <td>9.082218</td>\n",
       "    </tr>\n",
       "    <tr>\n",
       "      <th>Rent</th>\n",
       "      <td>37395</td>\n",
       "      <td>42.059386</td>\n",
       "    </tr>\n",
       "  </tbody>\n",
       "</table>\n",
       "</div>"
      ],
      "text/plain": [
       "col_0           Home Ownership  Percentage\n",
       "Home Ownership                            \n",
       "HaveMortgage               170    0.191205\n",
       "Home Mortgage            43270   48.667192\n",
       "Own Home                  8075    9.082218\n",
       "Rent                     37395   42.059386"
      ]
     },
     "execution_count": 159,
     "metadata": {},
     "output_type": "execute_result"
    }
   ],
   "source": [
    "# Frequency Distribution\n",
    "table = pd.crosstab(loans[\"Home Ownership\"],columns=\"Home Ownership\")\n",
    "table[\"Percentage\"] = pd.crosstab(loans[\"Home Ownership\"],columns=\"Home Ownership\",normalize=True)*100\n",
    "table\n",
    "# There is a Category called 'HaveMortgage' which is not available as per Description,so it must be\n",
    "# Home Mortgage instead of HaveMortgage"
   ]
  },
  {
   "cell_type": "code",
   "execution_count": 160,
   "id": "39f06aa7",
   "metadata": {},
   "outputs": [],
   "source": [
    "# Replacing every instance of 'HaveMortgage' with 'Home Mortgage'\n",
    "loans['Home Ownership'] = loans['Home Ownership'].apply(lambda x: 'Home Mortgage' if x=='HaveMortgage' else x)"
   ]
  },
  {
   "cell_type": "code",
   "execution_count": 161,
   "id": "c2f23a70",
   "metadata": {},
   "outputs": [
    {
     "data": {
      "text/plain": [
       "array(['Rent', 'Home Mortgage', 'Own Home'], dtype=object)"
      ]
     },
     "execution_count": 161,
     "metadata": {},
     "output_type": "execute_result"
    }
   ],
   "source": [
    "# Checking for the number of unique values in the Home Ownership series\n",
    "loans['Home Ownership'].unique()"
   ]
  },
  {
   "cell_type": "code",
   "execution_count": 162,
   "id": "7985097d",
   "metadata": {
    "scrolled": true
   },
   "outputs": [
    {
     "data": {
      "text/plain": [
       "0"
      ]
     },
     "execution_count": 162,
     "metadata": {},
     "output_type": "execute_result"
    }
   ],
   "source": [
    "loans['Home Ownership'].isnull().sum()"
   ]
  },
  {
   "cell_type": "markdown",
   "id": "cad43bcd",
   "metadata": {},
   "source": [
    "### 17. Purpose\n",
    "#### A description of the purpose of the loan."
   ]
  },
  {
   "cell_type": "code",
   "execution_count": 163,
   "id": "4425963c",
   "metadata": {},
   "outputs": [
    {
     "data": {
      "text/html": [
       "<div>\n",
       "<style scoped>\n",
       "    .dataframe tbody tr th:only-of-type {\n",
       "        vertical-align: middle;\n",
       "    }\n",
       "\n",
       "    .dataframe tbody tr th {\n",
       "        vertical-align: top;\n",
       "    }\n",
       "\n",
       "    .dataframe thead th {\n",
       "        text-align: right;\n",
       "    }\n",
       "</style>\n",
       "<table border=\"1\" class=\"dataframe\">\n",
       "  <thead>\n",
       "    <tr style=\"text-align: right;\">\n",
       "      <th>col_0</th>\n",
       "      <th>Purpose</th>\n",
       "      <th>Percentage</th>\n",
       "    </tr>\n",
       "    <tr>\n",
       "      <th>Purpose</th>\n",
       "      <th></th>\n",
       "      <th></th>\n",
       "    </tr>\n",
       "  </thead>\n",
       "  <tbody>\n",
       "    <tr>\n",
       "      <th>Business Loan</th>\n",
       "      <td>1328</td>\n",
       "      <td>1.493645</td>\n",
       "    </tr>\n",
       "    <tr>\n",
       "      <th>Buy House</th>\n",
       "      <td>559</td>\n",
       "      <td>0.628726</td>\n",
       "    </tr>\n",
       "    <tr>\n",
       "      <th>Buy a Car</th>\n",
       "      <td>1196</td>\n",
       "      <td>1.345181</td>\n",
       "    </tr>\n",
       "    <tr>\n",
       "      <th>Debt Consolidation</th>\n",
       "      <td>70447</td>\n",
       "      <td>79.234057</td>\n",
       "    </tr>\n",
       "    <tr>\n",
       "      <th>Educational Expenses</th>\n",
       "      <td>92</td>\n",
       "      <td>0.103475</td>\n",
       "    </tr>\n",
       "    <tr>\n",
       "      <th>Home Improvements</th>\n",
       "      <td>5206</td>\n",
       "      <td>5.855359</td>\n",
       "    </tr>\n",
       "    <tr>\n",
       "      <th>Medical Bills</th>\n",
       "      <td>955</td>\n",
       "      <td>1.074120</td>\n",
       "    </tr>\n",
       "    <tr>\n",
       "      <th>Other</th>\n",
       "      <td>2850</td>\n",
       "      <td>3.205489</td>\n",
       "    </tr>\n",
       "    <tr>\n",
       "      <th>Take a Trip</th>\n",
       "      <td>454</td>\n",
       "      <td>0.510629</td>\n",
       "    </tr>\n",
       "    <tr>\n",
       "      <th>major_purchase</th>\n",
       "      <td>344</td>\n",
       "      <td>0.386908</td>\n",
       "    </tr>\n",
       "    <tr>\n",
       "      <th>moving</th>\n",
       "      <td>124</td>\n",
       "      <td>0.139467</td>\n",
       "    </tr>\n",
       "    <tr>\n",
       "      <th>other</th>\n",
       "      <td>4917</td>\n",
       "      <td>5.530312</td>\n",
       "    </tr>\n",
       "    <tr>\n",
       "      <th>renewable_energy</th>\n",
       "      <td>9</td>\n",
       "      <td>0.010123</td>\n",
       "    </tr>\n",
       "    <tr>\n",
       "      <th>small_business</th>\n",
       "      <td>248</td>\n",
       "      <td>0.278934</td>\n",
       "    </tr>\n",
       "    <tr>\n",
       "      <th>vacation</th>\n",
       "      <td>82</td>\n",
       "      <td>0.092228</td>\n",
       "    </tr>\n",
       "    <tr>\n",
       "      <th>wedding</th>\n",
       "      <td>99</td>\n",
       "      <td>0.111349</td>\n",
       "    </tr>\n",
       "  </tbody>\n",
       "</table>\n",
       "</div>"
      ],
      "text/plain": [
       "col_0                 Purpose  Percentage\n",
       "Purpose                                  \n",
       "Business Loan            1328    1.493645\n",
       "Buy House                 559    0.628726\n",
       "Buy a Car                1196    1.345181\n",
       "Debt Consolidation      70447   79.234057\n",
       "Educational Expenses       92    0.103475\n",
       "Home Improvements        5206    5.855359\n",
       "Medical Bills             955    1.074120\n",
       "Other                    2850    3.205489\n",
       "Take a Trip               454    0.510629\n",
       "major_purchase            344    0.386908\n",
       "moving                    124    0.139467\n",
       "other                    4917    5.530312\n",
       "renewable_energy            9    0.010123\n",
       "small_business            248    0.278934\n",
       "vacation                   82    0.092228\n",
       "wedding                    99    0.111349"
      ]
     },
     "execution_count": 163,
     "metadata": {},
     "output_type": "execute_result"
    }
   ],
   "source": [
    "# Frequency Distribution\n",
    "table = pd.crosstab(loans[\"Purpose\"],columns=\"Purpose\")\n",
    "table[\"Percentage\"] = pd.crosstab(loans[\"Purpose\"],columns=\"Purpose\",normalize=True)*100\n",
    "table"
   ]
  },
  {
   "cell_type": "code",
   "execution_count": 164,
   "id": "204b8987",
   "metadata": {},
   "outputs": [
    {
     "data": {
      "text/plain": [
       "16"
      ]
     },
     "execution_count": 164,
     "metadata": {},
     "output_type": "execute_result"
    }
   ],
   "source": [
    "loans['Purpose'].nunique()"
   ]
  },
  {
   "cell_type": "code",
   "execution_count": 165,
   "id": "64699a37",
   "metadata": {},
   "outputs": [],
   "source": [
    "# replacing the instances of 'Other' with 'other'\n",
    "loans['Purpose'].replace({'Other':'other'},inplace=True)"
   ]
  },
  {
   "cell_type": "code",
   "execution_count": 166,
   "id": "cf6541c3",
   "metadata": {},
   "outputs": [
    {
     "data": {
      "text/plain": [
       "15"
      ]
     },
     "execution_count": 166,
     "metadata": {},
     "output_type": "execute_result"
    }
   ],
   "source": [
    "loans['Purpose'].nunique()"
   ]
  },
  {
   "cell_type": "code",
   "execution_count": 167,
   "id": "2f8cec79",
   "metadata": {
    "scrolled": false
   },
   "outputs": [
    {
     "data": {
      "text/plain": [
       "0"
      ]
     },
     "execution_count": 167,
     "metadata": {},
     "output_type": "execute_result"
    }
   ],
   "source": [
    "loans['Purpose'].isnull().sum()"
   ]
  },
  {
   "cell_type": "markdown",
   "id": "712d9041",
   "metadata": {},
   "source": [
    "### 18. Term\n",
    "#### A categorical variable indicating if it is a short term or long term loan."
   ]
  },
  {
   "cell_type": "code",
   "execution_count": 168,
   "id": "bc464def",
   "metadata": {},
   "outputs": [
    {
     "data": {
      "text/html": [
       "<div>\n",
       "<style scoped>\n",
       "    .dataframe tbody tr th:only-of-type {\n",
       "        vertical-align: middle;\n",
       "    }\n",
       "\n",
       "    .dataframe tbody tr th {\n",
       "        vertical-align: top;\n",
       "    }\n",
       "\n",
       "    .dataframe thead th {\n",
       "        text-align: right;\n",
       "    }\n",
       "</style>\n",
       "<table border=\"1\" class=\"dataframe\">\n",
       "  <thead>\n",
       "    <tr style=\"text-align: right;\">\n",
       "      <th>col_0</th>\n",
       "      <th>Term</th>\n",
       "      <th>Percentage</th>\n",
       "    </tr>\n",
       "    <tr>\n",
       "      <th>Term</th>\n",
       "      <th></th>\n",
       "      <th></th>\n",
       "    </tr>\n",
       "  </thead>\n",
       "  <tbody>\n",
       "    <tr>\n",
       "      <th>Long Term</th>\n",
       "      <td>21978</td>\n",
       "      <td>24.719379</td>\n",
       "    </tr>\n",
       "    <tr>\n",
       "      <th>Short Term</th>\n",
       "      <td>66932</td>\n",
       "      <td>75.280621</td>\n",
       "    </tr>\n",
       "  </tbody>\n",
       "</table>\n",
       "</div>"
      ],
      "text/plain": [
       "col_0        Term  Percentage\n",
       "Term                         \n",
       "Long Term   21978   24.719379\n",
       "Short Term  66932   75.280621"
      ]
     },
     "execution_count": 168,
     "metadata": {},
     "output_type": "execute_result"
    }
   ],
   "source": [
    "# Frequency Distribution\n",
    "table = pd.crosstab(loans[\"Term\"],columns=\"Term\")\n",
    "table[\"Percentage\"] = pd.crosstab(loans[\"Term\"],columns=\"Term\",normalize=True)*100\n",
    "table"
   ]
  },
  {
   "cell_type": "code",
   "execution_count": 169,
   "id": "5da75c4c",
   "metadata": {
    "scrolled": false
   },
   "outputs": [
    {
     "data": {
      "text/plain": [
       "0"
      ]
     },
     "execution_count": 169,
     "metadata": {},
     "output_type": "execute_result"
    }
   ],
   "source": [
    "loans['Term'].isnull().sum()"
   ]
  },
  {
   "cell_type": "markdown",
   "id": "e8636e35",
   "metadata": {},
   "source": [
    "### One hot encoding for Categorical variables (term,purpose,Home Ownership)"
   ]
  },
  {
   "cell_type": "code",
   "execution_count": 170,
   "id": "897f0764",
   "metadata": {},
   "outputs": [
    {
     "data": {
      "text/html": [
       "<div>\n",
       "<style scoped>\n",
       "    .dataframe tbody tr th:only-of-type {\n",
       "        vertical-align: middle;\n",
       "    }\n",
       "\n",
       "    .dataframe tbody tr th {\n",
       "        vertical-align: top;\n",
       "    }\n",
       "\n",
       "    .dataframe thead th {\n",
       "        text-align: right;\n",
       "    }\n",
       "</style>\n",
       "<table border=\"1\" class=\"dataframe\">\n",
       "  <thead>\n",
       "    <tr style=\"text-align: right;\">\n",
       "      <th></th>\n",
       "      <th>Loan Status</th>\n",
       "      <th>Current Loan Amount</th>\n",
       "      <th>Credit Score</th>\n",
       "      <th>Years in current job</th>\n",
       "      <th>Annual Income</th>\n",
       "      <th>Monthly Debt</th>\n",
       "      <th>Years of Credit History</th>\n",
       "      <th>Months since last delinquent</th>\n",
       "      <th>Number of Open Accounts</th>\n",
       "      <th>Number of Credit Problems</th>\n",
       "      <th>...</th>\n",
       "      <th>Purpose_Home Improvements</th>\n",
       "      <th>Purpose_Medical Bills</th>\n",
       "      <th>Purpose_Take a Trip</th>\n",
       "      <th>Purpose_major_purchase</th>\n",
       "      <th>Purpose_moving</th>\n",
       "      <th>Purpose_other</th>\n",
       "      <th>Purpose_renewable_energy</th>\n",
       "      <th>Purpose_small_business</th>\n",
       "      <th>Purpose_vacation</th>\n",
       "      <th>Purpose_wedding</th>\n",
       "    </tr>\n",
       "  </thead>\n",
       "  <tbody>\n",
       "    <tr>\n",
       "      <th>0</th>\n",
       "      <td>0</td>\n",
       "      <td>12232</td>\n",
       "      <td>728.0</td>\n",
       "      <td>0.0</td>\n",
       "      <td>46643.0</td>\n",
       "      <td>777.39</td>\n",
       "      <td>18.0</td>\n",
       "      <td>10.0</td>\n",
       "      <td>12</td>\n",
       "      <td>0</td>\n",
       "      <td>...</td>\n",
       "      <td>0</td>\n",
       "      <td>0</td>\n",
       "      <td>0</td>\n",
       "      <td>0</td>\n",
       "      <td>0</td>\n",
       "      <td>0</td>\n",
       "      <td>0</td>\n",
       "      <td>0</td>\n",
       "      <td>0</td>\n",
       "      <td>0</td>\n",
       "    </tr>\n",
       "    <tr>\n",
       "      <th>1</th>\n",
       "      <td>0</td>\n",
       "      <td>25014</td>\n",
       "      <td>733.0</td>\n",
       "      <td>10.0</td>\n",
       "      <td>81099.0</td>\n",
       "      <td>892.09</td>\n",
       "      <td>26.7</td>\n",
       "      <td>31.0</td>\n",
       "      <td>14</td>\n",
       "      <td>0</td>\n",
       "      <td>...</td>\n",
       "      <td>0</td>\n",
       "      <td>0</td>\n",
       "      <td>0</td>\n",
       "      <td>0</td>\n",
       "      <td>0</td>\n",
       "      <td>0</td>\n",
       "      <td>0</td>\n",
       "      <td>0</td>\n",
       "      <td>0</td>\n",
       "      <td>0</td>\n",
       "    </tr>\n",
       "    <tr>\n",
       "      <th>2</th>\n",
       "      <td>0</td>\n",
       "      <td>16117</td>\n",
       "      <td>724.0</td>\n",
       "      <td>9.0</td>\n",
       "      <td>60438.0</td>\n",
       "      <td>1244.02</td>\n",
       "      <td>16.7</td>\n",
       "      <td>32.0</td>\n",
       "      <td>11</td>\n",
       "      <td>1</td>\n",
       "      <td>...</td>\n",
       "      <td>1</td>\n",
       "      <td>0</td>\n",
       "      <td>0</td>\n",
       "      <td>0</td>\n",
       "      <td>0</td>\n",
       "      <td>0</td>\n",
       "      <td>0</td>\n",
       "      <td>0</td>\n",
       "      <td>0</td>\n",
       "      <td>0</td>\n",
       "    </tr>\n",
       "    <tr>\n",
       "      <th>3</th>\n",
       "      <td>0</td>\n",
       "      <td>11716</td>\n",
       "      <td>740.0</td>\n",
       "      <td>3.0</td>\n",
       "      <td>34171.0</td>\n",
       "      <td>990.94</td>\n",
       "      <td>10.0</td>\n",
       "      <td>31.0</td>\n",
       "      <td>21</td>\n",
       "      <td>0</td>\n",
       "      <td>...</td>\n",
       "      <td>0</td>\n",
       "      <td>0</td>\n",
       "      <td>0</td>\n",
       "      <td>0</td>\n",
       "      <td>0</td>\n",
       "      <td>0</td>\n",
       "      <td>0</td>\n",
       "      <td>0</td>\n",
       "      <td>0</td>\n",
       "      <td>0</td>\n",
       "    </tr>\n",
       "    <tr>\n",
       "      <th>4</th>\n",
       "      <td>0</td>\n",
       "      <td>9789</td>\n",
       "      <td>686.0</td>\n",
       "      <td>10.0</td>\n",
       "      <td>47003.0</td>\n",
       "      <td>503.71</td>\n",
       "      <td>16.7</td>\n",
       "      <td>25.0</td>\n",
       "      <td>13</td>\n",
       "      <td>1</td>\n",
       "      <td>...</td>\n",
       "      <td>1</td>\n",
       "      <td>0</td>\n",
       "      <td>0</td>\n",
       "      <td>0</td>\n",
       "      <td>0</td>\n",
       "      <td>0</td>\n",
       "      <td>0</td>\n",
       "      <td>0</td>\n",
       "      <td>0</td>\n",
       "      <td>0</td>\n",
       "    </tr>\n",
       "    <tr>\n",
       "      <th>...</th>\n",
       "      <td>...</td>\n",
       "      <td>...</td>\n",
       "      <td>...</td>\n",
       "      <td>...</td>\n",
       "      <td>...</td>\n",
       "      <td>...</td>\n",
       "      <td>...</td>\n",
       "      <td>...</td>\n",
       "      <td>...</td>\n",
       "      <td>...</td>\n",
       "      <td>...</td>\n",
       "      <td>...</td>\n",
       "      <td>...</td>\n",
       "      <td>...</td>\n",
       "      <td>...</td>\n",
       "      <td>...</td>\n",
       "      <td>...</td>\n",
       "      <td>...</td>\n",
       "      <td>...</td>\n",
       "      <td>...</td>\n",
       "      <td>...</td>\n",
       "    </tr>\n",
       "    <tr>\n",
       "      <th>88905</th>\n",
       "      <td>1</td>\n",
       "      <td>10136</td>\n",
       "      <td>728.0</td>\n",
       "      <td>10.0</td>\n",
       "      <td>35476.0</td>\n",
       "      <td>567.62</td>\n",
       "      <td>21.2</td>\n",
       "      <td>14.0</td>\n",
       "      <td>14</td>\n",
       "      <td>0</td>\n",
       "      <td>...</td>\n",
       "      <td>0</td>\n",
       "      <td>0</td>\n",
       "      <td>0</td>\n",
       "      <td>0</td>\n",
       "      <td>0</td>\n",
       "      <td>0</td>\n",
       "      <td>0</td>\n",
       "      <td>0</td>\n",
       "      <td>0</td>\n",
       "      <td>0</td>\n",
       "    </tr>\n",
       "    <tr>\n",
       "      <th>88906</th>\n",
       "      <td>1</td>\n",
       "      <td>29610</td>\n",
       "      <td>710.0</td>\n",
       "      <td>10.0</td>\n",
       "      <td>123375.0</td>\n",
       "      <td>2508.63</td>\n",
       "      <td>15.0</td>\n",
       "      <td>16.0</td>\n",
       "      <td>11</td>\n",
       "      <td>0</td>\n",
       "      <td>...</td>\n",
       "      <td>0</td>\n",
       "      <td>0</td>\n",
       "      <td>0</td>\n",
       "      <td>0</td>\n",
       "      <td>0</td>\n",
       "      <td>0</td>\n",
       "      <td>0</td>\n",
       "      <td>0</td>\n",
       "      <td>0</td>\n",
       "      <td>0</td>\n",
       "    </tr>\n",
       "    <tr>\n",
       "      <th>88907</th>\n",
       "      <td>1</td>\n",
       "      <td>24394</td>\n",
       "      <td>746.0</td>\n",
       "      <td>0.0</td>\n",
       "      <td>71148.0</td>\n",
       "      <td>818.20</td>\n",
       "      <td>36.4</td>\n",
       "      <td>9.0</td>\n",
       "      <td>8</td>\n",
       "      <td>0</td>\n",
       "      <td>...</td>\n",
       "      <td>0</td>\n",
       "      <td>0</td>\n",
       "      <td>0</td>\n",
       "      <td>0</td>\n",
       "      <td>0</td>\n",
       "      <td>0</td>\n",
       "      <td>0</td>\n",
       "      <td>0</td>\n",
       "      <td>0</td>\n",
       "      <td>0</td>\n",
       "    </tr>\n",
       "    <tr>\n",
       "      <th>88908</th>\n",
       "      <td>0</td>\n",
       "      <td>5030</td>\n",
       "      <td>722.0</td>\n",
       "      <td>0.0</td>\n",
       "      <td>25424.0</td>\n",
       "      <td>360.17</td>\n",
       "      <td>19.0</td>\n",
       "      <td>7.0</td>\n",
       "      <td>12</td>\n",
       "      <td>0</td>\n",
       "      <td>...</td>\n",
       "      <td>0</td>\n",
       "      <td>0</td>\n",
       "      <td>0</td>\n",
       "      <td>0</td>\n",
       "      <td>0</td>\n",
       "      <td>0</td>\n",
       "      <td>0</td>\n",
       "      <td>0</td>\n",
       "      <td>0</td>\n",
       "      <td>0</td>\n",
       "    </tr>\n",
       "    <tr>\n",
       "      <th>88909</th>\n",
       "      <td>1</td>\n",
       "      <td>18446</td>\n",
       "      <td>718.0</td>\n",
       "      <td>6.0</td>\n",
       "      <td>44066.0</td>\n",
       "      <td>749.13</td>\n",
       "      <td>10.7</td>\n",
       "      <td>32.0</td>\n",
       "      <td>18</td>\n",
       "      <td>1</td>\n",
       "      <td>...</td>\n",
       "      <td>0</td>\n",
       "      <td>0</td>\n",
       "      <td>0</td>\n",
       "      <td>0</td>\n",
       "      <td>0</td>\n",
       "      <td>0</td>\n",
       "      <td>0</td>\n",
       "      <td>0</td>\n",
       "      <td>0</td>\n",
       "      <td>0</td>\n",
       "    </tr>\n",
       "  </tbody>\n",
       "</table>\n",
       "<p>88910 rows × 34 columns</p>\n",
       "</div>"
      ],
      "text/plain": [
       "       Loan Status  Current Loan Amount  Credit Score  Years in current job  \\\n",
       "0                0                12232         728.0                   0.0   \n",
       "1                0                25014         733.0                  10.0   \n",
       "2                0                16117         724.0                   9.0   \n",
       "3                0                11716         740.0                   3.0   \n",
       "4                0                 9789         686.0                  10.0   \n",
       "...            ...                  ...           ...                   ...   \n",
       "88905            1                10136         728.0                  10.0   \n",
       "88906            1                29610         710.0                  10.0   \n",
       "88907            1                24394         746.0                   0.0   \n",
       "88908            0                 5030         722.0                   0.0   \n",
       "88909            1                18446         718.0                   6.0   \n",
       "\n",
       "       Annual Income  Monthly Debt  Years of Credit History  \\\n",
       "0            46643.0        777.39                     18.0   \n",
       "1            81099.0        892.09                     26.7   \n",
       "2            60438.0       1244.02                     16.7   \n",
       "3            34171.0        990.94                     10.0   \n",
       "4            47003.0        503.71                     16.7   \n",
       "...              ...           ...                      ...   \n",
       "88905        35476.0        567.62                     21.2   \n",
       "88906       123375.0       2508.63                     15.0   \n",
       "88907        71148.0        818.20                     36.4   \n",
       "88908        25424.0        360.17                     19.0   \n",
       "88909        44066.0        749.13                     10.7   \n",
       "\n",
       "       Months since last delinquent  Number of Open Accounts  \\\n",
       "0                              10.0                       12   \n",
       "1                              31.0                       14   \n",
       "2                              32.0                       11   \n",
       "3                              31.0                       21   \n",
       "4                              25.0                       13   \n",
       "...                             ...                      ...   \n",
       "88905                          14.0                       14   \n",
       "88906                          16.0                       11   \n",
       "88907                           9.0                        8   \n",
       "88908                           7.0                       12   \n",
       "88909                          32.0                       18   \n",
       "\n",
       "       Number of Credit Problems  ...  Purpose_Home Improvements  \\\n",
       "0                              0  ...                          0   \n",
       "1                              0  ...                          0   \n",
       "2                              1  ...                          1   \n",
       "3                              0  ...                          0   \n",
       "4                              1  ...                          1   \n",
       "...                          ...  ...                        ...   \n",
       "88905                          0  ...                          0   \n",
       "88906                          0  ...                          0   \n",
       "88907                          0  ...                          0   \n",
       "88908                          0  ...                          0   \n",
       "88909                          1  ...                          0   \n",
       "\n",
       "       Purpose_Medical Bills  Purpose_Take a Trip  Purpose_major_purchase  \\\n",
       "0                          0                    0                       0   \n",
       "1                          0                    0                       0   \n",
       "2                          0                    0                       0   \n",
       "3                          0                    0                       0   \n",
       "4                          0                    0                       0   \n",
       "...                      ...                  ...                     ...   \n",
       "88905                      0                    0                       0   \n",
       "88906                      0                    0                       0   \n",
       "88907                      0                    0                       0   \n",
       "88908                      0                    0                       0   \n",
       "88909                      0                    0                       0   \n",
       "\n",
       "       Purpose_moving  Purpose_other  Purpose_renewable_energy  \\\n",
       "0                   0              0                         0   \n",
       "1                   0              0                         0   \n",
       "2                   0              0                         0   \n",
       "3                   0              0                         0   \n",
       "4                   0              0                         0   \n",
       "...               ...            ...                       ...   \n",
       "88905               0              0                         0   \n",
       "88906               0              0                         0   \n",
       "88907               0              0                         0   \n",
       "88908               0              0                         0   \n",
       "88909               0              0                         0   \n",
       "\n",
       "       Purpose_small_business  Purpose_vacation  Purpose_wedding  \n",
       "0                           0                 0                0  \n",
       "1                           0                 0                0  \n",
       "2                           0                 0                0  \n",
       "3                           0                 0                0  \n",
       "4                           0                 0                0  \n",
       "...                       ...               ...              ...  \n",
       "88905                       0                 0                0  \n",
       "88906                       0                 0                0  \n",
       "88907                       0                 0                0  \n",
       "88908                       0                 0                0  \n",
       "88909                       0                 0                0  \n",
       "\n",
       "[88910 rows x 34 columns]"
      ]
     },
     "execution_count": 170,
     "metadata": {},
     "output_type": "execute_result"
    }
   ],
   "source": [
    "one_hot_encoded_data = pd.get_dummies(loans, columns = ['Term', 'Home Ownership','Purpose'])\n",
    "Loans=one_hot_encoded_data\n",
    "Loans"
   ]
  },
  {
   "cell_type": "markdown",
   "id": "1b54e3c7",
   "metadata": {},
   "source": [
    "# Exploratory Data Analysis"
   ]
  },
  {
   "cell_type": "markdown",
   "id": "3a2ad512",
   "metadata": {},
   "source": [
    "### Uni-variate Analysis of Numerical Variable"
   ]
  },
  {
   "cell_type": "code",
   "execution_count": 171,
   "id": "a26cc66d",
   "metadata": {},
   "outputs": [],
   "source": [
    "EDA_Numerical = Loans.select_dtypes(exclude='object')"
   ]
  },
  {
   "cell_type": "code",
   "execution_count": null,
   "id": "009a2316",
   "metadata": {
    "scrolled": false
   },
   "outputs": [],
   "source": [
    "# for col in EDA_Numerical.columns:\n",
    "#     #histogram\n",
    "#     EDA_Numerical.hist(column = col,\n",
    "#               grid=False,        #Do not include the grid\n",
    "#               figsize=(10,5),\n",
    "#               color=\"pink\",\n",
    "#               edgecolor=\"black\",\n",
    "#               bins=20)     #(Length,Height) of the plot in inches\n",
    "#     plt.show()\n",
    "#     #boxplot\n",
    "#     EDA_Numerical.boxplot(column= col,\n",
    "#                 grid= False,\n",
    "#                 figsize=(5,4),\n",
    "#                 notch=True)\n",
    "#     plt.show()"
   ]
  },
  {
   "cell_type": "markdown",
   "id": "93d9ee38",
   "metadata": {},
   "source": [
    "### Uni-variate Analysis of Categorical Variable"
   ]
  },
  {
   "cell_type": "code",
   "execution_count": null,
   "id": "a08e8438",
   "metadata": {},
   "outputs": [],
   "source": [
    "# EDA_Categorical = Loans.select_dtypes(include='object')"
   ]
  },
  {
   "cell_type": "code",
   "execution_count": null,
   "id": "8c096a24",
   "metadata": {},
   "outputs": [],
   "source": [
    "# for col in EDA_Categorical.columns:\n",
    "#     Loans[col].value_counts().plot( kind='bar', xlabel=col, ylabel='frequency', color=['yellow','Orange','pink'])\n",
    "#     plt.show()"
   ]
  },
  {
   "cell_type": "markdown",
   "id": "61047a99",
   "metadata": {},
   "source": [
    "### Predictors and Target"
   ]
  },
  {
   "cell_type": "code",
   "execution_count": 172,
   "id": "b3981532",
   "metadata": {},
   "outputs": [],
   "source": [
    "X_train = Loans.drop([\"Loan Status\"],axis=1)  \n",
    "y_train = Loans[\"Loan Status\"]"
   ]
  },
  {
   "cell_type": "markdown",
   "id": "a9f27a84",
   "metadata": {},
   "source": [
    "##### The Above Plot shows that our dataset is a class imbalanced dataset"
   ]
  },
  {
   "cell_type": "markdown",
   "id": "fae57765",
   "metadata": {},
   "source": [
    "# TEST DATA"
   ]
  },
  {
   "cell_type": "code",
   "execution_count": null,
   "id": "6469d2de",
   "metadata": {},
   "outputs": [],
   "source": [
    "import os\n",
    "os.getcwd()"
   ]
  },
  {
   "cell_type": "code",
   "execution_count": 173,
   "id": "bc53407a",
   "metadata": {},
   "outputs": [
    {
     "data": {
      "text/html": [
       "<div>\n",
       "<style scoped>\n",
       "    .dataframe tbody tr th:only-of-type {\n",
       "        vertical-align: middle;\n",
       "    }\n",
       "\n",
       "    .dataframe tbody tr th {\n",
       "        vertical-align: top;\n",
       "    }\n",
       "\n",
       "    .dataframe thead th {\n",
       "        text-align: right;\n",
       "    }\n",
       "</style>\n",
       "<table border=\"1\" class=\"dataframe\">\n",
       "  <thead>\n",
       "    <tr style=\"text-align: right;\">\n",
       "      <th></th>\n",
       "      <th>Loan ID</th>\n",
       "      <th>Loan Status_x</th>\n",
       "      <th>Customer ID</th>\n",
       "      <th>Loan Status_y</th>\n",
       "      <th>Current Loan Amount</th>\n",
       "      <th>Term</th>\n",
       "      <th>Credit Score</th>\n",
       "      <th>Years in current job</th>\n",
       "      <th>Home Ownership</th>\n",
       "      <th>Annual Income</th>\n",
       "      <th>Purpose</th>\n",
       "      <th>Monthly Debt</th>\n",
       "      <th>Years of Credit History</th>\n",
       "      <th>Months since last delinquent</th>\n",
       "      <th>Number of Open Accounts</th>\n",
       "      <th>Number of Credit Problems</th>\n",
       "      <th>Current Credit Balance</th>\n",
       "      <th>Maximum Open Credit</th>\n",
       "      <th>Bankruptcies</th>\n",
       "      <th>Tax Liens</th>\n",
       "    </tr>\n",
       "  </thead>\n",
       "  <tbody>\n",
       "    <tr>\n",
       "      <th>0</th>\n",
       "      <td>03e0da0c-fac3-42f8-a396-ed5a226466e0</td>\n",
       "      <td>Fully Paid</td>\n",
       "      <td>16ecb7be-c90f-4bdb-b168-da705d9b1fa7</td>\n",
       "      <td>To be predicted</td>\n",
       "      <td>23023</td>\n",
       "      <td>Long Term</td>\n",
       "      <td>597</td>\n",
       "      <td>10+ years</td>\n",
       "      <td>Home Mortgage</td>\n",
       "      <td>72230</td>\n",
       "      <td>Debt Consolidation</td>\n",
       "      <td>$613.96</td>\n",
       "      <td>14.0</td>\n",
       "      <td>NaN</td>\n",
       "      <td>11</td>\n",
       "      <td>0</td>\n",
       "      <td>23188</td>\n",
       "      <td>NaN</td>\n",
       "      <td>NaN</td>\n",
       "      <td>NaN</td>\n",
       "    </tr>\n",
       "    <tr>\n",
       "      <th>1</th>\n",
       "      <td>01825d5d-429a-4de6-b3d4-8618364d2df2</td>\n",
       "      <td>Charged Off</td>\n",
       "      <td>9e0609db-23c1-43b0-9326-0e67ca1e8f1d</td>\n",
       "      <td>To be predicted</td>\n",
       "      <td>8126</td>\n",
       "      <td>Short Term</td>\n",
       "      <td>696</td>\n",
       "      <td>2 years</td>\n",
       "      <td>Rent</td>\n",
       "      <td>55869</td>\n",
       "      <td>Debt Consolidation</td>\n",
       "      <td>$665.78</td>\n",
       "      <td>10.9</td>\n",
       "      <td>NaN</td>\n",
       "      <td>14</td>\n",
       "      <td>0</td>\n",
       "      <td>6135</td>\n",
       "      <td>NaN</td>\n",
       "      <td>NaN</td>\n",
       "      <td>NaN</td>\n",
       "    </tr>\n",
       "    <tr>\n",
       "      <th>2</th>\n",
       "      <td>c159a79a-8d2b-447c-92a9-052b5466d6cd</td>\n",
       "      <td>Fully Paid</td>\n",
       "      <td>c54e404f-1e94-45a2-9473-972e2f3c378b</td>\n",
       "      <td>To be predicted</td>\n",
       "      <td>5042</td>\n",
       "      <td>Short Term</td>\n",
       "      <td>745</td>\n",
       "      <td>10+ years</td>\n",
       "      <td>Home Mortgage</td>\n",
       "      <td>40332</td>\n",
       "      <td>Debt Consolidation</td>\n",
       "      <td>873.86</td>\n",
       "      <td>16.4</td>\n",
       "      <td>11.0</td>\n",
       "      <td>6</td>\n",
       "      <td>0</td>\n",
       "      <td>6698</td>\n",
       "      <td>17958.0</td>\n",
       "      <td>0.0</td>\n",
       "      <td>0.0</td>\n",
       "    </tr>\n",
       "    <tr>\n",
       "      <th>3</th>\n",
       "      <td>c1428058-2dc6-4a88-b64c-b6034dfb4f8f</td>\n",
       "      <td>Charged Off</td>\n",
       "      <td>37923e4e-df73-4093-a4b8-c2dfcbd0c8d8</td>\n",
       "      <td>To be predicted</td>\n",
       "      <td>14139</td>\n",
       "      <td>Long Term</td>\n",
       "      <td>677</td>\n",
       "      <td>&lt; 1 year</td>\n",
       "      <td>Rent</td>\n",
       "      <td>70693</td>\n",
       "      <td>Debt Consolidation</td>\n",
       "      <td>482.48</td>\n",
       "      <td>19.5</td>\n",
       "      <td>33.0</td>\n",
       "      <td>8</td>\n",
       "      <td>0</td>\n",
       "      <td>5928</td>\n",
       "      <td>7273.0</td>\n",
       "      <td>0.0</td>\n",
       "      <td>0.0</td>\n",
       "    </tr>\n",
       "    <tr>\n",
       "      <th>4</th>\n",
       "      <td>20344186-79bd-487a-b7c4-f3c7b57fe3e8</td>\n",
       "      <td>Charged Off</td>\n",
       "      <td>d5dc29d5-06f9-452e-9d55-c1d543dca5dd</td>\n",
       "      <td>To be predicted</td>\n",
       "      <td>15191</td>\n",
       "      <td>Long Term</td>\n",
       "      <td>716</td>\n",
       "      <td>10+ years</td>\n",
       "      <td>Home Mortgage</td>\n",
       "      <td>38442</td>\n",
       "      <td>Debt Consolidation</td>\n",
       "      <td>611.87</td>\n",
       "      <td>17.8</td>\n",
       "      <td>0.0</td>\n",
       "      <td>4</td>\n",
       "      <td>0</td>\n",
       "      <td>10714</td>\n",
       "      <td>11243.0</td>\n",
       "      <td>0.0</td>\n",
       "      <td>0.0</td>\n",
       "    </tr>\n",
       "  </tbody>\n",
       "</table>\n",
       "</div>"
      ],
      "text/plain": [
       "                                Loan ID Loan Status_x  \\\n",
       "0  03e0da0c-fac3-42f8-a396-ed5a226466e0    Fully Paid   \n",
       "1  01825d5d-429a-4de6-b3d4-8618364d2df2   Charged Off   \n",
       "2  c159a79a-8d2b-447c-92a9-052b5466d6cd    Fully Paid   \n",
       "3  c1428058-2dc6-4a88-b64c-b6034dfb4f8f   Charged Off   \n",
       "4  20344186-79bd-487a-b7c4-f3c7b57fe3e8   Charged Off   \n",
       "\n",
       "                            Customer ID    Loan Status_y  Current Loan Amount  \\\n",
       "0  16ecb7be-c90f-4bdb-b168-da705d9b1fa7  To be predicted                23023   \n",
       "1  9e0609db-23c1-43b0-9326-0e67ca1e8f1d  To be predicted                 8126   \n",
       "2  c54e404f-1e94-45a2-9473-972e2f3c378b  To be predicted                 5042   \n",
       "3  37923e4e-df73-4093-a4b8-c2dfcbd0c8d8  To be predicted                14139   \n",
       "4  d5dc29d5-06f9-452e-9d55-c1d543dca5dd  To be predicted                15191   \n",
       "\n",
       "         Term  Credit Score Years in current job Home Ownership  \\\n",
       "0   Long Term           597            10+ years  Home Mortgage   \n",
       "1  Short Term           696              2 years           Rent   \n",
       "2  Short Term           745            10+ years  Home Mortgage   \n",
       "3   Long Term           677             < 1 year           Rent   \n",
       "4   Long Term           716            10+ years  Home Mortgage   \n",
       "\n",
       "   Annual Income             Purpose Monthly Debt  Years of Credit History  \\\n",
       "0          72230  Debt Consolidation     $613.96                      14.0   \n",
       "1          55869  Debt Consolidation     $665.78                      10.9   \n",
       "2          40332  Debt Consolidation       873.86                     16.4   \n",
       "3          70693  Debt Consolidation       482.48                     19.5   \n",
       "4          38442  Debt Consolidation       611.87                     17.8   \n",
       "\n",
       "   Months since last delinquent  Number of Open Accounts  \\\n",
       "0                           NaN                       11   \n",
       "1                           NaN                       14   \n",
       "2                          11.0                        6   \n",
       "3                          33.0                        8   \n",
       "4                           0.0                        4   \n",
       "\n",
       "   Number of Credit Problems  Current Credit Balance Maximum Open Credit  \\\n",
       "0                          0                   23188                 NaN   \n",
       "1                          0                    6135                 NaN   \n",
       "2                          0                    6698             17958.0   \n",
       "3                          0                    5928              7273.0   \n",
       "4                          0                   10714             11243.0   \n",
       "\n",
       "   Bankruptcies  Tax Liens  \n",
       "0           NaN        NaN  \n",
       "1           NaN        NaN  \n",
       "2           0.0        0.0  \n",
       "3           0.0        0.0  \n",
       "4           0.0        0.0  "
      ]
     },
     "execution_count": 173,
     "metadata": {},
     "output_type": "execute_result"
    }
   ],
   "source": [
    "labels= pd.read_csv(r'C:\\Users\\MY PC\\Desktop\\PPP\\Loans - Public Test Set (IDs and Labels).csv')\n",
    "nolabels= pd.read_csv(r'C:\\Users\\MY PC\\Desktop\\PPP\\Loans - Public Test Set (No Labels).csv')\n",
    "loans_test = pd.merge(left=labels,right=nolabels,how='inner',on='Loan ID')\n",
    "loans_test.head()"
   ]
  },
  {
   "cell_type": "code",
   "execution_count": 174,
   "id": "7ad998bc",
   "metadata": {},
   "outputs": [
    {
     "data": {
      "text/plain": [
       "Loan ID                          object\n",
       "Loan Status_x                    object\n",
       "Customer ID                      object\n",
       "Loan Status_y                    object\n",
       "Current Loan Amount               int64\n",
       "Term                             object\n",
       "Credit Score                      int64\n",
       "Years in current job             object\n",
       "Home Ownership                   object\n",
       "Annual Income                     int64\n",
       "Purpose                          object\n",
       "Monthly Debt                     object\n",
       "Years of Credit History         float64\n",
       "Months since last delinquent    float64\n",
       "Number of Open Accounts           int64\n",
       "Number of Credit Problems         int64\n",
       "Current Credit Balance            int64\n",
       "Maximum Open Credit              object\n",
       "Bankruptcies                    float64\n",
       "Tax Liens                       float64\n",
       "dtype: object"
      ]
     },
     "execution_count": 174,
     "metadata": {},
     "output_type": "execute_result"
    }
   ],
   "source": [
    "# data type\n",
    "loans_test.dtypes"
   ]
  },
  {
   "cell_type": "code",
   "execution_count": 175,
   "id": "04efac1e",
   "metadata": {},
   "outputs": [
    {
     "data": {
      "text/plain": [
       "(44454, 20)"
      ]
     },
     "execution_count": 175,
     "metadata": {},
     "output_type": "execute_result"
    }
   ],
   "source": [
    "loans_test.shape"
   ]
  },
  {
   "cell_type": "code",
   "execution_count": 176,
   "id": "8150532f",
   "metadata": {},
   "outputs": [
    {
     "data": {
      "text/html": [
       "<div>\n",
       "<style scoped>\n",
       "    .dataframe tbody tr th:only-of-type {\n",
       "        vertical-align: middle;\n",
       "    }\n",
       "\n",
       "    .dataframe tbody tr th {\n",
       "        vertical-align: top;\n",
       "    }\n",
       "\n",
       "    .dataframe thead th {\n",
       "        text-align: right;\n",
       "    }\n",
       "</style>\n",
       "<table border=\"1\" class=\"dataframe\">\n",
       "  <thead>\n",
       "    <tr style=\"text-align: right;\">\n",
       "      <th></th>\n",
       "      <th>Current Loan Amount</th>\n",
       "      <th>Credit Score</th>\n",
       "      <th>Annual Income</th>\n",
       "      <th>Years of Credit History</th>\n",
       "      <th>Months since last delinquent</th>\n",
       "      <th>Number of Open Accounts</th>\n",
       "      <th>Number of Credit Problems</th>\n",
       "      <th>Current Credit Balance</th>\n",
       "      <th>Bankruptcies</th>\n",
       "      <th>Tax Liens</th>\n",
       "    </tr>\n",
       "  </thead>\n",
       "  <tbody>\n",
       "    <tr>\n",
       "      <th>count</th>\n",
       "      <td>44454.000000</td>\n",
       "      <td>44454.000000</td>\n",
       "      <td>4.445400e+04</td>\n",
       "      <td>44454.000000</td>\n",
       "      <td>44452.000000</td>\n",
       "      <td>44454.000000</td>\n",
       "      <td>44454.000000</td>\n",
       "      <td>44454.000000</td>\n",
       "      <td>44452.000000</td>\n",
       "      <td>44452.000000</td>\n",
       "    </tr>\n",
       "    <tr>\n",
       "      <th>mean</th>\n",
       "      <td>14000.404081</td>\n",
       "      <td>721.548702</td>\n",
       "      <td>7.262816e+04</td>\n",
       "      <td>18.299915</td>\n",
       "      <td>15.613403</td>\n",
       "      <td>11.158996</td>\n",
       "      <td>0.157556</td>\n",
       "      <td>15668.184258</td>\n",
       "      <td>0.110231</td>\n",
       "      <td>0.027738</td>\n",
       "    </tr>\n",
       "    <tr>\n",
       "      <th>std</th>\n",
       "      <td>8265.362190</td>\n",
       "      <td>27.562557</td>\n",
       "      <td>5.448082e+04</td>\n",
       "      <td>7.046328</td>\n",
       "      <td>22.571131</td>\n",
       "      <td>5.026281</td>\n",
       "      <td>0.468821</td>\n",
       "      <td>20278.741124</td>\n",
       "      <td>0.337787</td>\n",
       "      <td>0.254840</td>\n",
       "    </tr>\n",
       "    <tr>\n",
       "      <th>min</th>\n",
       "      <td>504.000000</td>\n",
       "      <td>585.000000</td>\n",
       "      <td>2.979000e+03</td>\n",
       "      <td>3.400000</td>\n",
       "      <td>0.000000</td>\n",
       "      <td>0.000000</td>\n",
       "      <td>0.000000</td>\n",
       "      <td>0.000000</td>\n",
       "      <td>0.000000</td>\n",
       "      <td>0.000000</td>\n",
       "    </tr>\n",
       "    <tr>\n",
       "      <th>25%</th>\n",
       "      <td>7819.000000</td>\n",
       "      <td>710.000000</td>\n",
       "      <td>4.482350e+04</td>\n",
       "      <td>13.500000</td>\n",
       "      <td>0.000000</td>\n",
       "      <td>8.000000</td>\n",
       "      <td>0.000000</td>\n",
       "      <td>6005.250000</td>\n",
       "      <td>0.000000</td>\n",
       "      <td>0.000000</td>\n",
       "    </tr>\n",
       "    <tr>\n",
       "      <th>50%</th>\n",
       "      <td>12060.500000</td>\n",
       "      <td>731.000000</td>\n",
       "      <td>6.182550e+04</td>\n",
       "      <td>17.000000</td>\n",
       "      <td>0.000000</td>\n",
       "      <td>10.000000</td>\n",
       "      <td>0.000000</td>\n",
       "      <td>11214.000000</td>\n",
       "      <td>0.000000</td>\n",
       "      <td>0.000000</td>\n",
       "    </tr>\n",
       "    <tr>\n",
       "      <th>75%</th>\n",
       "      <td>19526.000000</td>\n",
       "      <td>741.000000</td>\n",
       "      <td>8.723350e+04</td>\n",
       "      <td>21.700000</td>\n",
       "      <td>28.000000</td>\n",
       "      <td>14.000000</td>\n",
       "      <td>0.000000</td>\n",
       "      <td>19501.000000</td>\n",
       "      <td>0.000000</td>\n",
       "      <td>0.000000</td>\n",
       "    </tr>\n",
       "    <tr>\n",
       "      <th>max</th>\n",
       "      <td>35875.000000</td>\n",
       "      <td>751.000000</td>\n",
       "      <td>5.001000e+06</td>\n",
       "      <td>61.500000</td>\n",
       "      <td>151.000000</td>\n",
       "      <td>50.000000</td>\n",
       "      <td>13.000000</td>\n",
       "      <td>975995.000000</td>\n",
       "      <td>7.000000</td>\n",
       "      <td>13.000000</td>\n",
       "    </tr>\n",
       "  </tbody>\n",
       "</table>\n",
       "</div>"
      ],
      "text/plain": [
       "       Current Loan Amount  Credit Score  Annual Income  \\\n",
       "count         44454.000000  44454.000000   4.445400e+04   \n",
       "mean          14000.404081    721.548702   7.262816e+04   \n",
       "std            8265.362190     27.562557   5.448082e+04   \n",
       "min             504.000000    585.000000   2.979000e+03   \n",
       "25%            7819.000000    710.000000   4.482350e+04   \n",
       "50%           12060.500000    731.000000   6.182550e+04   \n",
       "75%           19526.000000    741.000000   8.723350e+04   \n",
       "max           35875.000000    751.000000   5.001000e+06   \n",
       "\n",
       "       Years of Credit History  Months since last delinquent  \\\n",
       "count             44454.000000                  44452.000000   \n",
       "mean                 18.299915                     15.613403   \n",
       "std                   7.046328                     22.571131   \n",
       "min                   3.400000                      0.000000   \n",
       "25%                  13.500000                      0.000000   \n",
       "50%                  17.000000                      0.000000   \n",
       "75%                  21.700000                     28.000000   \n",
       "max                  61.500000                    151.000000   \n",
       "\n",
       "       Number of Open Accounts  Number of Credit Problems  \\\n",
       "count             44454.000000               44454.000000   \n",
       "mean                 11.158996                   0.157556   \n",
       "std                   5.026281                   0.468821   \n",
       "min                   0.000000                   0.000000   \n",
       "25%                   8.000000                   0.000000   \n",
       "50%                  10.000000                   0.000000   \n",
       "75%                  14.000000                   0.000000   \n",
       "max                  50.000000                  13.000000   \n",
       "\n",
       "       Current Credit Balance  Bankruptcies     Tax Liens  \n",
       "count            44454.000000  44452.000000  44452.000000  \n",
       "mean             15668.184258      0.110231      0.027738  \n",
       "std              20278.741124      0.337787      0.254840  \n",
       "min                  0.000000      0.000000      0.000000  \n",
       "25%               6005.250000      0.000000      0.000000  \n",
       "50%              11214.000000      0.000000      0.000000  \n",
       "75%              19501.000000      0.000000      0.000000  \n",
       "max             975995.000000      7.000000     13.000000  "
      ]
     },
     "execution_count": 176,
     "metadata": {},
     "output_type": "execute_result"
    }
   ],
   "source": [
    "loans_test.describe()"
   ]
  },
  {
   "cell_type": "markdown",
   "id": "0de320d9",
   "metadata": {},
   "source": [
    "## DATA CLEANING & PRE-PROCESSING"
   ]
  },
  {
   "cell_type": "code",
   "execution_count": 177,
   "id": "09e7166e",
   "metadata": {
    "scrolled": true
   },
   "outputs": [
    {
     "data": {
      "text/html": [
       "<div>\n",
       "<style scoped>\n",
       "    .dataframe tbody tr th:only-of-type {\n",
       "        vertical-align: middle;\n",
       "    }\n",
       "\n",
       "    .dataframe tbody tr th {\n",
       "        vertical-align: top;\n",
       "    }\n",
       "\n",
       "    .dataframe thead th {\n",
       "        text-align: right;\n",
       "    }\n",
       "</style>\n",
       "<table border=\"1\" class=\"dataframe\">\n",
       "  <thead>\n",
       "    <tr style=\"text-align: right;\">\n",
       "      <th></th>\n",
       "      <th>0</th>\n",
       "    </tr>\n",
       "  </thead>\n",
       "  <tbody>\n",
       "    <tr>\n",
       "      <th>Years in current job</th>\n",
       "      <td>4.161605</td>\n",
       "    </tr>\n",
       "    <tr>\n",
       "      <th>Tax Liens</th>\n",
       "      <td>0.004499</td>\n",
       "    </tr>\n",
       "    <tr>\n",
       "      <th>Bankruptcies</th>\n",
       "      <td>0.004499</td>\n",
       "    </tr>\n",
       "    <tr>\n",
       "      <th>Maximum Open Credit</th>\n",
       "      <td>0.004499</td>\n",
       "    </tr>\n",
       "    <tr>\n",
       "      <th>Months since last delinquent</th>\n",
       "      <td>0.004499</td>\n",
       "    </tr>\n",
       "    <tr>\n",
       "      <th>Monthly Debt</th>\n",
       "      <td>0.000000</td>\n",
       "    </tr>\n",
       "    <tr>\n",
       "      <th>Current Credit Balance</th>\n",
       "      <td>0.000000</td>\n",
       "    </tr>\n",
       "    <tr>\n",
       "      <th>Number of Credit Problems</th>\n",
       "      <td>0.000000</td>\n",
       "    </tr>\n",
       "    <tr>\n",
       "      <th>Number of Open Accounts</th>\n",
       "      <td>0.000000</td>\n",
       "    </tr>\n",
       "    <tr>\n",
       "      <th>Years of Credit History</th>\n",
       "      <td>0.000000</td>\n",
       "    </tr>\n",
       "    <tr>\n",
       "      <th>Loan ID</th>\n",
       "      <td>0.000000</td>\n",
       "    </tr>\n",
       "    <tr>\n",
       "      <th>Loan Status_x</th>\n",
       "      <td>0.000000</td>\n",
       "    </tr>\n",
       "    <tr>\n",
       "      <th>Annual Income</th>\n",
       "      <td>0.000000</td>\n",
       "    </tr>\n",
       "    <tr>\n",
       "      <th>Home Ownership</th>\n",
       "      <td>0.000000</td>\n",
       "    </tr>\n",
       "    <tr>\n",
       "      <th>Credit Score</th>\n",
       "      <td>0.000000</td>\n",
       "    </tr>\n",
       "    <tr>\n",
       "      <th>Term</th>\n",
       "      <td>0.000000</td>\n",
       "    </tr>\n",
       "    <tr>\n",
       "      <th>Current Loan Amount</th>\n",
       "      <td>0.000000</td>\n",
       "    </tr>\n",
       "    <tr>\n",
       "      <th>Loan Status_y</th>\n",
       "      <td>0.000000</td>\n",
       "    </tr>\n",
       "    <tr>\n",
       "      <th>Customer ID</th>\n",
       "      <td>0.000000</td>\n",
       "    </tr>\n",
       "    <tr>\n",
       "      <th>Purpose</th>\n",
       "      <td>0.000000</td>\n",
       "    </tr>\n",
       "  </tbody>\n",
       "</table>\n",
       "</div>"
      ],
      "text/plain": [
       "                                     0\n",
       "Years in current job          4.161605\n",
       "Tax Liens                     0.004499\n",
       "Bankruptcies                  0.004499\n",
       "Maximum Open Credit           0.004499\n",
       "Months since last delinquent  0.004499\n",
       "Monthly Debt                  0.000000\n",
       "Current Credit Balance        0.000000\n",
       "Number of Credit Problems     0.000000\n",
       "Number of Open Accounts       0.000000\n",
       "Years of Credit History       0.000000\n",
       "Loan ID                       0.000000\n",
       "Loan Status_x                 0.000000\n",
       "Annual Income                 0.000000\n",
       "Home Ownership                0.000000\n",
       "Credit Score                  0.000000\n",
       "Term                          0.000000\n",
       "Current Loan Amount           0.000000\n",
       "Loan Status_y                 0.000000\n",
       "Customer ID                   0.000000\n",
       "Purpose                       0.000000"
      ]
     },
     "execution_count": 177,
     "metadata": {},
     "output_type": "execute_result"
    }
   ],
   "source": [
    "Null=loans_test.isnull().sum()\n",
    "b=Null * 100/len(loans_test)\n",
    "pd.DataFrame(b).sort_values(0,ascending=False)"
   ]
  },
  {
   "cell_type": "code",
   "execution_count": 178,
   "id": "2fed00e9",
   "metadata": {},
   "outputs": [
    {
     "name": "stdout",
     "output_type": "stream",
     "text": [
      "Loan ID 0\n",
      "Loan Status_x 44452\n",
      "Customer ID 0\n",
      "Loan Status_y 44453\n",
      "Current Loan Amount 26508\n",
      "Term 44452\n",
      "Credit Score 44287\n",
      "Years in current job 44442\n",
      "Home Ownership 44451\n",
      "Annual Income 16690\n",
      "Purpose 44438\n",
      "Monthly Debt 5133\n",
      "Years of Credit History 43958\n",
      "Months since last delinquent 44349\n",
      "Number of Open Accounts 44407\n",
      "Number of Credit Problems 44442\n",
      "Current Credit Balance 19876\n",
      "Maximum Open Credit 9469\n",
      "Bankruptcies 44445\n",
      "Tax Liens 44441\n"
     ]
    }
   ],
   "source": [
    "# find number of duplicate values of each column/variable\n",
    "for i in loans_test.columns:\n",
    "    print(i,loans_test.duplicated(i).sum())"
   ]
  },
  {
   "cell_type": "code",
   "execution_count": 179,
   "id": "9aefe073",
   "metadata": {},
   "outputs": [
    {
     "name": "stdout",
     "output_type": "stream",
     "text": [
      "Loan ID 44454\n",
      "Loan Status_x 2\n",
      "Customer ID 44454\n",
      "Loan Status_y 1\n",
      "Current Loan Amount 17946\n",
      "Term 2\n",
      "Credit Score 167\n",
      "Years in current job 12\n",
      "Home Ownership 3\n",
      "Annual Income 27764\n",
      "Purpose 16\n",
      "Monthly Debt 39321\n",
      "Years of Credit History 496\n",
      "Months since last delinquent 105\n",
      "Number of Open Accounts 47\n",
      "Number of Credit Problems 12\n",
      "Current Credit Balance 24578\n",
      "Maximum Open Credit 34985\n",
      "Bankruptcies 9\n",
      "Tax Liens 13\n"
     ]
    }
   ],
   "source": [
    "# find number of Unique values of each column/variable\n",
    "for i in loans_test.columns:\n",
    "    print(i,loans_test[i].unique().shape[0])"
   ]
  },
  {
   "cell_type": "markdown",
   "id": "2096c4e7",
   "metadata": {},
   "source": [
    "## Target Variable\n",
    "### Loan Status \n",
    "#### A categorical variable indicating if the loan was paid back or defaulted."
   ]
  },
  {
   "cell_type": "markdown",
   "id": "ea8701e0",
   "metadata": {},
   "source": [
    "#### Label encoding Loan Status "
   ]
  },
  {
   "cell_type": "code",
   "execution_count": 180,
   "id": "d0625f96",
   "metadata": {},
   "outputs": [],
   "source": [
    "# label_encoder object knows how to understand word labels.\n",
    "label_encoder = preprocessing.LabelEncoder()\n",
    "# Encode labels in column 'Loan Status'.\n",
    "loans_test['Loan Status_x']= label_encoder.fit_transform(loans_test['Loan Status_x'])"
   ]
  },
  {
   "cell_type": "code",
   "execution_count": 181,
   "id": "5329b9a1",
   "metadata": {},
   "outputs": [
    {
     "data": {
      "text/html": [
       "<div>\n",
       "<style scoped>\n",
       "    .dataframe tbody tr th:only-of-type {\n",
       "        vertical-align: middle;\n",
       "    }\n",
       "\n",
       "    .dataframe tbody tr th {\n",
       "        vertical-align: top;\n",
       "    }\n",
       "\n",
       "    .dataframe thead th {\n",
       "        text-align: right;\n",
       "    }\n",
       "</style>\n",
       "<table border=\"1\" class=\"dataframe\">\n",
       "  <thead>\n",
       "    <tr style=\"text-align: right;\">\n",
       "      <th>col_0</th>\n",
       "      <th>Loan Status_x</th>\n",
       "      <th>Percentage</th>\n",
       "    </tr>\n",
       "    <tr>\n",
       "      <th>Loan Status_x</th>\n",
       "      <th></th>\n",
       "      <th></th>\n",
       "    </tr>\n",
       "  </thead>\n",
       "  <tbody>\n",
       "    <tr>\n",
       "      <th>0</th>\n",
       "      <td>12586</td>\n",
       "      <td>28.312413</td>\n",
       "    </tr>\n",
       "    <tr>\n",
       "      <th>1</th>\n",
       "      <td>31868</td>\n",
       "      <td>71.687587</td>\n",
       "    </tr>\n",
       "  </tbody>\n",
       "</table>\n",
       "</div>"
      ],
      "text/plain": [
       "col_0          Loan Status_x  Percentage\n",
       "Loan Status_x                           \n",
       "0                      12586   28.312413\n",
       "1                      31868   71.687587"
      ]
     },
     "execution_count": 181,
     "metadata": {},
     "output_type": "execute_result"
    }
   ],
   "source": [
    "# Frequency Distribution\n",
    "table = pd.crosstab(loans_test[\"Loan Status_x\"],columns=\"Loan Status_x\")\n",
    "table[\"Percentage\"] = pd.crosstab(loans_test[\"Loan Status_x\"],columns=\"Term\",normalize=True)*100\n",
    "table\n",
    "# Observation : Nearly 72% of the observations belongs to target class 'Fully Paid' whereas nearly 28% belongs to 'Charged Off'"
   ]
  },
  {
   "cell_type": "markdown",
   "id": "33a06906",
   "metadata": {},
   "source": [
    "## Predictors"
   ]
  },
  {
   "cell_type": "markdown",
   "id": "dcfa6507",
   "metadata": {},
   "source": [
    "### Continous & Numerical Variables"
   ]
  },
  {
   "cell_type": "markdown",
   "id": "805169f3",
   "metadata": {},
   "source": [
    "### 01 & 02. Loan ID & Customer ID\n",
    "#### loan ID is the unique identifier for your Affirm purchases.Customer ID is a unique identification code that you get from your bank."
   ]
  },
  {
   "cell_type": "markdown",
   "id": "d5a84af2",
   "metadata": {},
   "source": [
    "##### Since loan ID and Customer ID are Nominal and is unique Identifier of each transactions and customers .so first we are removing duplicates from loan ID and removing both variable Loan ID and Customer ID"
   ]
  },
  {
   "cell_type": "code",
   "execution_count": 182,
   "id": "7342008b",
   "metadata": {},
   "outputs": [],
   "source": [
    "# removing duplicate data (Loan ID)\n",
    "loans_test= loans_test.drop_duplicates(subset=\"Loan ID\")"
   ]
  },
  {
   "cell_type": "code",
   "execution_count": 183,
   "id": "03589ba6",
   "metadata": {},
   "outputs": [
    {
     "data": {
      "text/plain": [
       "(44454, 17)"
      ]
     },
     "execution_count": 183,
     "metadata": {},
     "output_type": "execute_result"
    }
   ],
   "source": [
    "# Removing both Loan ID and Customer ID Variable\n",
    "loans_test=loans_test.drop(['Loan ID','Customer ID','Loan Status_y'],axis=1)\n",
    "loans_test.shape"
   ]
  },
  {
   "cell_type": "markdown",
   "id": "af269e3f",
   "metadata": {},
   "source": [
    "### 03. Monthly Debt\n",
    "#### The customer's monthly payment for their existing loans"
   ]
  },
  {
   "cell_type": "markdown",
   "id": "da5784bc",
   "metadata": {},
   "source": [
    "##### The monthly debt column had values of object type.But when we tried to convert into 'float' type we encounterd an error due to the presence of '\\\\$' symbol.Hence we are removing every instance containing the '$' symbol with a blank character to enable type conversion into integer."
   ]
  },
  {
   "cell_type": "code",
   "execution_count": 184,
   "id": "d77ce35e",
   "metadata": {},
   "outputs": [
    {
     "data": {
      "text/plain": [
       "0"
      ]
     },
     "execution_count": 184,
     "metadata": {},
     "output_type": "execute_result"
    }
   ],
   "source": [
    "loans_test[\"Monthly Debt\"].isnull().sum()"
   ]
  },
  {
   "cell_type": "code",
   "execution_count": 185,
   "id": "fe33e6e1",
   "metadata": {},
   "outputs": [],
   "source": [
    "loans_test[\"Monthly Debt\"].replace({'\\$':''},regex=True,inplace=True) "
   ]
  },
  {
   "cell_type": "code",
   "execution_count": 188,
   "id": "98592a16",
   "metadata": {},
   "outputs": [],
   "source": [
    "loans_test[\"Monthly Debt\"].replace({'\\,':''},regex=True,inplace=True) "
   ]
  },
  {
   "cell_type": "code",
   "execution_count": 189,
   "id": "89635fdf",
   "metadata": {},
   "outputs": [
    {
     "data": {
      "text/plain": [
       "0"
      ]
     },
     "execution_count": 189,
     "metadata": {},
     "output_type": "execute_result"
    }
   ],
   "source": [
    "loans_test[\"Monthly Debt\"].isnull().sum()"
   ]
  },
  {
   "cell_type": "code",
   "execution_count": 190,
   "id": "c82e121b",
   "metadata": {},
   "outputs": [],
   "source": [
    "loans_test[\"Monthly Debt\"]=pd.to_numeric(loans_test[\"Monthly Debt\"])"
   ]
  },
  {
   "cell_type": "markdown",
   "id": "73e362d1",
   "metadata": {},
   "source": [
    "### 04. Maximum Open Credit\n",
    "#### The maximum credit limit for all credit sources"
   ]
  },
  {
   "cell_type": "code",
   "execution_count": 191,
   "id": "f735eee9",
   "metadata": {},
   "outputs": [],
   "source": [
    "#errors = coerce automatically removes #VALUE!\n",
    "loans_test[\"Maximum Open Credit\"]=pd.to_numeric(loans_test[\"Maximum Open Credit\"],errors='coerce') "
   ]
  },
  {
   "cell_type": "code",
   "execution_count": 192,
   "id": "6dc01cfc",
   "metadata": {},
   "outputs": [
    {
     "data": {
      "text/plain": [
       "3"
      ]
     },
     "execution_count": 192,
     "metadata": {},
     "output_type": "execute_result"
    }
   ],
   "source": [
    "loans_test['Maximum Open Credit'].isnull().sum()"
   ]
  },
  {
   "cell_type": "markdown",
   "id": "a3015af6",
   "metadata": {},
   "source": [
    "##### Imputing the null values with conditional median"
   ]
  },
  {
   "cell_type": "code",
   "execution_count": 193,
   "id": "35c2bb57",
   "metadata": {},
   "outputs": [],
   "source": [
    "loans_status_1=loans_test['Maximum Open Credit'][loans_test['Loan Status_x']==1]\n",
    "loans_status_0=loans_test['Maximum Open Credit'][loans_test['Loan Status_x']==0]"
   ]
  },
  {
   "cell_type": "code",
   "execution_count": 194,
   "id": "904b71c9",
   "metadata": {},
   "outputs": [],
   "source": [
    "loans_status_1.fillna(loans_status_1.median(),inplace=True)\n",
    "loans_status_0.fillna(loans_status_0.median(),inplace=True)"
   ]
  },
  {
   "cell_type": "code",
   "execution_count": 195,
   "id": "f1775eed",
   "metadata": {},
   "outputs": [],
   "source": [
    "loans_test['Maximum Open Credit'][loans_test['Loan Status_x']==1]=loans_status_1\n",
    "loans_test['Maximum Open Credit'][loans_test['Loan Status_x']==0]=loans_status_0"
   ]
  },
  {
   "cell_type": "code",
   "execution_count": 196,
   "id": "548afb9b",
   "metadata": {},
   "outputs": [
    {
     "data": {
      "text/plain": [
       "0"
      ]
     },
     "execution_count": 196,
     "metadata": {},
     "output_type": "execute_result"
    }
   ],
   "source": [
    "loans_test['Maximum Open Credit'].isnull().sum()"
   ]
  },
  {
   "cell_type": "markdown",
   "id": "2bb8e55a",
   "metadata": {},
   "source": [
    "### 05. Tax Liens\n",
    "#### The number of tax liens."
   ]
  },
  {
   "cell_type": "code",
   "execution_count": null,
   "id": "5c96990c",
   "metadata": {
    "scrolled": true
   },
   "outputs": [],
   "source": [
    "#loans['Tax Liens'].value_counts()"
   ]
  },
  {
   "cell_type": "code",
   "execution_count": 197,
   "id": "1229f759",
   "metadata": {},
   "outputs": [
    {
     "data": {
      "text/plain": [
       "2"
      ]
     },
     "execution_count": 197,
     "metadata": {},
     "output_type": "execute_result"
    }
   ],
   "source": [
    "loans_test['Tax Liens'].isnull().sum()"
   ]
  },
  {
   "cell_type": "markdown",
   "id": "6154fde7",
   "metadata": {},
   "source": [
    "##### Imputing the null values with conditional mode"
   ]
  },
  {
   "cell_type": "code",
   "execution_count": 198,
   "id": "2ae842de",
   "metadata": {},
   "outputs": [
    {
     "name": "stdout",
     "output_type": "stream",
     "text": [
      "Series([], Name: Tax Liens, dtype: float64)\n",
      "Series([], Name: Tax Liens, dtype: float64)\n"
     ]
    }
   ],
   "source": [
    "print(loans_test[loans_test['Loan Status_x']=='Fully Paid']['Tax Liens'].mode())\n",
    "print(loans_test[loans_test['Loan Status_x']=='Charged Off']['Tax Liens'].mode())"
   ]
  },
  {
   "cell_type": "code",
   "execution_count": 199,
   "id": "69ea9cd9",
   "metadata": {},
   "outputs": [],
   "source": [
    "# Filling the missing values with the mode since it's a categorical column\n",
    "loans_test['Tax Liens'].fillna(value=0.0,inplace=True)"
   ]
  },
  {
   "cell_type": "code",
   "execution_count": 200,
   "id": "e34cedf9",
   "metadata": {},
   "outputs": [
    {
     "data": {
      "text/plain": [
       "0"
      ]
     },
     "execution_count": 200,
     "metadata": {},
     "output_type": "execute_result"
    }
   ],
   "source": [
    "loans_test['Tax Liens'].isnull().sum()"
   ]
  },
  {
   "cell_type": "markdown",
   "id": "7819f4ae",
   "metadata": {},
   "source": [
    "### 06. Months since last delinquent\n",
    "#### Months since the last loan delinquent payment"
   ]
  },
  {
   "cell_type": "code",
   "execution_count": null,
   "id": "c7e1481f",
   "metadata": {},
   "outputs": [],
   "source": [
    "#loans['Months since last delinquent'].value_counts()"
   ]
  },
  {
   "cell_type": "code",
   "execution_count": 201,
   "id": "fe4c7eb8",
   "metadata": {},
   "outputs": [
    {
     "data": {
      "text/plain": [
       "2"
      ]
     },
     "execution_count": 201,
     "metadata": {},
     "output_type": "execute_result"
    }
   ],
   "source": [
    "loans_test['Months since last delinquent'].isnull().sum()"
   ]
  },
  {
   "cell_type": "markdown",
   "id": "c0284713",
   "metadata": {},
   "source": [
    "##### Imputing the null values with conditional median"
   ]
  },
  {
   "cell_type": "code",
   "execution_count": 202,
   "id": "f0c3048c",
   "metadata": {},
   "outputs": [],
   "source": [
    "loans_status_1=loans_test['Months since last delinquent'][loans_test['Loan Status_x']==1]\n",
    "loans_status_0=loans_test['Months since last delinquent'][loans_test['Loan Status_x']==0]"
   ]
  },
  {
   "cell_type": "code",
   "execution_count": 203,
   "id": "57ff9bf3",
   "metadata": {},
   "outputs": [],
   "source": [
    "loans_status_1.fillna(loans_status_1.median(),inplace=True)\n",
    "loans_status_0.fillna(loans_status_0.median(),inplace=True)"
   ]
  },
  {
   "cell_type": "code",
   "execution_count": 204,
   "id": "71170147",
   "metadata": {},
   "outputs": [],
   "source": [
    "loans_test['Months since last delinquent'][loans_test['Loan Status_x']==1]=loans_status_1\n",
    "loans_test['Months since last delinquent'][loans_test['Loan Status_x']==0]=loans_status_0"
   ]
  },
  {
   "cell_type": "code",
   "execution_count": 205,
   "id": "5a94f741",
   "metadata": {},
   "outputs": [
    {
     "data": {
      "text/plain": [
       "0"
      ]
     },
     "execution_count": 205,
     "metadata": {},
     "output_type": "execute_result"
    }
   ],
   "source": [
    "loans_test['Months since last delinquent'].isnull().sum()"
   ]
  },
  {
   "cell_type": "markdown",
   "id": "7d776180",
   "metadata": {},
   "source": [
    "### 07. Number of Open Accounts\n",
    "#### The total number of open credit cards"
   ]
  },
  {
   "cell_type": "code",
   "execution_count": null,
   "id": "3620c3a7",
   "metadata": {},
   "outputs": [],
   "source": [
    "#loans['Number of Open Accounts'].value_counts().sort_index(ascending=True)"
   ]
  },
  {
   "cell_type": "code",
   "execution_count": 206,
   "id": "661a5d05",
   "metadata": {},
   "outputs": [
    {
     "data": {
      "text/plain": [
       "0"
      ]
     },
     "execution_count": 206,
     "metadata": {},
     "output_type": "execute_result"
    }
   ],
   "source": [
    "loans_test['Number of Open Accounts'].isnull().sum()"
   ]
  },
  {
   "cell_type": "markdown",
   "id": "2bf358e5",
   "metadata": {},
   "source": [
    "### 08. Number of Credit Problems\n",
    "#### The number of credit problems in the customer records."
   ]
  },
  {
   "cell_type": "code",
   "execution_count": null,
   "id": "c1bd6f9d",
   "metadata": {},
   "outputs": [],
   "source": [
    "#loans['Number of Credit Problems'].value_counts()"
   ]
  },
  {
   "cell_type": "code",
   "execution_count": 207,
   "id": "7e4eeeb0",
   "metadata": {},
   "outputs": [
    {
     "data": {
      "text/plain": [
       "0"
      ]
     },
     "execution_count": 207,
     "metadata": {},
     "output_type": "execute_result"
    }
   ],
   "source": [
    "loans_test['Number of Credit Problems'].isnull().sum()"
   ]
  },
  {
   "cell_type": "markdown",
   "id": "9b86068e",
   "metadata": {},
   "source": [
    "### 09. Years of Credit History\n",
    "#### The years since the first entry in the customers credit history"
   ]
  },
  {
   "cell_type": "code",
   "execution_count": null,
   "id": "1503d343",
   "metadata": {},
   "outputs": [],
   "source": [
    "#loans[\"Years of Credit History\"].describe()"
   ]
  },
  {
   "cell_type": "code",
   "execution_count": null,
   "id": "b719454c",
   "metadata": {},
   "outputs": [],
   "source": [
    "# Note : There are customers with around 70 years of credit history\n",
    "# loans['Years of Credit History'].value_counts().sort_index(ascending=False)"
   ]
  },
  {
   "cell_type": "code",
   "execution_count": 208,
   "id": "bbcc92f1",
   "metadata": {},
   "outputs": [
    {
     "data": {
      "text/plain": [
       "0"
      ]
     },
     "execution_count": 208,
     "metadata": {},
     "output_type": "execute_result"
    }
   ],
   "source": [
    "loans_test['Years of Credit History'].isnull().sum()"
   ]
  },
  {
   "cell_type": "markdown",
   "id": "0454633d",
   "metadata": {},
   "source": [
    "### 10. Annual Income\n",
    "#### The customer's annual income"
   ]
  },
  {
   "cell_type": "code",
   "execution_count": null,
   "id": "866d030a",
   "metadata": {},
   "outputs": [],
   "source": [
    "#loans[\"Annual Income\"].value_counts"
   ]
  },
  {
   "cell_type": "code",
   "execution_count": 209,
   "id": "90e2f828",
   "metadata": {
    "scrolled": true
   },
   "outputs": [
    {
     "data": {
      "text/plain": [
       "0"
      ]
     },
     "execution_count": 209,
     "metadata": {},
     "output_type": "execute_result"
    }
   ],
   "source": [
    "loans_test['Annual Income'].isnull().sum()"
   ]
  },
  {
   "cell_type": "markdown",
   "id": "a963b112",
   "metadata": {},
   "source": [
    "##### Imputing the null values with conditional median"
   ]
  },
  {
   "cell_type": "code",
   "execution_count": 210,
   "id": "82417130",
   "metadata": {},
   "outputs": [],
   "source": [
    "loans_status_1=loans_test['Annual Income'][loans_test['Loan Status_x']==1]\n",
    "loans_status_0=loans_test['Annual Income'][loans_test['Loan Status_x']==0]"
   ]
  },
  {
   "cell_type": "code",
   "execution_count": 211,
   "id": "a85cd9a4",
   "metadata": {},
   "outputs": [],
   "source": [
    "loans_status_1.fillna(loans_status_1.median(),inplace=True)\n",
    "loans_status_0.fillna(loans_status_0.median(),inplace=True)"
   ]
  },
  {
   "cell_type": "code",
   "execution_count": 212,
   "id": "a861c3e3",
   "metadata": {},
   "outputs": [],
   "source": [
    "loans_test['Annual Income'][loans_test['Loan Status_x']==1]=loans_status_1\n",
    "loans_test['Annual Income'][loans_test['Loan Status_x']==0]=loans_status_0"
   ]
  },
  {
   "cell_type": "code",
   "execution_count": 213,
   "id": "e7c2d206",
   "metadata": {},
   "outputs": [
    {
     "data": {
      "text/plain": [
       "0"
      ]
     },
     "execution_count": 213,
     "metadata": {},
     "output_type": "execute_result"
    }
   ],
   "source": [
    "loans_test['Annual Income'].isnull().sum()"
   ]
  },
  {
   "cell_type": "markdown",
   "id": "c35beb93",
   "metadata": {},
   "source": [
    "### 11. Current Loan Amount\n",
    "#### This is the loan amount that was either completely paid off, or the amount that was defaulted."
   ]
  },
  {
   "cell_type": "code",
   "execution_count": null,
   "id": "54a9aa67",
   "metadata": {},
   "outputs": [],
   "source": [
    "#loans[\"Current Loan Amount\"].value_counts"
   ]
  },
  {
   "cell_type": "code",
   "execution_count": 214,
   "id": "784ddf16",
   "metadata": {},
   "outputs": [
    {
     "data": {
      "text/plain": [
       "0"
      ]
     },
     "execution_count": 214,
     "metadata": {},
     "output_type": "execute_result"
    }
   ],
   "source": [
    "loans['Current Loan Amount'].isnull().sum()"
   ]
  },
  {
   "cell_type": "markdown",
   "id": "a7ad456b",
   "metadata": {},
   "source": [
    "### 12. Credit Score\n",
    "#### A value between 0 and 800 indicating the riskiness of the borrowers credit history.credit score should be in  range of 300-850."
   ]
  },
  {
   "cell_type": "code",
   "execution_count": 215,
   "id": "884780a7",
   "metadata": {},
   "outputs": [],
   "source": [
    "# The credit score as specified in the data dictionary are in the range of 0 to 800\n",
    "# but some of the values are in range of 7000\n",
    "loans_test['Credit Score'] = loans_test['Credit Score'].apply(lambda val: (val /10) if val>800 else val)\n",
    "# loans['Credit Score'].value_counts"
   ]
  },
  {
   "cell_type": "code",
   "execution_count": 216,
   "id": "f19f2aff",
   "metadata": {
    "scrolled": true
   },
   "outputs": [
    {
     "data": {
      "text/plain": [
       "0"
      ]
     },
     "execution_count": 216,
     "metadata": {},
     "output_type": "execute_result"
    }
   ],
   "source": [
    "loans_test['Credit Score'].isnull().sum()"
   ]
  },
  {
   "cell_type": "markdown",
   "id": "89ca6df4",
   "metadata": {},
   "source": [
    "### 13. Current Credit Balance\n",
    "#### The current balance (also called the credit card balance) reflects the current amount of all charges and payments made to your account up to that day"
   ]
  },
  {
   "cell_type": "code",
   "execution_count": null,
   "id": "c1a09d64",
   "metadata": {},
   "outputs": [],
   "source": [
    "# loans['Current Credit Balance'].value_counts"
   ]
  },
  {
   "cell_type": "code",
   "execution_count": 217,
   "id": "346e22ec",
   "metadata": {
    "scrolled": false
   },
   "outputs": [
    {
     "data": {
      "text/plain": [
       "0"
      ]
     },
     "execution_count": 217,
     "metadata": {},
     "output_type": "execute_result"
    }
   ],
   "source": [
    "loans_test['Current Credit Balance'].isnull().sum()"
   ]
  },
  {
   "cell_type": "markdown",
   "id": "98321010",
   "metadata": {},
   "source": [
    "### 14. Bankruptcies\n",
    "#### The number of bankruptcies"
   ]
  },
  {
   "cell_type": "code",
   "execution_count": null,
   "id": "9bf53353",
   "metadata": {},
   "outputs": [],
   "source": [
    "#loans[\"Bankruptcies\"].value_counts()"
   ]
  },
  {
   "cell_type": "code",
   "execution_count": 218,
   "id": "b11f69e3",
   "metadata": {
    "scrolled": false
   },
   "outputs": [
    {
     "data": {
      "text/plain": [
       "2"
      ]
     },
     "execution_count": 218,
     "metadata": {},
     "output_type": "execute_result"
    }
   ],
   "source": [
    "loans_test['Bankruptcies'].isnull().sum()"
   ]
  },
  {
   "cell_type": "markdown",
   "id": "93b10a46",
   "metadata": {},
   "source": [
    "##### Imputing the null values with conditional mode"
   ]
  },
  {
   "cell_type": "code",
   "execution_count": 219,
   "id": "7e20b2e6",
   "metadata": {},
   "outputs": [
    {
     "name": "stdout",
     "output_type": "stream",
     "text": [
      "Series([], Name: Bankruptcies, dtype: float64)\n",
      "Series([], Name: Bankruptcies, dtype: float64)\n"
     ]
    }
   ],
   "source": [
    "print(loans_test[loans_test['Loan Status_x']=='Fully Paid']['Bankruptcies'].mode())\n",
    "print(loans_test[loans_test['Loan Status_x']=='Charged Off']['Bankruptcies'].mode())"
   ]
  },
  {
   "cell_type": "code",
   "execution_count": 220,
   "id": "ae702bc0",
   "metadata": {},
   "outputs": [],
   "source": [
    "# Filling the missing values with the mode since it's a categorical column\n",
    "loans_test['Bankruptcies'].fillna(value=0.0,inplace=True)"
   ]
  },
  {
   "cell_type": "code",
   "execution_count": 221,
   "id": "3ca261bc",
   "metadata": {},
   "outputs": [
    {
     "data": {
      "text/plain": [
       "0"
      ]
     },
     "execution_count": 221,
     "metadata": {},
     "output_type": "execute_result"
    }
   ],
   "source": [
    "loans_test['Bankruptcies'].isnull().sum()"
   ]
  },
  {
   "cell_type": "markdown",
   "id": "716cfc56",
   "metadata": {},
   "source": [
    "### Categorical Variables"
   ]
  },
  {
   "cell_type": "markdown",
   "id": "b0098b31",
   "metadata": {},
   "source": [
    "### 15. Years in current job\n",
    "#### A categorical variable indicating how many years the customer has been in their current job."
   ]
  },
  {
   "cell_type": "code",
   "execution_count": 222,
   "id": "f942c54d",
   "metadata": {},
   "outputs": [
    {
     "data": {
      "text/html": [
       "<div>\n",
       "<style scoped>\n",
       "    .dataframe tbody tr th:only-of-type {\n",
       "        vertical-align: middle;\n",
       "    }\n",
       "\n",
       "    .dataframe tbody tr th {\n",
       "        vertical-align: top;\n",
       "    }\n",
       "\n",
       "    .dataframe thead th {\n",
       "        text-align: right;\n",
       "    }\n",
       "</style>\n",
       "<table border=\"1\" class=\"dataframe\">\n",
       "  <thead>\n",
       "    <tr style=\"text-align: right;\">\n",
       "      <th>col_0</th>\n",
       "      <th>Years in current job</th>\n",
       "      <th>Percentage</th>\n",
       "    </tr>\n",
       "    <tr>\n",
       "      <th>Years in current job</th>\n",
       "      <th></th>\n",
       "      <th></th>\n",
       "    </tr>\n",
       "  </thead>\n",
       "  <tbody>\n",
       "    <tr>\n",
       "      <th>1 year</th>\n",
       "      <td>3029</td>\n",
       "      <td>7.109661</td>\n",
       "    </tr>\n",
       "    <tr>\n",
       "      <th>10+ years</th>\n",
       "      <td>13806</td>\n",
       "      <td>32.405408</td>\n",
       "    </tr>\n",
       "    <tr>\n",
       "      <th>2 years</th>\n",
       "      <td>4175</td>\n",
       "      <td>9.799549</td>\n",
       "    </tr>\n",
       "    <tr>\n",
       "      <th>3 years</th>\n",
       "      <td>3485</td>\n",
       "      <td>8.179983</td>\n",
       "    </tr>\n",
       "    <tr>\n",
       "      <th>4 years</th>\n",
       "      <td>2717</td>\n",
       "      <td>6.377335</td>\n",
       "    </tr>\n",
       "    <tr>\n",
       "      <th>5 years</th>\n",
       "      <td>3039</td>\n",
       "      <td>7.133133</td>\n",
       "    </tr>\n",
       "    <tr>\n",
       "      <th>6 years</th>\n",
       "      <td>2502</td>\n",
       "      <td>5.872688</td>\n",
       "    </tr>\n",
       "    <tr>\n",
       "      <th>7 years</th>\n",
       "      <td>2322</td>\n",
       "      <td>5.450192</td>\n",
       "    </tr>\n",
       "    <tr>\n",
       "      <th>8 years</th>\n",
       "      <td>2147</td>\n",
       "      <td>5.039433</td>\n",
       "    </tr>\n",
       "    <tr>\n",
       "      <th>9 years</th>\n",
       "      <td>1728</td>\n",
       "      <td>4.055957</td>\n",
       "    </tr>\n",
       "    <tr>\n",
       "      <th>&lt; 1 year</th>\n",
       "      <td>3654</td>\n",
       "      <td>8.576659</td>\n",
       "    </tr>\n",
       "  </tbody>\n",
       "</table>\n",
       "</div>"
      ],
      "text/plain": [
       "col_0                 Years in current job  Percentage\n",
       "Years in current job                                  \n",
       "1 year                                3029    7.109661\n",
       "10+ years                            13806   32.405408\n",
       "2 years                               4175    9.799549\n",
       "3 years                               3485    8.179983\n",
       "4 years                               2717    6.377335\n",
       "5 years                               3039    7.133133\n",
       "6 years                               2502    5.872688\n",
       "7 years                               2322    5.450192\n",
       "8 years                               2147    5.039433\n",
       "9 years                               1728    4.055957\n",
       "< 1 year                              3654    8.576659"
      ]
     },
     "execution_count": 222,
     "metadata": {},
     "output_type": "execute_result"
    }
   ],
   "source": [
    "# Frequency Distribution\n",
    "table = pd.crosstab(loans_test[\"Years in current job\"],columns=\"Years in current job\")\n",
    "table[\"Percentage\"] = pd.crosstab(loans_test[\"Years in current job\"],columns=\"Years in current job\",normalize=True)*100\n",
    "table"
   ]
  },
  {
   "cell_type": "code",
   "execution_count": 223,
   "id": "3e5c26ad",
   "metadata": {},
   "outputs": [],
   "source": [
    "# Convert string into Number\n",
    "loans_test[\"Years in current job\"]= loans_test[\"Years in current job\"].replace({\"< 1 year\":0,\"1 year\":1,\"2 years\":2,\"3 years\":3,\n",
    "                                                                      \"4 years\":4,\"5 years\":5,\"6 years\":6,\"7 years\":7,\n",
    "                                                                      \"8 years\":8,\"9 years\":9,\"10+ years\":10}) \n",
    "#loans[\"Years in current job\"]"
   ]
  },
  {
   "cell_type": "code",
   "execution_count": 224,
   "id": "953b2add",
   "metadata": {
    "scrolled": false
   },
   "outputs": [
    {
     "data": {
      "text/plain": [
       "1850"
      ]
     },
     "execution_count": 224,
     "metadata": {},
     "output_type": "execute_result"
    }
   ],
   "source": [
    "loans_test['Years in current job'].isnull().sum()"
   ]
  },
  {
   "cell_type": "markdown",
   "id": "6f9c5b4d",
   "metadata": {},
   "source": [
    "##### Imputing the null values with conditional mode"
   ]
  },
  {
   "cell_type": "code",
   "execution_count": 225,
   "id": "52ed9190",
   "metadata": {},
   "outputs": [
    {
     "name": "stdout",
     "output_type": "stream",
     "text": [
      "Series([], Name: Years in current job, dtype: float64)\n",
      "Series([], Name: Years in current job, dtype: float64)\n"
     ]
    }
   ],
   "source": [
    "print(loans_test[loans_test['Loan Status_x']=='Fully Paid']['Years in current job'].mode())\n",
    "print(loans_test[loans_test['Loan Status_x']=='Charged Off']['Years in current job'].mode())"
   ]
  },
  {
   "cell_type": "code",
   "execution_count": 226,
   "id": "6e6040a0",
   "metadata": {},
   "outputs": [],
   "source": [
    "# Filling the missing values with the mode since it's a categorical column\n",
    "loans_test['Years in current job'].fillna(value=0.0,inplace=True)"
   ]
  },
  {
   "cell_type": "code",
   "execution_count": 227,
   "id": "0fbc667f",
   "metadata": {},
   "outputs": [
    {
     "data": {
      "text/plain": [
       "0"
      ]
     },
     "execution_count": 227,
     "metadata": {},
     "output_type": "execute_result"
    }
   ],
   "source": [
    "loans_test[\"Years in current job\"].isnull().sum()"
   ]
  },
  {
   "cell_type": "markdown",
   "id": "9ac8c224",
   "metadata": {},
   "source": [
    "### 16. Home Ownership\n",
    "#### Categorical variable indicating home ownership. Values are \"Rent\", \"Home Mortgage\",and \"Own\". If the value is OWN, then the customer is a home owner with no mortgage"
   ]
  },
  {
   "cell_type": "code",
   "execution_count": 228,
   "id": "618f8ecb",
   "metadata": {},
   "outputs": [
    {
     "data": {
      "text/html": [
       "<div>\n",
       "<style scoped>\n",
       "    .dataframe tbody tr th:only-of-type {\n",
       "        vertical-align: middle;\n",
       "    }\n",
       "\n",
       "    .dataframe tbody tr th {\n",
       "        vertical-align: top;\n",
       "    }\n",
       "\n",
       "    .dataframe thead th {\n",
       "        text-align: right;\n",
       "    }\n",
       "</style>\n",
       "<table border=\"1\" class=\"dataframe\">\n",
       "  <thead>\n",
       "    <tr style=\"text-align: right;\">\n",
       "      <th>col_0</th>\n",
       "      <th>Home Ownership</th>\n",
       "      <th>Percentage</th>\n",
       "    </tr>\n",
       "    <tr>\n",
       "      <th>Home Ownership</th>\n",
       "      <th></th>\n",
       "      <th></th>\n",
       "    </tr>\n",
       "  </thead>\n",
       "  <tbody>\n",
       "    <tr>\n",
       "      <th>Home Mortgage</th>\n",
       "      <td>21742</td>\n",
       "      <td>48.908985</td>\n",
       "    </tr>\n",
       "    <tr>\n",
       "      <th>Own Home</th>\n",
       "      <td>3892</td>\n",
       "      <td>8.755118</td>\n",
       "    </tr>\n",
       "    <tr>\n",
       "      <th>Rent</th>\n",
       "      <td>18820</td>\n",
       "      <td>42.335898</td>\n",
       "    </tr>\n",
       "  </tbody>\n",
       "</table>\n",
       "</div>"
      ],
      "text/plain": [
       "col_0           Home Ownership  Percentage\n",
       "Home Ownership                            \n",
       "Home Mortgage            21742   48.908985\n",
       "Own Home                  3892    8.755118\n",
       "Rent                     18820   42.335898"
      ]
     },
     "execution_count": 228,
     "metadata": {},
     "output_type": "execute_result"
    }
   ],
   "source": [
    "# Frequency Distribution\n",
    "table = pd.crosstab(loans_test[\"Home Ownership\"],columns=\"Home Ownership\")\n",
    "table[\"Percentage\"] = pd.crosstab(loans_test[\"Home Ownership\"],columns=\"Home Ownership\",normalize=True)*100\n",
    "table\n",
    "# There is a Category called 'HaveMortgage' which is not available as per Description,so it must be\n",
    "# Home Mortgage instead of HaveMortgage"
   ]
  },
  {
   "cell_type": "code",
   "execution_count": 229,
   "id": "67867032",
   "metadata": {},
   "outputs": [],
   "source": [
    "# Replacing every instance of 'HaveMortgage' with 'Home Mortgage'\n",
    "loans_test['Home Ownership'] = loans_test['Home Ownership'].apply(lambda x: 'Home Mortgage' if x=='HaveMortgage' else x)"
   ]
  },
  {
   "cell_type": "code",
   "execution_count": 230,
   "id": "1e8222b6",
   "metadata": {},
   "outputs": [
    {
     "data": {
      "text/plain": [
       "array(['Home Mortgage', 'Rent', 'Own Home'], dtype=object)"
      ]
     },
     "execution_count": 230,
     "metadata": {},
     "output_type": "execute_result"
    }
   ],
   "source": [
    "# Checking for the number of unique values in the Home Ownership series\n",
    "loans_test['Home Ownership'].unique()"
   ]
  },
  {
   "cell_type": "code",
   "execution_count": 231,
   "id": "2cc796fa",
   "metadata": {
    "scrolled": true
   },
   "outputs": [
    {
     "data": {
      "text/plain": [
       "0"
      ]
     },
     "execution_count": 231,
     "metadata": {},
     "output_type": "execute_result"
    }
   ],
   "source": [
    "loans_test['Home Ownership'].isnull().sum()"
   ]
  },
  {
   "cell_type": "markdown",
   "id": "3c3c7cbd",
   "metadata": {},
   "source": [
    "### 17. Purpose\n",
    "#### A description of the purpose of the loan."
   ]
  },
  {
   "cell_type": "code",
   "execution_count": 232,
   "id": "db66a9f6",
   "metadata": {},
   "outputs": [
    {
     "data": {
      "text/html": [
       "<div>\n",
       "<style scoped>\n",
       "    .dataframe tbody tr th:only-of-type {\n",
       "        vertical-align: middle;\n",
       "    }\n",
       "\n",
       "    .dataframe tbody tr th {\n",
       "        vertical-align: top;\n",
       "    }\n",
       "\n",
       "    .dataframe thead th {\n",
       "        text-align: right;\n",
       "    }\n",
       "</style>\n",
       "<table border=\"1\" class=\"dataframe\">\n",
       "  <thead>\n",
       "    <tr style=\"text-align: right;\">\n",
       "      <th>col_0</th>\n",
       "      <th>Purpose</th>\n",
       "      <th>Percentage</th>\n",
       "    </tr>\n",
       "    <tr>\n",
       "      <th>Purpose</th>\n",
       "      <th></th>\n",
       "      <th></th>\n",
       "    </tr>\n",
       "  </thead>\n",
       "  <tbody>\n",
       "    <tr>\n",
       "      <th>Business Loan</th>\n",
       "      <td>656</td>\n",
       "      <td>1.475683</td>\n",
       "    </tr>\n",
       "    <tr>\n",
       "      <th>Buy House</th>\n",
       "      <td>290</td>\n",
       "      <td>0.652360</td>\n",
       "    </tr>\n",
       "    <tr>\n",
       "      <th>Buy a Car</th>\n",
       "      <td>535</td>\n",
       "      <td>1.203491</td>\n",
       "    </tr>\n",
       "    <tr>\n",
       "      <th>Debt Consolidation</th>\n",
       "      <td>35315</td>\n",
       "      <td>79.441670</td>\n",
       "    </tr>\n",
       "    <tr>\n",
       "      <th>Educational Expenses</th>\n",
       "      <td>52</td>\n",
       "      <td>0.116975</td>\n",
       "    </tr>\n",
       "    <tr>\n",
       "      <th>Home Improvements</th>\n",
       "      <td>2616</td>\n",
       "      <td>5.884735</td>\n",
       "    </tr>\n",
       "    <tr>\n",
       "      <th>Medical Bills</th>\n",
       "      <td>496</td>\n",
       "      <td>1.115760</td>\n",
       "    </tr>\n",
       "    <tr>\n",
       "      <th>Other</th>\n",
       "      <td>1395</td>\n",
       "      <td>3.138075</td>\n",
       "    </tr>\n",
       "    <tr>\n",
       "      <th>Take a Trip</th>\n",
       "      <td>234</td>\n",
       "      <td>0.526387</td>\n",
       "    </tr>\n",
       "    <tr>\n",
       "      <th>major_purchase</th>\n",
       "      <td>150</td>\n",
       "      <td>0.337427</td>\n",
       "    </tr>\n",
       "    <tr>\n",
       "      <th>moving</th>\n",
       "      <td>50</td>\n",
       "      <td>0.112476</td>\n",
       "    </tr>\n",
       "    <tr>\n",
       "      <th>other</th>\n",
       "      <td>2442</td>\n",
       "      <td>5.493319</td>\n",
       "    </tr>\n",
       "    <tr>\n",
       "      <th>renewable_energy</th>\n",
       "      <td>3</td>\n",
       "      <td>0.006749</td>\n",
       "    </tr>\n",
       "    <tr>\n",
       "      <th>small_business</th>\n",
       "      <td>141</td>\n",
       "      <td>0.317182</td>\n",
       "    </tr>\n",
       "    <tr>\n",
       "      <th>vacation</th>\n",
       "      <td>41</td>\n",
       "      <td>0.092230</td>\n",
       "    </tr>\n",
       "    <tr>\n",
       "      <th>wedding</th>\n",
       "      <td>38</td>\n",
       "      <td>0.085482</td>\n",
       "    </tr>\n",
       "  </tbody>\n",
       "</table>\n",
       "</div>"
      ],
      "text/plain": [
       "col_0                 Purpose  Percentage\n",
       "Purpose                                  \n",
       "Business Loan             656    1.475683\n",
       "Buy House                 290    0.652360\n",
       "Buy a Car                 535    1.203491\n",
       "Debt Consolidation      35315   79.441670\n",
       "Educational Expenses       52    0.116975\n",
       "Home Improvements        2616    5.884735\n",
       "Medical Bills             496    1.115760\n",
       "Other                    1395    3.138075\n",
       "Take a Trip               234    0.526387\n",
       "major_purchase            150    0.337427\n",
       "moving                     50    0.112476\n",
       "other                    2442    5.493319\n",
       "renewable_energy            3    0.006749\n",
       "small_business            141    0.317182\n",
       "vacation                   41    0.092230\n",
       "wedding                    38    0.085482"
      ]
     },
     "execution_count": 232,
     "metadata": {},
     "output_type": "execute_result"
    }
   ],
   "source": [
    "# Frequency Distribution\n",
    "table = pd.crosstab(loans_test[\"Purpose\"],columns=\"Purpose\")\n",
    "table[\"Percentage\"] = pd.crosstab(loans_test[\"Purpose\"],columns=\"Purpose\",normalize=True)*100\n",
    "table"
   ]
  },
  {
   "cell_type": "code",
   "execution_count": 233,
   "id": "d77a07b2",
   "metadata": {},
   "outputs": [
    {
     "data": {
      "text/plain": [
       "16"
      ]
     },
     "execution_count": 233,
     "metadata": {},
     "output_type": "execute_result"
    }
   ],
   "source": [
    "loans_test['Purpose'].nunique()"
   ]
  },
  {
   "cell_type": "code",
   "execution_count": 234,
   "id": "30006902",
   "metadata": {},
   "outputs": [],
   "source": [
    "# replacing the instances of 'Other' with 'other'\n",
    "loans_test['Purpose'].replace({'Other':'other'},inplace=True)"
   ]
  },
  {
   "cell_type": "code",
   "execution_count": 235,
   "id": "cc4b0f60",
   "metadata": {},
   "outputs": [
    {
     "data": {
      "text/plain": [
       "15"
      ]
     },
     "execution_count": 235,
     "metadata": {},
     "output_type": "execute_result"
    }
   ],
   "source": [
    "loans_test['Purpose'].nunique()"
   ]
  },
  {
   "cell_type": "code",
   "execution_count": 236,
   "id": "99c07d16",
   "metadata": {
    "scrolled": false
   },
   "outputs": [
    {
     "data": {
      "text/plain": [
       "0"
      ]
     },
     "execution_count": 236,
     "metadata": {},
     "output_type": "execute_result"
    }
   ],
   "source": [
    "loans_test['Purpose'].isnull().sum()"
   ]
  },
  {
   "cell_type": "markdown",
   "id": "9265a960",
   "metadata": {},
   "source": [
    "### 18. Term\n",
    "#### A categorical variable indicating if it is a short term or long term loan."
   ]
  },
  {
   "cell_type": "code",
   "execution_count": 237,
   "id": "458e5ac8",
   "metadata": {},
   "outputs": [
    {
     "data": {
      "text/html": [
       "<div>\n",
       "<style scoped>\n",
       "    .dataframe tbody tr th:only-of-type {\n",
       "        vertical-align: middle;\n",
       "    }\n",
       "\n",
       "    .dataframe tbody tr th {\n",
       "        vertical-align: top;\n",
       "    }\n",
       "\n",
       "    .dataframe thead th {\n",
       "        text-align: right;\n",
       "    }\n",
       "</style>\n",
       "<table border=\"1\" class=\"dataframe\">\n",
       "  <thead>\n",
       "    <tr style=\"text-align: right;\">\n",
       "      <th>col_0</th>\n",
       "      <th>Term</th>\n",
       "      <th>Percentage</th>\n",
       "    </tr>\n",
       "    <tr>\n",
       "      <th>Term</th>\n",
       "      <th></th>\n",
       "      <th></th>\n",
       "    </tr>\n",
       "  </thead>\n",
       "  <tbody>\n",
       "    <tr>\n",
       "      <th>Long Term</th>\n",
       "      <td>10948</td>\n",
       "      <td>24.627705</td>\n",
       "    </tr>\n",
       "    <tr>\n",
       "      <th>Short Term</th>\n",
       "      <td>33506</td>\n",
       "      <td>75.372295</td>\n",
       "    </tr>\n",
       "  </tbody>\n",
       "</table>\n",
       "</div>"
      ],
      "text/plain": [
       "col_0        Term  Percentage\n",
       "Term                         \n",
       "Long Term   10948   24.627705\n",
       "Short Term  33506   75.372295"
      ]
     },
     "execution_count": 237,
     "metadata": {},
     "output_type": "execute_result"
    }
   ],
   "source": [
    "# Frequency Distribution\n",
    "table = pd.crosstab(loans_test[\"Term\"],columns=\"Term\")\n",
    "table[\"Percentage\"] = pd.crosstab(loans_test[\"Term\"],columns=\"Term\",normalize=True)*100\n",
    "table"
   ]
  },
  {
   "cell_type": "code",
   "execution_count": 238,
   "id": "4ac761bb",
   "metadata": {
    "scrolled": false
   },
   "outputs": [
    {
     "data": {
      "text/plain": [
       "0"
      ]
     },
     "execution_count": 238,
     "metadata": {},
     "output_type": "execute_result"
    }
   ],
   "source": [
    "loans_test['Term'].isnull().sum()"
   ]
  },
  {
   "cell_type": "markdown",
   "id": "35e7ad70",
   "metadata": {},
   "source": [
    "### One hot encoding for Categorical variables (term,purpose,Home Ownership)"
   ]
  },
  {
   "cell_type": "code",
   "execution_count": 239,
   "id": "3b9e5c31",
   "metadata": {},
   "outputs": [
    {
     "data": {
      "text/html": [
       "<div>\n",
       "<style scoped>\n",
       "    .dataframe tbody tr th:only-of-type {\n",
       "        vertical-align: middle;\n",
       "    }\n",
       "\n",
       "    .dataframe tbody tr th {\n",
       "        vertical-align: top;\n",
       "    }\n",
       "\n",
       "    .dataframe thead th {\n",
       "        text-align: right;\n",
       "    }\n",
       "</style>\n",
       "<table border=\"1\" class=\"dataframe\">\n",
       "  <thead>\n",
       "    <tr style=\"text-align: right;\">\n",
       "      <th></th>\n",
       "      <th>Loan Status_x</th>\n",
       "      <th>Current Loan Amount</th>\n",
       "      <th>Credit Score</th>\n",
       "      <th>Years in current job</th>\n",
       "      <th>Annual Income</th>\n",
       "      <th>Monthly Debt</th>\n",
       "      <th>Years of Credit History</th>\n",
       "      <th>Months since last delinquent</th>\n",
       "      <th>Number of Open Accounts</th>\n",
       "      <th>Number of Credit Problems</th>\n",
       "      <th>...</th>\n",
       "      <th>Purpose_Home Improvements</th>\n",
       "      <th>Purpose_Medical Bills</th>\n",
       "      <th>Purpose_Take a Trip</th>\n",
       "      <th>Purpose_major_purchase</th>\n",
       "      <th>Purpose_moving</th>\n",
       "      <th>Purpose_other</th>\n",
       "      <th>Purpose_renewable_energy</th>\n",
       "      <th>Purpose_small_business</th>\n",
       "      <th>Purpose_vacation</th>\n",
       "      <th>Purpose_wedding</th>\n",
       "    </tr>\n",
       "  </thead>\n",
       "  <tbody>\n",
       "    <tr>\n",
       "      <th>0</th>\n",
       "      <td>1</td>\n",
       "      <td>23023</td>\n",
       "      <td>597</td>\n",
       "      <td>10.0</td>\n",
       "      <td>72230</td>\n",
       "      <td>613.96</td>\n",
       "      <td>14.0</td>\n",
       "      <td>0.0</td>\n",
       "      <td>11</td>\n",
       "      <td>0</td>\n",
       "      <td>...</td>\n",
       "      <td>0</td>\n",
       "      <td>0</td>\n",
       "      <td>0</td>\n",
       "      <td>0</td>\n",
       "      <td>0</td>\n",
       "      <td>0</td>\n",
       "      <td>0</td>\n",
       "      <td>0</td>\n",
       "      <td>0</td>\n",
       "      <td>0</td>\n",
       "    </tr>\n",
       "    <tr>\n",
       "      <th>1</th>\n",
       "      <td>0</td>\n",
       "      <td>8126</td>\n",
       "      <td>696</td>\n",
       "      <td>2.0</td>\n",
       "      <td>55869</td>\n",
       "      <td>665.78</td>\n",
       "      <td>10.9</td>\n",
       "      <td>0.0</td>\n",
       "      <td>14</td>\n",
       "      <td>0</td>\n",
       "      <td>...</td>\n",
       "      <td>0</td>\n",
       "      <td>0</td>\n",
       "      <td>0</td>\n",
       "      <td>0</td>\n",
       "      <td>0</td>\n",
       "      <td>0</td>\n",
       "      <td>0</td>\n",
       "      <td>0</td>\n",
       "      <td>0</td>\n",
       "      <td>0</td>\n",
       "    </tr>\n",
       "    <tr>\n",
       "      <th>2</th>\n",
       "      <td>1</td>\n",
       "      <td>5042</td>\n",
       "      <td>745</td>\n",
       "      <td>10.0</td>\n",
       "      <td>40332</td>\n",
       "      <td>873.86</td>\n",
       "      <td>16.4</td>\n",
       "      <td>11.0</td>\n",
       "      <td>6</td>\n",
       "      <td>0</td>\n",
       "      <td>...</td>\n",
       "      <td>0</td>\n",
       "      <td>0</td>\n",
       "      <td>0</td>\n",
       "      <td>0</td>\n",
       "      <td>0</td>\n",
       "      <td>0</td>\n",
       "      <td>0</td>\n",
       "      <td>0</td>\n",
       "      <td>0</td>\n",
       "      <td>0</td>\n",
       "    </tr>\n",
       "    <tr>\n",
       "      <th>3</th>\n",
       "      <td>0</td>\n",
       "      <td>14139</td>\n",
       "      <td>677</td>\n",
       "      <td>0.0</td>\n",
       "      <td>70693</td>\n",
       "      <td>482.48</td>\n",
       "      <td>19.5</td>\n",
       "      <td>33.0</td>\n",
       "      <td>8</td>\n",
       "      <td>0</td>\n",
       "      <td>...</td>\n",
       "      <td>0</td>\n",
       "      <td>0</td>\n",
       "      <td>0</td>\n",
       "      <td>0</td>\n",
       "      <td>0</td>\n",
       "      <td>0</td>\n",
       "      <td>0</td>\n",
       "      <td>0</td>\n",
       "      <td>0</td>\n",
       "      <td>0</td>\n",
       "    </tr>\n",
       "    <tr>\n",
       "      <th>4</th>\n",
       "      <td>0</td>\n",
       "      <td>15191</td>\n",
       "      <td>716</td>\n",
       "      <td>10.0</td>\n",
       "      <td>38442</td>\n",
       "      <td>611.87</td>\n",
       "      <td>17.8</td>\n",
       "      <td>0.0</td>\n",
       "      <td>4</td>\n",
       "      <td>0</td>\n",
       "      <td>...</td>\n",
       "      <td>0</td>\n",
       "      <td>0</td>\n",
       "      <td>0</td>\n",
       "      <td>0</td>\n",
       "      <td>0</td>\n",
       "      <td>0</td>\n",
       "      <td>0</td>\n",
       "      <td>0</td>\n",
       "      <td>0</td>\n",
       "      <td>0</td>\n",
       "    </tr>\n",
       "    <tr>\n",
       "      <th>...</th>\n",
       "      <td>...</td>\n",
       "      <td>...</td>\n",
       "      <td>...</td>\n",
       "      <td>...</td>\n",
       "      <td>...</td>\n",
       "      <td>...</td>\n",
       "      <td>...</td>\n",
       "      <td>...</td>\n",
       "      <td>...</td>\n",
       "      <td>...</td>\n",
       "      <td>...</td>\n",
       "      <td>...</td>\n",
       "      <td>...</td>\n",
       "      <td>...</td>\n",
       "      <td>...</td>\n",
       "      <td>...</td>\n",
       "      <td>...</td>\n",
       "      <td>...</td>\n",
       "      <td>...</td>\n",
       "      <td>...</td>\n",
       "      <td>...</td>\n",
       "    </tr>\n",
       "    <tr>\n",
       "      <th>44449</th>\n",
       "      <td>0</td>\n",
       "      <td>12292</td>\n",
       "      <td>735</td>\n",
       "      <td>0.0</td>\n",
       "      <td>60506</td>\n",
       "      <td>1089.12</td>\n",
       "      <td>18.3</td>\n",
       "      <td>51.0</td>\n",
       "      <td>13</td>\n",
       "      <td>0</td>\n",
       "      <td>...</td>\n",
       "      <td>0</td>\n",
       "      <td>0</td>\n",
       "      <td>0</td>\n",
       "      <td>0</td>\n",
       "      <td>0</td>\n",
       "      <td>0</td>\n",
       "      <td>0</td>\n",
       "      <td>0</td>\n",
       "      <td>0</td>\n",
       "      <td>0</td>\n",
       "    </tr>\n",
       "    <tr>\n",
       "      <th>44450</th>\n",
       "      <td>1</td>\n",
       "      <td>4931</td>\n",
       "      <td>743</td>\n",
       "      <td>9.0</td>\n",
       "      <td>34514</td>\n",
       "      <td>509.07</td>\n",
       "      <td>13.0</td>\n",
       "      <td>0.0</td>\n",
       "      <td>8</td>\n",
       "      <td>1</td>\n",
       "      <td>...</td>\n",
       "      <td>0</td>\n",
       "      <td>0</td>\n",
       "      <td>0</td>\n",
       "      <td>0</td>\n",
       "      <td>0</td>\n",
       "      <td>0</td>\n",
       "      <td>0</td>\n",
       "      <td>0</td>\n",
       "      <td>0</td>\n",
       "      <td>0</td>\n",
       "    </tr>\n",
       "    <tr>\n",
       "      <th>44451</th>\n",
       "      <td>0</td>\n",
       "      <td>23272</td>\n",
       "      <td>632</td>\n",
       "      <td>10.0</td>\n",
       "      <td>68663</td>\n",
       "      <td>1224.49</td>\n",
       "      <td>15.5</td>\n",
       "      <td>0.0</td>\n",
       "      <td>16</td>\n",
       "      <td>0</td>\n",
       "      <td>...</td>\n",
       "      <td>0</td>\n",
       "      <td>0</td>\n",
       "      <td>0</td>\n",
       "      <td>0</td>\n",
       "      <td>0</td>\n",
       "      <td>0</td>\n",
       "      <td>0</td>\n",
       "      <td>0</td>\n",
       "      <td>0</td>\n",
       "      <td>0</td>\n",
       "    </tr>\n",
       "    <tr>\n",
       "      <th>44452</th>\n",
       "      <td>0</td>\n",
       "      <td>18611</td>\n",
       "      <td>668</td>\n",
       "      <td>10.0</td>\n",
       "      <td>44312</td>\n",
       "      <td>242.24</td>\n",
       "      <td>31.8</td>\n",
       "      <td>24.0</td>\n",
       "      <td>11</td>\n",
       "      <td>0</td>\n",
       "      <td>...</td>\n",
       "      <td>0</td>\n",
       "      <td>0</td>\n",
       "      <td>0</td>\n",
       "      <td>0</td>\n",
       "      <td>0</td>\n",
       "      <td>0</td>\n",
       "      <td>0</td>\n",
       "      <td>0</td>\n",
       "      <td>0</td>\n",
       "      <td>0</td>\n",
       "    </tr>\n",
       "    <tr>\n",
       "      <th>44453</th>\n",
       "      <td>1</td>\n",
       "      <td>27618</td>\n",
       "      <td>721</td>\n",
       "      <td>0.0</td>\n",
       "      <td>93400</td>\n",
       "      <td>1580.01</td>\n",
       "      <td>23.9</td>\n",
       "      <td>0.0</td>\n",
       "      <td>14</td>\n",
       "      <td>0</td>\n",
       "      <td>...</td>\n",
       "      <td>0</td>\n",
       "      <td>0</td>\n",
       "      <td>0</td>\n",
       "      <td>0</td>\n",
       "      <td>0</td>\n",
       "      <td>0</td>\n",
       "      <td>0</td>\n",
       "      <td>0</td>\n",
       "      <td>0</td>\n",
       "      <td>0</td>\n",
       "    </tr>\n",
       "  </tbody>\n",
       "</table>\n",
       "<p>44454 rows × 34 columns</p>\n",
       "</div>"
      ],
      "text/plain": [
       "       Loan Status_x  Current Loan Amount  Credit Score  Years in current job  \\\n",
       "0                  1                23023           597                  10.0   \n",
       "1                  0                 8126           696                   2.0   \n",
       "2                  1                 5042           745                  10.0   \n",
       "3                  0                14139           677                   0.0   \n",
       "4                  0                15191           716                  10.0   \n",
       "...              ...                  ...           ...                   ...   \n",
       "44449              0                12292           735                   0.0   \n",
       "44450              1                 4931           743                   9.0   \n",
       "44451              0                23272           632                  10.0   \n",
       "44452              0                18611           668                  10.0   \n",
       "44453              1                27618           721                   0.0   \n",
       "\n",
       "       Annual Income  Monthly Debt  Years of Credit History  \\\n",
       "0              72230        613.96                     14.0   \n",
       "1              55869        665.78                     10.9   \n",
       "2              40332        873.86                     16.4   \n",
       "3              70693        482.48                     19.5   \n",
       "4              38442        611.87                     17.8   \n",
       "...              ...           ...                      ...   \n",
       "44449          60506       1089.12                     18.3   \n",
       "44450          34514        509.07                     13.0   \n",
       "44451          68663       1224.49                     15.5   \n",
       "44452          44312        242.24                     31.8   \n",
       "44453          93400       1580.01                     23.9   \n",
       "\n",
       "       Months since last delinquent  Number of Open Accounts  \\\n",
       "0                               0.0                       11   \n",
       "1                               0.0                       14   \n",
       "2                              11.0                        6   \n",
       "3                              33.0                        8   \n",
       "4                               0.0                        4   \n",
       "...                             ...                      ...   \n",
       "44449                          51.0                       13   \n",
       "44450                           0.0                        8   \n",
       "44451                           0.0                       16   \n",
       "44452                          24.0                       11   \n",
       "44453                           0.0                       14   \n",
       "\n",
       "       Number of Credit Problems  ...  Purpose_Home Improvements  \\\n",
       "0                              0  ...                          0   \n",
       "1                              0  ...                          0   \n",
       "2                              0  ...                          0   \n",
       "3                              0  ...                          0   \n",
       "4                              0  ...                          0   \n",
       "...                          ...  ...                        ...   \n",
       "44449                          0  ...                          0   \n",
       "44450                          1  ...                          0   \n",
       "44451                          0  ...                          0   \n",
       "44452                          0  ...                          0   \n",
       "44453                          0  ...                          0   \n",
       "\n",
       "       Purpose_Medical Bills  Purpose_Take a Trip  Purpose_major_purchase  \\\n",
       "0                          0                    0                       0   \n",
       "1                          0                    0                       0   \n",
       "2                          0                    0                       0   \n",
       "3                          0                    0                       0   \n",
       "4                          0                    0                       0   \n",
       "...                      ...                  ...                     ...   \n",
       "44449                      0                    0                       0   \n",
       "44450                      0                    0                       0   \n",
       "44451                      0                    0                       0   \n",
       "44452                      0                    0                       0   \n",
       "44453                      0                    0                       0   \n",
       "\n",
       "       Purpose_moving  Purpose_other  Purpose_renewable_energy  \\\n",
       "0                   0              0                         0   \n",
       "1                   0              0                         0   \n",
       "2                   0              0                         0   \n",
       "3                   0              0                         0   \n",
       "4                   0              0                         0   \n",
       "...               ...            ...                       ...   \n",
       "44449               0              0                         0   \n",
       "44450               0              0                         0   \n",
       "44451               0              0                         0   \n",
       "44452               0              0                         0   \n",
       "44453               0              0                         0   \n",
       "\n",
       "       Purpose_small_business  Purpose_vacation  Purpose_wedding  \n",
       "0                           0                 0                0  \n",
       "1                           0                 0                0  \n",
       "2                           0                 0                0  \n",
       "3                           0                 0                0  \n",
       "4                           0                 0                0  \n",
       "...                       ...               ...              ...  \n",
       "44449                       0                 0                0  \n",
       "44450                       0                 0                0  \n",
       "44451                       0                 0                0  \n",
       "44452                       0                 0                0  \n",
       "44453                       0                 0                0  \n",
       "\n",
       "[44454 rows x 34 columns]"
      ]
     },
     "execution_count": 239,
     "metadata": {},
     "output_type": "execute_result"
    }
   ],
   "source": [
    "one_hot_encoded_data = pd.get_dummies(loans_test, columns = ['Term', 'Home Ownership','Purpose'])\n",
    "Loans_Test=one_hot_encoded_data\n",
    "Loans_Test"
   ]
  },
  {
   "cell_type": "markdown",
   "id": "d2e168a2",
   "metadata": {},
   "source": [
    "# Exploratory Data Analysis"
   ]
  },
  {
   "cell_type": "markdown",
   "id": "14408008",
   "metadata": {},
   "source": [
    "### Uni-variate Analysis of Numerical Variable"
   ]
  },
  {
   "cell_type": "code",
   "execution_count": null,
   "id": "bddfbb8e",
   "metadata": {},
   "outputs": [],
   "source": [
    "# EDA_Numerical = Loans_Test.select_dtypes(exclude='object')"
   ]
  },
  {
   "cell_type": "code",
   "execution_count": null,
   "id": "2afb893f",
   "metadata": {
    "scrolled": false
   },
   "outputs": [],
   "source": [
    "# for col in EDA_Numerical.columns:\n",
    "#     #histogram\n",
    "#     EDA_Numerical.hist(column = col,\n",
    "#               grid=False,        #Do not include the grid\n",
    "#               figsize=(10,5),\n",
    "#               color=\"pink\",\n",
    "#               edgecolor=\"black\",\n",
    "#               bins=20)     #(Length,Height) of the plot in inches\n",
    "#     plt.show()\n",
    "#     #boxplot\n",
    "#     EDA_Numerical.boxplot(column= col,\n",
    "#                 grid= False,\n",
    "#                 figsize=(5,4),\n",
    "#                 notch=True)\n",
    "#     plt.show()"
   ]
  },
  {
   "cell_type": "markdown",
   "id": "3ed20edb",
   "metadata": {},
   "source": [
    "### Uni-variate Analysis of Categorical Variable"
   ]
  },
  {
   "cell_type": "code",
   "execution_count": null,
   "id": "2358dcc0",
   "metadata": {},
   "outputs": [],
   "source": [
    "# EDA_Categorical = Loans.select_dtypes(include='object')"
   ]
  },
  {
   "cell_type": "code",
   "execution_count": null,
   "id": "94f82cc8",
   "metadata": {},
   "outputs": [],
   "source": [
    "# for col in EDA_Categorical.columns:\n",
    "#     Loans[col].value_counts().plot( kind='bar', xlabel=col, ylabel='frequency', color=['yellow','Orange','pink'])\n",
    "#     plt.show()"
   ]
  },
  {
   "cell_type": "markdown",
   "id": "9e9eb3ce",
   "metadata": {},
   "source": [
    "### Predictors and Target"
   ]
  },
  {
   "cell_type": "code",
   "execution_count": 244,
   "id": "e3d74edf",
   "metadata": {},
   "outputs": [],
   "source": [
    "X_test = Loans_Test.drop([\"Loan Status_x\"],axis=1)  \n",
    "y_test = Loans_Test[\"Loan Status_x\"]"
   ]
  },
  {
   "cell_type": "markdown",
   "id": "cdd0dd8f",
   "metadata": {},
   "source": [
    "##### The Above Plot shows that our dataset is a class imbalanced dataset"
   ]
  },
  {
   "cell_type": "markdown",
   "id": "f26e154c",
   "metadata": {},
   "source": [
    "# MODEL FITTING"
   ]
  },
  {
   "cell_type": "markdown",
   "id": "869f4056",
   "metadata": {},
   "source": [
    "### LOGISTIC REGRESSION For Class Imbalanced Data"
   ]
  },
  {
   "cell_type": "code",
   "execution_count": null,
   "id": "b028f1f4",
   "metadata": {
    "scrolled": true
   },
   "outputs": [],
   "source": [
    "logr = LogisticRegression()\n",
    "logr.fit(X_train,y_train)\n",
    "pred_test = logr.predict(X_test)   # predictions on transformed validation data\n",
    "\n",
    "F1_score = f1_score((y_test),(pred_test))\n",
    "accuracy = accuracy_score((y_test),(pred_test))\n",
    "auc_roc=roc_auc_score((y_test),(pred_test))\n",
    "Metric=pd.DataFrame({'Logistic Regression': [F1_score,accuracy,auc_roc]},\n",
    "                    index=['F1_score','Accuracy','AUC-ROC'])\n",
    "print(classification_report((y_test),(pred_test)))\n",
    "Metric"
   ]
  },
  {
   "cell_type": "code",
   "execution_count": null,
   "id": "4c7bbc7a",
   "metadata": {},
   "outputs": [],
   "source": [
    "# X_train.columns"
   ]
  },
  {
   "cell_type": "markdown",
   "id": "0f8697ac",
   "metadata": {},
   "source": [
    "### DECISION TREE For Class Imbalanced Data"
   ]
  },
  {
   "cell_type": "code",
   "execution_count": null,
   "id": "92606277",
   "metadata": {},
   "outputs": [],
   "source": [
    "dt = DecisionTreeClassifier()\n",
    "dt.fit(X_train,y_train)\n",
    "pred_test = dt.predict(X_test)   #predictions on transformed validation data\n",
    "\n",
    "F1_score = f1_score((y_test),(pred_test))\n",
    "accuracy = accuracy_score((y_test),(pred_test))\n",
    "auc_roc=roc_auc_score((y_test),(pred_test))\n",
    "Metric=pd.DataFrame({'Logistic Regression': [F1_score,accuracy,auc_roc]},\n",
    "                    index=['F1_score','Accuracy','AUC-ROC'])\n",
    "print(classification_report((y_test),(pred_test)))\n",
    "Metric"
   ]
  },
  {
   "cell_type": "markdown",
   "id": "3a1b68b1",
   "metadata": {},
   "source": [
    "### RANDOM FOREST For Class Imbalanced Data"
   ]
  },
  {
   "cell_type": "code",
   "execution_count": 247,
   "id": "444f14ab",
   "metadata": {},
   "outputs": [
    {
     "name": "stdout",
     "output_type": "stream",
     "text": [
      "              precision    recall  f1-score   support\n",
      "\n",
      "           0       0.45      0.43      0.44     12586\n",
      "           1       0.78      0.79      0.79     31868\n",
      "\n",
      "    accuracy                           0.69     44454\n",
      "   macro avg       0.61      0.61      0.61     44454\n",
      "weighted avg       0.69      0.69      0.69     44454\n",
      "\n"
     ]
    },
    {
     "data": {
      "text/html": [
       "<div>\n",
       "<style scoped>\n",
       "    .dataframe tbody tr th:only-of-type {\n",
       "        vertical-align: middle;\n",
       "    }\n",
       "\n",
       "    .dataframe tbody tr th {\n",
       "        vertical-align: top;\n",
       "    }\n",
       "\n",
       "    .dataframe thead th {\n",
       "        text-align: right;\n",
       "    }\n",
       "</style>\n",
       "<table border=\"1\" class=\"dataframe\">\n",
       "  <thead>\n",
       "    <tr style=\"text-align: right;\">\n",
       "      <th></th>\n",
       "      <th>Random Forest</th>\n",
       "    </tr>\n",
       "  </thead>\n",
       "  <tbody>\n",
       "    <tr>\n",
       "      <th>F1_score</th>\n",
       "      <td>0.786302</td>\n",
       "    </tr>\n",
       "    <tr>\n",
       "      <th>Accuracy</th>\n",
       "      <td>0.690332</td>\n",
       "    </tr>\n",
       "    <tr>\n",
       "      <th>AUC-ROC</th>\n",
       "      <td>0.610372</td>\n",
       "    </tr>\n",
       "  </tbody>\n",
       "</table>\n",
       "</div>"
      ],
      "text/plain": [
       "          Random Forest\n",
       "F1_score       0.786302\n",
       "Accuracy       0.690332\n",
       "AUC-ROC        0.610372"
      ]
     },
     "execution_count": 247,
     "metadata": {},
     "output_type": "execute_result"
    }
   ],
   "source": [
    "RF = RandomForestClassifier()\n",
    "RF.fit(X_train, y_train)\n",
    "pred_test= RF.predict(X_test)\n",
    "F1_score = f1_score((y_test),(pred_test))\n",
    "accuracy = accuracy_score((y_test),(pred_test))\n",
    "auc_roc=roc_auc_score((y_test),(pred_test))\n",
    "Metric=pd.DataFrame({'Random Forest': [F1_score,accuracy,auc_roc]},\n",
    "                    index=['F1_score','Accuracy','AUC-ROC'])\n",
    "print(classification_report((y_test),(pred_test)))\n",
    "Metric"
   ]
  },
  {
   "cell_type": "markdown",
   "id": "7d5bcc3f",
   "metadata": {},
   "source": [
    "### Feature Selection using random forest"
   ]
  },
  {
   "cell_type": "code",
   "execution_count": 250,
   "id": "cd78e934",
   "metadata": {},
   "outputs": [
    {
     "name": "stdout",
     "output_type": "stream",
     "text": [
      "Index(['Credit Score', 'Annual Income', 'Months since last delinquent'], dtype='object')\n"
     ]
    }
   ],
   "source": [
    "sel = SelectFromModel(RandomForestClassifier(n_estimators = 100))\n",
    "sel.fit(X_train, y_train)\n",
    "sel.get_support()\n",
    "selected_feat= X_train.columns[(sel.get_support())]\n",
    "len(selected_feat)\n",
    "print(selected_feat)"
   ]
  },
  {
   "cell_type": "markdown",
   "id": "f3223b51",
   "metadata": {},
   "source": [
    "### RANDOM FOREST For Class Imbalanced Data and Selected Features"
   ]
  },
  {
   "cell_type": "code",
   "execution_count": null,
   "id": "03b2fdf0",
   "metadata": {},
   "outputs": [],
   "source": [
    "X_train=X_train[['Current Loan Amount', 'Credit Score', 'Annual Income', 'Monthly Debt',\n",
    "       'Years of Credit History', 'Months since last delinquent',\n",
    "       'Current Credit Balance', 'Maximum Open Credit']]\n",
    "X_test=X_test[['Current Loan Amount', 'Credit Score', 'Annual Income', 'Monthly Debt',\n",
    "       'Years of Credit History', 'Months since last delinquent',\n",
    "       'Current Credit Balance', 'Maximum Open Credit']]\n",
    "\n",
    "rf = RandomForestClassifier()\n",
    "rf.fit(X_train,y_train)\n",
    "pred_test = rf.predict(X_test)   #predictions on transformed validation data\n",
    "\n",
    "F1_score = f1_score((y_test),(pred_test))\n",
    "accuracy = accuracy_score((y_test),(pred_test))\n",
    "auc_roc=roc_auc_score((y_test),(pred_test))\n",
    "Metric=pd.DataFrame({'Random Forest For Class Imbalanced Data and Selected Features': [F1_score,accuracy,auc_roc]},\n",
    "                    index=['F1_score','Accuracy','AUC-ROC'])\n",
    "print(classification_report((y_test),(pred_test)))\n",
    "Metric"
   ]
  },
  {
   "cell_type": "markdown",
   "id": "4644c858",
   "metadata": {},
   "source": [
    "# CLASS BALANCING USING SMOTE"
   ]
  },
  {
   "cell_type": "code",
   "execution_count": 252,
   "id": "2b3531f4",
   "metadata": {},
   "outputs": [
    {
     "name": "stdout",
     "output_type": "stream",
     "text": [
      "Counter({0: 63737, 1: 63737})\n"
     ]
    }
   ],
   "source": [
    "counter=Counter(y_train)\n",
    "sm = SMOTE(random_state = 2)\n",
    "X_train_sm, y_train_sm = sm.fit_resample(X_train, y_train)\n",
    "counter=Counter(y_train_sm)\n",
    "print(counter)"
   ]
  },
  {
   "cell_type": "markdown",
   "id": "28e4fbe5",
   "metadata": {},
   "source": [
    "### LOGISTIC REGRESSION For Class Balanced Data(Using SMOTE)"
   ]
  },
  {
   "cell_type": "code",
   "execution_count": null,
   "id": "371a412d",
   "metadata": {},
   "outputs": [],
   "source": [
    "logr = linear_model.LogisticRegression()\n",
    "logr.fit(X_train_sm,y_train_sm)\n",
    "pred_test = logr.predict(X_test)   #predictions on transformed validation data\n",
    "\n",
    "F1_score = f1_score((y_test),(pred_test))\n",
    "accuracy = accuracy_score((y_test),(pred_test))\n",
    "auc_roc=roc_auc_score((y_test),(pred_test))\n",
    "Metric=pd.DataFrame({'Logistic Regression with SMOTE': [F1_score,accuracy,auc_roc]},\n",
    "                    index=['F1_score','Accuracy','AUC-ROC'])\n",
    "print(classification_report((y_test),(pred_test)))\n",
    "Metric"
   ]
  },
  {
   "cell_type": "markdown",
   "id": "ad26e2f1",
   "metadata": {},
   "source": [
    "### RANDOM FOREST For Class Balanced Data(Using SMOTE)"
   ]
  },
  {
   "cell_type": "code",
   "execution_count": 254,
   "id": "43c08ed6",
   "metadata": {},
   "outputs": [
    {
     "name": "stdout",
     "output_type": "stream",
     "text": [
      "              precision    recall  f1-score   support\n",
      "\n",
      "           0       0.39      0.58      0.47     12586\n",
      "           1       0.80      0.65      0.71     31868\n",
      "\n",
      "    accuracy                           0.63     44454\n",
      "   macro avg       0.60      0.61      0.59     44454\n",
      "weighted avg       0.68      0.63      0.64     44454\n",
      "\n"
     ]
    },
    {
     "data": {
      "text/html": [
       "<div>\n",
       "<style scoped>\n",
       "    .dataframe tbody tr th:only-of-type {\n",
       "        vertical-align: middle;\n",
       "    }\n",
       "\n",
       "    .dataframe tbody tr th {\n",
       "        vertical-align: top;\n",
       "    }\n",
       "\n",
       "    .dataframe thead th {\n",
       "        text-align: right;\n",
       "    }\n",
       "</style>\n",
       "<table border=\"1\" class=\"dataframe\">\n",
       "  <thead>\n",
       "    <tr style=\"text-align: right;\">\n",
       "      <th></th>\n",
       "      <th>Random Forest with SMOTE</th>\n",
       "    </tr>\n",
       "  </thead>\n",
       "  <tbody>\n",
       "    <tr>\n",
       "      <th>F1_score</th>\n",
       "      <td>0.713359</td>\n",
       "    </tr>\n",
       "    <tr>\n",
       "      <th>Accuracy</th>\n",
       "      <td>0.628065</td>\n",
       "    </tr>\n",
       "    <tr>\n",
       "      <th>AUC-ROC</th>\n",
       "      <td>0.614632</td>\n",
       "    </tr>\n",
       "  </tbody>\n",
       "</table>\n",
       "</div>"
      ],
      "text/plain": [
       "          Random Forest with SMOTE\n",
       "F1_score                  0.713359\n",
       "Accuracy                  0.628065\n",
       "AUC-ROC                   0.614632"
      ]
     },
     "execution_count": 254,
     "metadata": {},
     "output_type": "execute_result"
    }
   ],
   "source": [
    "RF = RandomForestClassifier()\n",
    "RF.fit(X_train_sm, y_train_sm)\n",
    "pred_test= RF.predict(X_test)\n",
    "\n",
    "F1_score = f1_score((y_test),(pred_test))\n",
    "accuracy = accuracy_score((y_test),(pred_test))\n",
    "auc_roc=roc_auc_score((y_test),(pred_test))\n",
    "Metric=pd.DataFrame({'Random Forest with SMOTE': [F1_score,accuracy,auc_roc]},\n",
    "                    index=['F1_score','Accuracy','AUC-ROC'])\n",
    "print(classification_report((y_test),(pred_test)))\n",
    "Metric"
   ]
  },
  {
   "cell_type": "markdown",
   "id": "5b62a8b7",
   "metadata": {},
   "source": [
    "### DECISION TREE For Class Balanced Data(Using SMOTE)"
   ]
  },
  {
   "cell_type": "code",
   "execution_count": null,
   "id": "7030ff4f",
   "metadata": {},
   "outputs": [],
   "source": [
    "dt = DecisionTreeClassifier()\n",
    "dt.fit(X_train_sm,y_train_sm)\n",
    "pred_test = dt.predict(X_test)   #predictions on transformed validation data\n",
    "\n",
    "F1_score = f1_score((y_test),(pred_test))\n",
    "accuracy = accuracy_score((y_test),(pred_test))\n",
    "auc_roc=roc_auc_score((y_test),(pred_test))\n",
    "Metric=pd.DataFrame({'Decision Tree with SMOTE': [F1_score,accuracy,auc_roc]},\n",
    "                    index=['F1_score','Accuracy','AUC-ROC'])\n",
    "print(classification_report((y_test),(pred_test)))\n",
    "Metric"
   ]
  },
  {
   "cell_type": "markdown",
   "id": "2c968d29",
   "metadata": {},
   "source": [
    "### Feature Selection using random forest for class balanced data"
   ]
  },
  {
   "cell_type": "code",
   "execution_count": 256,
   "id": "e318da0d",
   "metadata": {},
   "outputs": [
    {
     "name": "stdout",
     "output_type": "stream",
     "text": [
      "Index(['Current Loan Amount', 'Credit Score', 'Months since last delinquent'], dtype='object')\n"
     ]
    }
   ],
   "source": [
    "sel = SelectFromModel(RandomForestClassifier(n_estimators = 100))\n",
    "sel.fit(X_train_sm, y_train_sm)\n",
    "sel.get_support()\n",
    "selected_feat= X_train_sm.columns[(sel.get_support())]\n",
    "len(selected_feat)\n",
    "print(selected_feat)"
   ]
  },
  {
   "cell_type": "markdown",
   "id": "f99c1913",
   "metadata": {},
   "source": [
    "### RANDOM FOREST For Class Balanced Data(Using SMOTE) and Selected Features"
   ]
  },
  {
   "cell_type": "code",
   "execution_count": null,
   "id": "1076b35f",
   "metadata": {},
   "outputs": [],
   "source": [
    "X_train_sm=X_train_sm[['Credit Score', 'Monthly Debt','Months since last delinquent']]\n",
    "X_test=X_test[['Credit Score', 'Monthly Debt','Months since last delinquent']]\n",
    "\n",
    "rf = RandomForestClassifier()\n",
    "rf.fit(X_train_sm,y_train_sm)\n",
    "pred_test = rf.predict(X_test)   #predictions on transformed validation data\n",
    "\n",
    "F1_score = f1_score((y_test),(pred_test))\n",
    "accuracy = accuracy_score((y_test),(pred_test))\n",
    "auc_roc=roc_auc_score((y_test),(pred_test))\n",
    "Metric=pd.DataFrame({'Random Forest with Selected Features': [F1_score,accuracy,auc_roc]},\n",
    "                    index=['F1_score','Accuracy','AUC-ROC'])\n",
    "print(classification_report((y_test),(pred_test)))\n",
    "Metric"
   ]
  },
  {
   "cell_type": "code",
   "execution_count": null,
   "id": "fcc6e4fc",
   "metadata": {},
   "outputs": [],
   "source": []
  }
 ],
 "metadata": {
  "kernelspec": {
   "display_name": "Python 3 (ipykernel)",
   "language": "python",
   "name": "python3"
  },
  "language_info": {
   "codemirror_mode": {
    "name": "ipython",
    "version": 3
   },
   "file_extension": ".py",
   "mimetype": "text/x-python",
   "name": "python",
   "nbconvert_exporter": "python",
   "pygments_lexer": "ipython3",
   "version": "3.9.12"
  }
 },
 "nbformat": 4,
 "nbformat_minor": 5
}
